{
  "nbformat": 4,
  "nbformat_minor": 0,
  "metadata": {
    "colab": {
      "provenance": []
    },
    "kernelspec": {
      "name": "python3",
      "display_name": "Python 3"
    },
    "language_info": {
      "name": "python"
    },
    "accelerator": "GPU",
    "gpuClass": "standard"
  },
  "cells": [
    {
      "cell_type": "code",
      "source": [
        "\"\"\"import zipfile\n",
        "fold='/content/drive/MyDrive/NNDL Project/Released_Data-20221213T224609Z-001.zip'\n",
        "!unzip -u \"/content/drive/MyDrive/NNDL Project/Released_Data-20221213T224609Z-001.zip\" -d \"/content/drive/MyDrive/NNDL Project/\"\n",
        "\n",
        "\"\"\""
      ],
      "metadata": {
        "id": "-9nBSxs9XSXN"
      },
      "execution_count": null,
      "outputs": []
    },
    {
      "cell_type": "code",
      "source": [
        "\"\"\"\n",
        "!unzip -u \"/content/drive/MyDrive/NNDL Project/Released_Data/test_shuffle.zip\" -d \"/content/drive/MyDrive/NNDL Project/\"\n",
        "\"\"\""
      ],
      "metadata": {
        "id": "VfTUOL3NGSKl"
      },
      "execution_count": null,
      "outputs": []
    },
    {
      "cell_type": "code",
      "source": [
        "\"\"\"\n",
        "!unzip -u \"/content/drive/MyDrive/NNDL Project/Released_Data/train_shuffle.zip\" -d \"/content/drive/MyDrive/NNDL Project/\"\n",
        "\"\"\""
      ],
      "metadata": {
        "id": "zjeoOWiUrdT8"
      },
      "execution_count": null,
      "outputs": []
    },
    {
      "cell_type": "code",
      "source": [
        "#loading data\n",
        "import os\n",
        "import sys\n",
        "import numpy as np\n",
        "import pandas as pd\n",
        "\n",
        "full_imgs = np.array(os.listdir('/content/drive/MyDrive/NNDL Project/train_shuffle'))\n",
        "full_labels = pd.read_csv('/content/drive/MyDrive/NNDL Project/Released_Data/train_data.csv').to_numpy()\n",
        "\n",
        "labels_list = [set(),set(),set()]\n",
        "\n",
        "#prepare lists based on the super classes\n",
        "labels_list = [{}, {}, {}]\n",
        "val_labels_list = [{}, {}, {}]\n",
        "\n",
        "for i in range(len(full_labels)):\n",
        "    if full_labels[i][2] in labels_list[full_labels[i][1]]:\n",
        "        labels_list[full_labels[i][1]][full_labels[i][2]] += 1\n",
        "    else:\n",
        "        labels_list[full_labels[i][1]][full_labels[i][2]] = 1\n",
        "        val_labels_list[full_labels[i][1]][full_labels[i][2]] = 0\n",
        "\n",
        "# Check the number of times each sub class appears\n",
        "print(dict(sorted(labels_list[0].items(), key=lambda item: item[1])))\n",
        "print(dict(sorted(labels_list[1].items(), key=lambda item: item[1])))\n",
        "print(dict(sorted(labels_list[2].items(), key=lambda item: item[1])))\n",
        "\n",
        "#Splitting the train and validation datasets (90 - 10 split)\n",
        "train_imgs = []\n",
        "val_imgs = []\n",
        "\n",
        "for i in range(len(full_labels)):\n",
        "    if val_labels_list[full_labels[i][1]][full_labels[i][2]] <= (0.1)*(labels_list[full_labels[i][1]][full_labels[i][2]]):\n",
        "        val_labels_list[full_labels[i][1]][full_labels[i][2]] += 1\n",
        "        val_imgs.append(full_labels[i][0])\n",
        "    else:\n",
        "        train_imgs.append(full_labels[i][0])\n",
        "\n",
        "#Check if there is any common image between training and validation datasets\n",
        "common_names = [name for name in train_imgs if name in val_imgs]\n",
        "print(\"Common names: \", common_names)\n",
        "\n",
        "train_data = full_labels[np.isin(full_labels[:, 0], train_imgs)]\n",
        "val_data = full_labels[np.isin(full_labels[:, 0], val_imgs)]\n",
        "\n",
        "#Check if there is any name missing from the training dataset\n",
        "ver_train_names = train_data[:, 0]\n",
        "error_names = [name for name in ver_train_names if name not in train_imgs]\n",
        "print(\"Error names: \", error_names)\n",
        "\n",
        "print(\"Total number of images: \", len(full_imgs))\n",
        "print(\"Number of training images: \", train_data.shape)\n",
        "print(\"Number of validation images: \", val_data.shape)"
      ],
      "metadata": {
        "colab": {
          "base_uri": "https://localhost:8080/"
        },
        "id": "gTGwCrA-q_dG",
        "outputId": "2b614fae-7bbe-462f-9855-66e6ae5b3338"
      },
      "execution_count": null,
      "outputs": [
        {
          "output_type": "stream",
          "name": "stdout",
          "text": [
            "{74: 51, 11: 51, 14: 51, 5: 51, 41: 51, 16: 51, 85: 51, 52: 51, 40: 51, 57: 51, 79: 51, 82: 51, 42: 51, 88: 51, 8: 51, 26: 51, 20: 51, 60: 51, 61: 51, 81: 51, 84: 51, 19: 51, 24: 100, 30: 100, 27: 100, 6: 100, 28: 100, 76: 100, 86: 100, 4: 100}\n",
            "{12: 50, 38: 50, 10: 50, 45: 50, 80: 50, 87: 50, 23: 50, 32: 50, 9: 50, 17: 50, 2: 50, 55: 50, 78: 50, 54: 50, 0: 50, 25: 50, 63: 100, 49: 100, 22: 100, 18: 100, 7: 100, 66: 100, 71: 100, 37: 100, 65: 100, 31: 100, 21: 100, 46: 100, 36: 100}\n",
            "{48: 50, 68: 50, 69: 50, 75: 50, 3: 50, 56: 50, 33: 50, 34: 50, 39: 50, 13: 50, 15: 50, 72: 100, 43: 100, 1: 100, 53: 100, 67: 100, 58: 100, 59: 100, 35: 100, 70: 100, 73: 100, 77: 100, 51: 100, 64: 100, 44: 100, 29: 100, 50: 100, 83: 100, 62: 100, 47: 100}\n",
            "Common names:  []\n",
            "Error names:  []\n",
            "Total number of images:  6472\n",
            "Number of training images:  (5738, 3)\n",
            "Number of validation images:  (734, 3)\n"
          ]
        }
      ]
    },
    {
      "cell_type": "code",
      "source": [
        "full_imgs[0]"
      ],
      "metadata": {
        "colab": {
          "base_uri": "https://localhost:8080/",
          "height": 36
        },
        "id": "KuZw-2-nwo5u",
        "outputId": "5e2d1a7b-2df6-49e7-96bc-18ece9ef7cbe"
      },
      "execution_count": null,
      "outputs": [
        {
          "output_type": "execute_result",
          "data": {
            "text/plain": [
              "'5824.jpg'"
            ],
            "application/vnd.google.colaboratory.intrinsic+json": {
              "type": "string"
            }
          },
          "metadata": {},
          "execution_count": 2
        }
      ]
    },
    {
      "cell_type": "code",
      "source": [
        "train_data[0][0]"
      ],
      "metadata": {
        "colab": {
          "base_uri": "https://localhost:8080/",
          "height": 36
        },
        "id": "WdY0IKEcsT1N",
        "outputId": "887b9210-9b44-4875-8160-1054b58dd831"
      },
      "execution_count": null,
      "outputs": [
        {
          "output_type": "execute_result",
          "data": {
            "text/plain": [
              "'328.jpg'"
            ],
            "application/vnd.google.colaboratory.intrinsic+json": {
              "type": "string"
            }
          },
          "metadata": {},
          "execution_count": 7
        }
      ]
    },
    {
      "cell_type": "code",
      "source": [
        "# import the modules\n",
        "import os\n",
        "from os import listdir\n",
        "import sys\n",
        "import pandas as pd\n",
        "import cv2\n",
        " \n",
        "# get the path or directory\n",
        "folder_dir = \"/content/drive/MyDrive/NNDL Project/train_shuffle\"\n",
        "X_train=[]\n",
        "Y_train=[]\n",
        "Y_train2=[]\n",
        "\n",
        "for i in train_data:\n",
        "  name=i[0]\n",
        "  img = cv2.imread(os.path.join(folder_dir, name))\n",
        "  img=img.flatten()/255\n",
        "  X_train.append(img)\n",
        "  Y_train.append(i[1])\n",
        "  Y_train2.append(i[2])\n",
        "\n",
        "\n",
        "\n",
        "\n"
      ],
      "metadata": {
        "id": "XVcE1rEguT_y"
      },
      "execution_count": null,
      "outputs": []
    },
    {
      "cell_type": "code",
      "source": [
        "X_val=[]\n",
        "Y_val=[]\n",
        "Y_val2=[]\n",
        "for i in val_data:\n",
        "  name=i[0]\n",
        "  img = cv2.imread(os.path.join(folder_dir, name))\n",
        "  img=img.flatten()/255\n",
        "  X_val.append(img)\n",
        "  Y_val.append(i[1])\n",
        "  Y_val2.append(i[2])\n",
        "\n"
      ],
      "metadata": {
        "id": "cEDtfL3g3Wkw"
      },
      "execution_count": null,
      "outputs": []
    },
    {
      "cell_type": "code",
      "source": [
        "folder_dir = \"/content/drive/MyDrive/NNDL Project/test_shuffle\"\n",
        "os.listdir(folder_dir)"
      ],
      "metadata": {
        "id": "DgrLaEZhG5Nc"
      },
      "execution_count": null,
      "outputs": []
    },
    {
      "cell_type": "code",
      "source": [
        "folder_dir = \"/content/drive/MyDrive/NNDL Project/test_shuffle\"\n",
        "X_test=[]\n",
        "for images in os.listdir(folder_dir):\n",
        "  img = cv2.imread(os.path.join(folder_dir, images))\n",
        "  img=img.flatten()/255\n",
        "  X_test.append(img)\n",
        "\n",
        "\n"
      ],
      "metadata": {
        "id": "WU2e0NtuGkqD"
      },
      "execution_count": null,
      "outputs": []
    },
    {
      "cell_type": "code",
      "source": [
        "len(X_train)"
      ],
      "metadata": {
        "colab": {
          "base_uri": "https://localhost:8080/"
        },
        "id": "1_npSv1b3z8M",
        "outputId": "ab1ee4f4-5db8-408e-db20-176ecc5928af"
      },
      "execution_count": null,
      "outputs": [
        {
          "output_type": "execute_result",
          "data": {
            "text/plain": [
              "5738"
            ]
          },
          "metadata": {},
          "execution_count": 4
        }
      ]
    },
    {
      "cell_type": "code",
      "source": [
        "type(Y_train)\n",
        "Y_train=np.array(Y_train)\n",
        "type(Y_train)"
      ],
      "metadata": {
        "colab": {
          "base_uri": "https://localhost:8080/"
        },
        "id": "WUb18aWW62y7",
        "outputId": "fa967fb4-3edd-4f6b-a9ca-cd67d1092f79"
      },
      "execution_count": null,
      "outputs": [
        {
          "output_type": "execute_result",
          "data": {
            "text/plain": [
              "numpy.ndarray"
            ]
          },
          "metadata": {},
          "execution_count": 5
        }
      ]
    },
    {
      "cell_type": "code",
      "source": [
        "Y_train2=np.array(Y_train2)"
      ],
      "metadata": {
        "id": "Ipj6aLck8H6C"
      },
      "execution_count": null,
      "outputs": []
    },
    {
      "cell_type": "code",
      "source": [
        "from keras.utils  import to_categorical\n",
        "from keras.models import Sequential\n",
        "from keras.layers import Dense, Conv2D, MaxPooling2D, Flatten, Dropout\n"
      ],
      "metadata": {
        "id": "ZhCH6bbs5YWW"
      },
      "execution_count": null,
      "outputs": []
    },
    {
      "cell_type": "code",
      "source": [
        "Y_cat_train=to_categorical(Y_train2)"
      ],
      "metadata": {
        "id": "xIqz6l2y729x"
      },
      "execution_count": null,
      "outputs": []
    },
    {
      "cell_type": "code",
      "source": [
        "Y_cat_train.shape"
      ],
      "metadata": {
        "colab": {
          "base_uri": "https://localhost:8080/"
        },
        "id": "AayPg_9E8TsG",
        "outputId": "c0087ddc-c60a-48f4-8989-48efb28c540b"
      },
      "execution_count": null,
      "outputs": [
        {
          "output_type": "execute_result",
          "data": {
            "text/plain": [
              "(5738, 89)"
            ]
          },
          "metadata": {},
          "execution_count": 14
        }
      ]
    },
    {
      "cell_type": "code",
      "source": [
        "Y_cat_val=to_categorical(np.array(Y_val2))"
      ],
      "metadata": {
        "id": "dikagy3L9ZpB"
      },
      "execution_count": null,
      "outputs": []
    },
    {
      "cell_type": "code",
      "source": [
        "Y_cat_val.shape"
      ],
      "metadata": {
        "colab": {
          "base_uri": "https://localhost:8080/"
        },
        "id": "fr1ZHS-CAV27",
        "outputId": "04cd8954-9753-4217-dcb6-f298e9aae272"
      },
      "execution_count": null,
      "outputs": [
        {
          "output_type": "execute_result",
          "data": {
            "text/plain": [
              "(734, 89)"
            ]
          },
          "metadata": {},
          "execution_count": 16
        }
      ]
    },
    {
      "cell_type": "code",
      "source": [
        "X_train=np.array(X_train)\n",
        "X_val=np.array(X_val)"
      ],
      "metadata": {
        "id": "ydUXbu0y92PN"
      },
      "execution_count": null,
      "outputs": []
    },
    {
      "cell_type": "code",
      "source": [
        "print(X_train.shape)\n",
        "print(X_val.shape)"
      ],
      "metadata": {
        "colab": {
          "base_uri": "https://localhost:8080/"
        },
        "id": "zPZDZycl-YIB",
        "outputId": "f330355d-9027-43e3-81e9-f3cd69387b12"
      },
      "execution_count": null,
      "outputs": [
        {
          "output_type": "stream",
          "name": "stdout",
          "text": [
            "(5738, 192)\n",
            "(734, 192)\n"
          ]
        }
      ]
    },
    {
      "cell_type": "code",
      "source": [
        "from keras.layers import LeakyReLU\n",
        "model=Sequential()\n",
        "model.add(Dense(4096,input_shape = (192,),activation = 'relu'))\n",
        "model.add(LeakyReLU(alpha=0.05))\n",
        "model.add(Dense(2048))\n",
        "model.add(LeakyReLU(alpha=0.05))\n",
        "model.add(Dense(1024))\n",
        "model.add(LeakyReLU(alpha=0.05))\n",
        "model.add(Dense(256))\n",
        "model.add(LeakyReLU(alpha=0.05))\n",
        "model.add(Dense(128))\n",
        "model.add(LeakyReLU(alpha=0.05))\n",
        "model.add(Dense(64))\n",
        "model.add(LeakyReLU(alpha=0.05))\n",
        "model.add(Dense(16))\n",
        "model.add(LeakyReLU(alpha=0.05))\n",
        "model.add(Dense(180))\n",
        "model.add(LeakyReLU(alpha=0.05))\n",
        "#model.add(Dense(3,activation='relu'))\n",
        "model.add(Dense(3,activation='softmax'))\n"
      ],
      "metadata": {
        "id": "uRs2t5woKo9y"
      },
      "execution_count": null,
      "outputs": []
    },
    {
      "cell_type": "code",
      "source": [
        "from keras.layers import LeakyReLU\n",
        "model=Sequential()\n",
        "model.add(Dense(256,input_shape = (192,),activation = 'relu'))\n",
        "model.add(Dropout(0.15))\n",
        "#model.add(Dense(128, activation = 'relu'))\n",
        "model.add(Dense(512, activation = 'relu'))\n",
        "#model.add(Dropout(0.15))\n",
        "#model.add(Dense(1024, activation = 'relu'))\n",
        "#model.add(Dropout(0.09))\n",
        "#model.add(Dense(2048, activation = 'relu'))\n",
        "#model.add(Dropout(0.09))\n",
        "#model.add(Dense(2048, activation = 'relu'))\n",
        "model.add(Dropout(0.2))\n",
        "#model.add(Dense(1024, activation = 'relu'))\n",
        "#model.add(Dropout(0.15))\n",
        "model.add(Dense(512, activation = 'relu'))\n",
        "model.add(Dropout(0.2))\n",
        "model.add(Dense(256, activation = 'relu'))\n",
        "model.add(Dropout(0.2))\n",
        "#model.add(Dense(64, activation = 'relu'))\n",
        "#model.add(Dense(16, activation = 'relu'))\n",
        "#model.add(Dense(178,activation='relu'))\n",
        "\n",
        "#model.add(Dense(16, activation = 'relu'))\n",
        "#model.add(Dense(8, activation = 'relu'))\n",
        "#model.add(Dense(3,activation='relu'))\n",
        "\n",
        "model.add(Dense(89,activation='softmax'))\n"
      ],
      "metadata": {
        "id": "g13CRAY86K5f"
      },
      "execution_count": null,
      "outputs": []
    },
    {
      "cell_type": "code",
      "source": [
        "model.summary()"
      ],
      "metadata": {
        "colab": {
          "base_uri": "https://localhost:8080/"
        },
        "id": "y_SCE0U07GbZ",
        "outputId": "cac3921e-d967-461a-c658-b988daa703e0"
      },
      "execution_count": null,
      "outputs": [
        {
          "output_type": "stream",
          "name": "stdout",
          "text": [
            "Model: \"sequential_26\"\n",
            "_________________________________________________________________\n",
            " Layer (type)                Output Shape              Param #   \n",
            "=================================================================\n",
            " dense_209 (Dense)           (None, 256)               49408     \n",
            "                                                                 \n",
            " dropout_103 (Dropout)       (None, 256)               0         \n",
            "                                                                 \n",
            " dense_210 (Dense)           (None, 512)               131584    \n",
            "                                                                 \n",
            " dropout_104 (Dropout)       (None, 512)               0         \n",
            "                                                                 \n",
            " dense_211 (Dense)           (None, 512)               262656    \n",
            "                                                                 \n",
            " dropout_105 (Dropout)       (None, 512)               0         \n",
            "                                                                 \n",
            " dense_212 (Dense)           (None, 256)               131328    \n",
            "                                                                 \n",
            " dropout_106 (Dropout)       (None, 256)               0         \n",
            "                                                                 \n",
            " dense_213 (Dense)           (None, 89)                22873     \n",
            "                                                                 \n",
            "=================================================================\n",
            "Total params: 597,849\n",
            "Trainable params: 597,849\n",
            "Non-trainable params: 0\n",
            "_________________________________________________________________\n"
          ]
        }
      ]
    },
    {
      "cell_type": "code",
      "source": [
        "from keras.optimizers import Adam\n",
        "adam=Adam(\n",
        "    learning_rate=0.0003,\n",
        "    beta_1=0.95,\n",
        "    beta_2=0.999,\n",
        "    epsilon=1e-07,\n",
        "    amsgrad=True,\n",
        "\n",
        ")"
      ],
      "metadata": {
        "id": "sj6i2M0eehWo"
      },
      "execution_count": null,
      "outputs": []
    },
    {
      "cell_type": "code",
      "source": [],
      "metadata": {
        "id": "Mg-rmMlgqWm2"
      },
      "execution_count": null,
      "outputs": []
    },
    {
      "cell_type": "code",
      "source": [
        "model.compile(loss = \"categorical_crossentropy\", optimizer = adam, metrics = [\"accuracy\"])\n",
        "model.fit(X_train, Y_cat_train, validation_data = (X_val, Y_cat_val), epochs =250 )"
      ],
      "metadata": {
        "colab": {
          "base_uri": "https://localhost:8080/"
        },
        "id": "qnKRZEWG7j8c",
        "outputId": "9f25750a-283f-498f-b92d-f1ed1ca1f08e"
      },
      "execution_count": null,
      "outputs": [
        {
          "output_type": "stream",
          "name": "stdout",
          "text": [
            "Epoch 1/250\n",
            "180/180 [==============================] - 1s 5ms/step - loss: 4.4643 - accuracy: 0.0166 - val_loss: 4.4267 - val_accuracy: 0.0218\n",
            "Epoch 2/250\n",
            "180/180 [==============================] - 1s 4ms/step - loss: 4.3692 - accuracy: 0.0308 - val_loss: 4.2814 - val_accuracy: 0.0395\n",
            "Epoch 3/250\n",
            "180/180 [==============================] - 1s 4ms/step - loss: 4.1986 - accuracy: 0.0507 - val_loss: 4.1339 - val_accuracy: 0.0586\n",
            "Epoch 4/250\n",
            "180/180 [==============================] - 1s 4ms/step - loss: 4.0865 - accuracy: 0.0559 - val_loss: 4.0223 - val_accuracy: 0.0708\n",
            "Epoch 5/250\n",
            "180/180 [==============================] - 1s 4ms/step - loss: 3.9891 - accuracy: 0.0695 - val_loss: 3.9580 - val_accuracy: 0.0763\n",
            "Epoch 6/250\n",
            "180/180 [==============================] - 1s 4ms/step - loss: 3.8939 - accuracy: 0.0873 - val_loss: 3.8606 - val_accuracy: 0.0940\n",
            "Epoch 7/250\n",
            "180/180 [==============================] - 1s 4ms/step - loss: 3.8033 - accuracy: 0.0979 - val_loss: 3.7702 - val_accuracy: 0.0954\n",
            "Epoch 8/250\n",
            "180/180 [==============================] - 1s 4ms/step - loss: 3.7174 - accuracy: 0.1049 - val_loss: 3.7424 - val_accuracy: 0.1022\n",
            "Epoch 9/250\n",
            "180/180 [==============================] - 1s 4ms/step - loss: 3.6622 - accuracy: 0.1145 - val_loss: 3.6717 - val_accuracy: 0.1063\n",
            "Epoch 10/250\n",
            "180/180 [==============================] - 1s 4ms/step - loss: 3.6156 - accuracy: 0.1176 - val_loss: 3.6504 - val_accuracy: 0.0981\n",
            "Epoch 11/250\n",
            "180/180 [==============================] - 1s 4ms/step - loss: 3.5467 - accuracy: 0.1283 - val_loss: 3.6200 - val_accuracy: 0.1185\n",
            "Epoch 12/250\n",
            "180/180 [==============================] - 1s 4ms/step - loss: 3.4988 - accuracy: 0.1401 - val_loss: 3.5968 - val_accuracy: 0.1226\n",
            "Epoch 13/250\n",
            "180/180 [==============================] - 1s 4ms/step - loss: 3.4502 - accuracy: 0.1446 - val_loss: 3.5458 - val_accuracy: 0.1199\n",
            "Epoch 14/250\n",
            "180/180 [==============================] - 1s 4ms/step - loss: 3.4033 - accuracy: 0.1574 - val_loss: 3.5276 - val_accuracy: 0.1267\n",
            "Epoch 15/250\n",
            "180/180 [==============================] - 1s 4ms/step - loss: 3.3552 - accuracy: 0.1610 - val_loss: 3.5274 - val_accuracy: 0.1267\n",
            "Epoch 16/250\n",
            "180/180 [==============================] - 1s 5ms/step - loss: 3.3011 - accuracy: 0.1664 - val_loss: 3.5042 - val_accuracy: 0.1308\n",
            "Epoch 17/250\n",
            "180/180 [==============================] - 1s 4ms/step - loss: 3.2758 - accuracy: 0.1720 - val_loss: 3.4798 - val_accuracy: 0.1213\n",
            "Epoch 18/250\n",
            "180/180 [==============================] - 1s 4ms/step - loss: 3.2269 - accuracy: 0.1842 - val_loss: 3.4282 - val_accuracy: 0.1322\n",
            "Epoch 19/250\n",
            "180/180 [==============================] - 1s 4ms/step - loss: 3.1889 - accuracy: 0.1875 - val_loss: 3.4239 - val_accuracy: 0.1485\n",
            "Epoch 20/250\n",
            "180/180 [==============================] - 1s 4ms/step - loss: 3.1539 - accuracy: 0.1884 - val_loss: 3.4804 - val_accuracy: 0.1458\n",
            "Epoch 21/250\n",
            "180/180 [==============================] - 1s 4ms/step - loss: 3.1148 - accuracy: 0.1997 - val_loss: 3.4122 - val_accuracy: 0.1362\n",
            "Epoch 22/250\n",
            "180/180 [==============================] - 1s 4ms/step - loss: 3.0787 - accuracy: 0.2102 - val_loss: 3.3681 - val_accuracy: 0.1390\n",
            "Epoch 23/250\n",
            "180/180 [==============================] - 1s 4ms/step - loss: 3.0425 - accuracy: 0.2124 - val_loss: 3.3674 - val_accuracy: 0.1512\n",
            "Epoch 24/250\n",
            "180/180 [==============================] - 1s 4ms/step - loss: 3.0254 - accuracy: 0.2138 - val_loss: 3.4280 - val_accuracy: 0.1471\n",
            "Epoch 25/250\n",
            "180/180 [==============================] - 1s 4ms/step - loss: 2.9852 - accuracy: 0.2185 - val_loss: 3.3495 - val_accuracy: 0.1512\n",
            "Epoch 26/250\n",
            "180/180 [==============================] - 1s 4ms/step - loss: 2.9446 - accuracy: 0.2318 - val_loss: 3.3504 - val_accuracy: 0.1444\n",
            "Epoch 27/250\n",
            "180/180 [==============================] - 1s 4ms/step - loss: 2.9052 - accuracy: 0.2332 - val_loss: 3.3291 - val_accuracy: 0.1567\n",
            "Epoch 28/250\n",
            "180/180 [==============================] - 1s 4ms/step - loss: 2.8792 - accuracy: 0.2456 - val_loss: 3.3386 - val_accuracy: 0.1567\n",
            "Epoch 29/250\n",
            "180/180 [==============================] - 1s 4ms/step - loss: 2.8567 - accuracy: 0.2515 - val_loss: 3.3231 - val_accuracy: 0.1540\n",
            "Epoch 30/250\n",
            "180/180 [==============================] - 1s 4ms/step - loss: 2.8278 - accuracy: 0.2551 - val_loss: 3.3081 - val_accuracy: 0.1608\n",
            "Epoch 31/250\n",
            "180/180 [==============================] - 1s 4ms/step - loss: 2.7738 - accuracy: 0.2576 - val_loss: 3.3250 - val_accuracy: 0.1635\n",
            "Epoch 32/250\n",
            "180/180 [==============================] - 1s 4ms/step - loss: 2.7482 - accuracy: 0.2694 - val_loss: 3.3443 - val_accuracy: 0.1512\n",
            "Epoch 33/250\n",
            "180/180 [==============================] - 1s 4ms/step - loss: 2.7412 - accuracy: 0.2673 - val_loss: 3.2918 - val_accuracy: 0.1649\n",
            "Epoch 34/250\n",
            "180/180 [==============================] - 1s 4ms/step - loss: 2.7021 - accuracy: 0.2825 - val_loss: 3.3276 - val_accuracy: 0.1649\n",
            "Epoch 35/250\n",
            "180/180 [==============================] - 1s 4ms/step - loss: 2.6913 - accuracy: 0.2792 - val_loss: 3.3139 - val_accuracy: 0.1553\n",
            "Epoch 36/250\n",
            "180/180 [==============================] - 1s 4ms/step - loss: 2.6433 - accuracy: 0.2855 - val_loss: 3.3239 - val_accuracy: 0.1553\n",
            "Epoch 37/250\n",
            "180/180 [==============================] - 1s 4ms/step - loss: 2.6096 - accuracy: 0.2942 - val_loss: 3.3313 - val_accuracy: 0.1526\n",
            "Epoch 38/250\n",
            "180/180 [==============================] - 1s 4ms/step - loss: 2.5946 - accuracy: 0.2947 - val_loss: 3.3178 - val_accuracy: 0.1567\n",
            "Epoch 39/250\n",
            "180/180 [==============================] - 1s 4ms/step - loss: 2.5681 - accuracy: 0.3034 - val_loss: 3.3357 - val_accuracy: 0.1635\n",
            "Epoch 40/250\n",
            "180/180 [==============================] - 1s 4ms/step - loss: 2.5372 - accuracy: 0.3081 - val_loss: 3.3098 - val_accuracy: 0.1649\n",
            "Epoch 41/250\n",
            "180/180 [==============================] - 1s 4ms/step - loss: 2.5007 - accuracy: 0.3200 - val_loss: 3.3019 - val_accuracy: 0.1676\n",
            "Epoch 42/250\n",
            "180/180 [==============================] - 1s 4ms/step - loss: 2.4773 - accuracy: 0.3292 - val_loss: 3.3588 - val_accuracy: 0.1621\n",
            "Epoch 43/250\n",
            "180/180 [==============================] - 1s 4ms/step - loss: 2.4675 - accuracy: 0.3175 - val_loss: 3.3069 - val_accuracy: 0.1608\n",
            "Epoch 44/250\n",
            "180/180 [==============================] - 1s 4ms/step - loss: 2.4431 - accuracy: 0.3287 - val_loss: 3.3142 - val_accuracy: 0.1689\n",
            "Epoch 45/250\n",
            "180/180 [==============================] - 1s 4ms/step - loss: 2.4014 - accuracy: 0.3433 - val_loss: 3.3093 - val_accuracy: 0.1662\n",
            "Epoch 46/250\n",
            "180/180 [==============================] - 1s 4ms/step - loss: 2.3705 - accuracy: 0.3412 - val_loss: 3.3168 - val_accuracy: 0.1798\n",
            "Epoch 47/250\n",
            "180/180 [==============================] - 1s 4ms/step - loss: 2.3459 - accuracy: 0.3479 - val_loss: 3.3437 - val_accuracy: 0.1771\n",
            "Epoch 48/250\n",
            "180/180 [==============================] - 1s 4ms/step - loss: 2.3025 - accuracy: 0.3519 - val_loss: 3.3522 - val_accuracy: 0.1744\n",
            "Epoch 49/250\n",
            "180/180 [==============================] - 1s 4ms/step - loss: 2.2831 - accuracy: 0.3670 - val_loss: 3.3483 - val_accuracy: 0.1635\n",
            "Epoch 50/250\n",
            "180/180 [==============================] - 1s 4ms/step - loss: 2.2724 - accuracy: 0.3688 - val_loss: 3.3596 - val_accuracy: 0.1771\n",
            "Epoch 51/250\n",
            "180/180 [==============================] - 1s 4ms/step - loss: 2.2356 - accuracy: 0.3782 - val_loss: 3.3480 - val_accuracy: 0.1839\n",
            "Epoch 52/250\n",
            "180/180 [==============================] - 1s 4ms/step - loss: 2.2351 - accuracy: 0.3876 - val_loss: 3.3824 - val_accuracy: 0.1757\n",
            "Epoch 53/250\n",
            "180/180 [==============================] - 1s 6ms/step - loss: 2.2001 - accuracy: 0.3820 - val_loss: 3.3968 - val_accuracy: 0.1621\n",
            "Epoch 54/250\n",
            "180/180 [==============================] - 1s 6ms/step - loss: 2.1732 - accuracy: 0.3888 - val_loss: 3.3756 - val_accuracy: 0.1717\n",
            "Epoch 55/250\n",
            "180/180 [==============================] - 1s 6ms/step - loss: 2.1411 - accuracy: 0.4014 - val_loss: 3.3595 - val_accuracy: 0.1771\n",
            "Epoch 56/250\n",
            "180/180 [==============================] - 1s 5ms/step - loss: 2.1179 - accuracy: 0.3947 - val_loss: 3.3629 - val_accuracy: 0.1744\n",
            "Epoch 57/250\n",
            "180/180 [==============================] - 1s 4ms/step - loss: 2.1038 - accuracy: 0.3972 - val_loss: 3.3657 - val_accuracy: 0.1649\n",
            "Epoch 58/250\n",
            "180/180 [==============================] - 1s 4ms/step - loss: 2.0918 - accuracy: 0.4116 - val_loss: 3.3828 - val_accuracy: 0.1907\n",
            "Epoch 59/250\n",
            "180/180 [==============================] - 1s 4ms/step - loss: 2.0711 - accuracy: 0.4219 - val_loss: 3.3982 - val_accuracy: 0.1826\n",
            "Epoch 60/250\n",
            "180/180 [==============================] - 1s 4ms/step - loss: 2.0179 - accuracy: 0.4278 - val_loss: 3.4101 - val_accuracy: 0.1826\n",
            "Epoch 61/250\n",
            "180/180 [==============================] - 1s 4ms/step - loss: 2.0213 - accuracy: 0.4216 - val_loss: 3.4527 - val_accuracy: 0.1826\n",
            "Epoch 62/250\n",
            "180/180 [==============================] - 1s 4ms/step - loss: 1.9772 - accuracy: 0.4324 - val_loss: 3.4377 - val_accuracy: 0.1880\n",
            "Epoch 63/250\n",
            "180/180 [==============================] - 1s 4ms/step - loss: 1.9586 - accuracy: 0.4453 - val_loss: 3.4422 - val_accuracy: 0.1785\n",
            "Epoch 64/250\n",
            "180/180 [==============================] - 1s 4ms/step - loss: 1.9389 - accuracy: 0.4463 - val_loss: 3.4632 - val_accuracy: 0.1689\n",
            "Epoch 65/250\n",
            "180/180 [==============================] - 1s 6ms/step - loss: 1.9360 - accuracy: 0.4434 - val_loss: 3.4789 - val_accuracy: 0.1839\n",
            "Epoch 66/250\n",
            "180/180 [==============================] - 1s 6ms/step - loss: 1.8942 - accuracy: 0.4529 - val_loss: 3.4662 - val_accuracy: 0.1894\n",
            "Epoch 67/250\n",
            "180/180 [==============================] - 1s 4ms/step - loss: 1.8831 - accuracy: 0.4535 - val_loss: 3.4447 - val_accuracy: 0.1676\n",
            "Epoch 68/250\n",
            "180/180 [==============================] - 1s 4ms/step - loss: 1.8573 - accuracy: 0.4556 - val_loss: 3.5020 - val_accuracy: 0.1771\n",
            "Epoch 69/250\n",
            "180/180 [==============================] - 1s 4ms/step - loss: 1.8186 - accuracy: 0.4604 - val_loss: 3.5079 - val_accuracy: 0.1853\n",
            "Epoch 70/250\n",
            "180/180 [==============================] - 1s 4ms/step - loss: 1.8140 - accuracy: 0.4758 - val_loss: 3.4913 - val_accuracy: 0.1785\n",
            "Epoch 71/250\n",
            "180/180 [==============================] - 1s 4ms/step - loss: 1.7983 - accuracy: 0.4730 - val_loss: 3.4832 - val_accuracy: 0.1812\n",
            "Epoch 72/250\n",
            "180/180 [==============================] - 1s 4ms/step - loss: 1.7716 - accuracy: 0.4866 - val_loss: 3.5355 - val_accuracy: 0.1771\n",
            "Epoch 73/250\n",
            "180/180 [==============================] - 1s 4ms/step - loss: 1.7620 - accuracy: 0.4845 - val_loss: 3.5370 - val_accuracy: 0.1771\n",
            "Epoch 74/250\n",
            "180/180 [==============================] - 1s 4ms/step - loss: 1.7267 - accuracy: 0.5002 - val_loss: 3.6066 - val_accuracy: 0.1866\n",
            "Epoch 75/250\n",
            "180/180 [==============================] - 1s 4ms/step - loss: 1.7154 - accuracy: 0.4948 - val_loss: 3.5707 - val_accuracy: 0.1866\n",
            "Epoch 76/250\n",
            "180/180 [==============================] - 1s 4ms/step - loss: 1.6865 - accuracy: 0.5010 - val_loss: 3.5490 - val_accuracy: 0.1812\n",
            "Epoch 77/250\n",
            "180/180 [==============================] - 1s 4ms/step - loss: 1.6673 - accuracy: 0.5078 - val_loss: 3.5997 - val_accuracy: 0.1935\n",
            "Epoch 78/250\n",
            "180/180 [==============================] - 1s 4ms/step - loss: 1.6472 - accuracy: 0.5223 - val_loss: 3.6564 - val_accuracy: 0.1798\n",
            "Epoch 79/250\n",
            "180/180 [==============================] - 1s 4ms/step - loss: 1.6381 - accuracy: 0.5138 - val_loss: 3.6134 - val_accuracy: 0.1812\n",
            "Epoch 80/250\n",
            "180/180 [==============================] - 1s 4ms/step - loss: 1.6199 - accuracy: 0.5249 - val_loss: 3.5977 - val_accuracy: 0.1703\n",
            "Epoch 81/250\n",
            "180/180 [==============================] - 1s 4ms/step - loss: 1.6000 - accuracy: 0.5265 - val_loss: 3.6470 - val_accuracy: 0.1621\n",
            "Epoch 82/250\n",
            "180/180 [==============================] - 1s 4ms/step - loss: 1.5923 - accuracy: 0.5284 - val_loss: 3.7080 - val_accuracy: 0.1757\n",
            "Epoch 83/250\n",
            "180/180 [==============================] - 1s 4ms/step - loss: 1.5914 - accuracy: 0.5274 - val_loss: 3.6145 - val_accuracy: 0.1771\n",
            "Epoch 84/250\n",
            "180/180 [==============================] - 1s 4ms/step - loss: 1.5632 - accuracy: 0.5436 - val_loss: 3.7324 - val_accuracy: 0.1621\n",
            "Epoch 85/250\n",
            "180/180 [==============================] - 1s 4ms/step - loss: 1.5662 - accuracy: 0.5390 - val_loss: 3.6393 - val_accuracy: 0.1771\n",
            "Epoch 86/250\n",
            "180/180 [==============================] - 1s 4ms/step - loss: 1.5029 - accuracy: 0.5539 - val_loss: 3.6829 - val_accuracy: 0.1676\n",
            "Epoch 87/250\n",
            "180/180 [==============================] - 1s 4ms/step - loss: 1.4895 - accuracy: 0.5584 - val_loss: 3.6622 - val_accuracy: 0.1785\n",
            "Epoch 88/250\n",
            "180/180 [==============================] - 1s 4ms/step - loss: 1.4842 - accuracy: 0.5697 - val_loss: 3.7105 - val_accuracy: 0.1798\n",
            "Epoch 89/250\n",
            "180/180 [==============================] - 1s 4ms/step - loss: 1.4712 - accuracy: 0.5657 - val_loss: 3.7293 - val_accuracy: 0.1567\n",
            "Epoch 90/250\n",
            "180/180 [==============================] - 1s 4ms/step - loss: 1.4204 - accuracy: 0.5725 - val_loss: 3.7212 - val_accuracy: 0.1866\n",
            "Epoch 91/250\n",
            "180/180 [==============================] - 1s 4ms/step - loss: 1.4161 - accuracy: 0.5845 - val_loss: 3.7598 - val_accuracy: 0.1730\n",
            "Epoch 92/250\n",
            "180/180 [==============================] - 1s 4ms/step - loss: 1.4306 - accuracy: 0.5756 - val_loss: 3.7530 - val_accuracy: 0.1717\n",
            "Epoch 93/250\n",
            "180/180 [==============================] - 1s 4ms/step - loss: 1.3940 - accuracy: 0.5715 - val_loss: 3.7890 - val_accuracy: 0.1757\n",
            "Epoch 94/250\n",
            "180/180 [==============================] - 1s 4ms/step - loss: 1.3813 - accuracy: 0.5894 - val_loss: 3.7528 - val_accuracy: 0.1744\n",
            "Epoch 95/250\n",
            "180/180 [==============================] - 1s 4ms/step - loss: 1.3858 - accuracy: 0.5828 - val_loss: 3.8109 - val_accuracy: 0.1894\n",
            "Epoch 96/250\n",
            "180/180 [==============================] - 1s 4ms/step - loss: 1.3286 - accuracy: 0.5915 - val_loss: 3.7869 - val_accuracy: 0.1798\n",
            "Epoch 97/250\n",
            "180/180 [==============================] - 1s 4ms/step - loss: 1.3507 - accuracy: 0.5985 - val_loss: 3.8280 - val_accuracy: 0.1826\n",
            "Epoch 98/250\n",
            "180/180 [==============================] - 1s 4ms/step - loss: 1.3213 - accuracy: 0.5969 - val_loss: 3.8542 - val_accuracy: 0.1717\n",
            "Epoch 99/250\n",
            "180/180 [==============================] - 1s 4ms/step - loss: 1.3124 - accuracy: 0.6040 - val_loss: 3.8175 - val_accuracy: 0.1621\n",
            "Epoch 100/250\n",
            "180/180 [==============================] - 1s 4ms/step - loss: 1.3049 - accuracy: 0.6082 - val_loss: 3.9070 - val_accuracy: 0.1785\n",
            "Epoch 101/250\n",
            "180/180 [==============================] - 1s 4ms/step - loss: 1.2784 - accuracy: 0.6157 - val_loss: 3.8840 - val_accuracy: 0.1785\n",
            "Epoch 102/250\n",
            "180/180 [==============================] - 1s 4ms/step - loss: 1.2619 - accuracy: 0.6208 - val_loss: 3.8400 - val_accuracy: 0.1880\n",
            "Epoch 103/250\n",
            "180/180 [==============================] - 1s 4ms/step - loss: 1.2753 - accuracy: 0.6171 - val_loss: 3.8945 - val_accuracy: 0.1798\n",
            "Epoch 104/250\n",
            "180/180 [==============================] - 1s 4ms/step - loss: 1.2417 - accuracy: 0.6199 - val_loss: 3.8762 - val_accuracy: 0.1894\n",
            "Epoch 105/250\n",
            "180/180 [==============================] - 1s 4ms/step - loss: 1.2458 - accuracy: 0.6264 - val_loss: 3.9045 - val_accuracy: 0.1798\n",
            "Epoch 106/250\n",
            "180/180 [==============================] - 1s 4ms/step - loss: 1.2363 - accuracy: 0.6262 - val_loss: 3.9029 - val_accuracy: 0.1921\n",
            "Epoch 107/250\n",
            "180/180 [==============================] - 1s 4ms/step - loss: 1.2126 - accuracy: 0.6272 - val_loss: 3.9443 - val_accuracy: 0.1853\n",
            "Epoch 108/250\n",
            "180/180 [==============================] - 1s 4ms/step - loss: 1.1695 - accuracy: 0.6392 - val_loss: 3.9273 - val_accuracy: 0.1771\n",
            "Epoch 109/250\n",
            "180/180 [==============================] - 1s 4ms/step - loss: 1.1557 - accuracy: 0.6471 - val_loss: 4.0377 - val_accuracy: 0.1962\n",
            "Epoch 110/250\n",
            "180/180 [==============================] - 1s 4ms/step - loss: 1.1645 - accuracy: 0.6452 - val_loss: 4.0384 - val_accuracy: 0.1676\n",
            "Epoch 111/250\n",
            "180/180 [==============================] - 1s 4ms/step - loss: 1.1431 - accuracy: 0.6556 - val_loss: 3.9903 - val_accuracy: 0.1798\n",
            "Epoch 112/250\n",
            "180/180 [==============================] - 1s 4ms/step - loss: 1.1492 - accuracy: 0.6556 - val_loss: 4.0501 - val_accuracy: 0.1703\n",
            "Epoch 113/250\n",
            "180/180 [==============================] - 1s 4ms/step - loss: 1.1337 - accuracy: 0.6520 - val_loss: 4.0303 - val_accuracy: 0.1935\n",
            "Epoch 114/250\n",
            "180/180 [==============================] - 1s 4ms/step - loss: 1.1331 - accuracy: 0.6507 - val_loss: 3.9715 - val_accuracy: 0.1798\n",
            "Epoch 115/250\n",
            "180/180 [==============================] - 1s 4ms/step - loss: 1.1011 - accuracy: 0.6633 - val_loss: 4.0196 - val_accuracy: 0.1703\n",
            "Epoch 116/250\n",
            "180/180 [==============================] - 1s 4ms/step - loss: 1.0886 - accuracy: 0.6666 - val_loss: 4.0793 - val_accuracy: 0.1785\n",
            "Epoch 117/250\n",
            "180/180 [==============================] - 1s 4ms/step - loss: 1.0865 - accuracy: 0.6692 - val_loss: 4.1118 - val_accuracy: 0.1894\n",
            "Epoch 118/250\n",
            "180/180 [==============================] - 1s 4ms/step - loss: 1.0707 - accuracy: 0.6781 - val_loss: 4.0485 - val_accuracy: 0.1703\n",
            "Epoch 119/250\n",
            "180/180 [==============================] - 1s 4ms/step - loss: 1.0519 - accuracy: 0.6825 - val_loss: 4.1462 - val_accuracy: 0.1771\n",
            "Epoch 120/250\n",
            "180/180 [==============================] - 1s 4ms/step - loss: 1.0450 - accuracy: 0.6811 - val_loss: 4.0374 - val_accuracy: 0.1703\n",
            "Epoch 121/250\n",
            "180/180 [==============================] - 1s 4ms/step - loss: 1.0417 - accuracy: 0.6745 - val_loss: 4.0946 - val_accuracy: 0.1785\n",
            "Epoch 122/250\n",
            "180/180 [==============================] - 1s 4ms/step - loss: 1.0254 - accuracy: 0.6842 - val_loss: 4.1390 - val_accuracy: 0.1826\n",
            "Epoch 123/250\n",
            "180/180 [==============================] - 1s 4ms/step - loss: 0.9998 - accuracy: 0.6971 - val_loss: 4.1082 - val_accuracy: 0.1907\n",
            "Epoch 124/250\n",
            "180/180 [==============================] - 1s 4ms/step - loss: 1.0099 - accuracy: 0.6910 - val_loss: 4.1415 - val_accuracy: 0.1812\n",
            "Epoch 125/250\n",
            "180/180 [==============================] - 1s 4ms/step - loss: 0.9823 - accuracy: 0.6933 - val_loss: 4.1969 - val_accuracy: 0.1757\n",
            "Epoch 126/250\n",
            "180/180 [==============================] - 1s 4ms/step - loss: 0.9860 - accuracy: 0.6934 - val_loss: 4.1222 - val_accuracy: 0.1717\n",
            "Epoch 127/250\n",
            "180/180 [==============================] - 1s 4ms/step - loss: 0.9880 - accuracy: 0.7009 - val_loss: 4.1909 - val_accuracy: 0.1635\n",
            "Epoch 128/250\n",
            "180/180 [==============================] - 1s 4ms/step - loss: 0.9471 - accuracy: 0.7147 - val_loss: 4.2717 - val_accuracy: 0.1826\n",
            "Epoch 129/250\n",
            "180/180 [==============================] - 1s 4ms/step - loss: 0.9548 - accuracy: 0.7060 - val_loss: 4.1769 - val_accuracy: 0.1812\n",
            "Epoch 130/250\n",
            "180/180 [==============================] - 1s 4ms/step - loss: 0.9647 - accuracy: 0.7032 - val_loss: 4.1835 - val_accuracy: 0.1757\n",
            "Epoch 131/250\n",
            "180/180 [==============================] - 1s 4ms/step - loss: 0.9213 - accuracy: 0.7152 - val_loss: 4.1984 - val_accuracy: 0.1771\n",
            "Epoch 132/250\n",
            "180/180 [==============================] - 1s 4ms/step - loss: 0.9080 - accuracy: 0.7224 - val_loss: 4.2313 - val_accuracy: 0.1826\n",
            "Epoch 133/250\n",
            "180/180 [==============================] - 1s 4ms/step - loss: 0.9030 - accuracy: 0.7191 - val_loss: 4.2383 - val_accuracy: 0.1757\n",
            "Epoch 134/250\n",
            "180/180 [==============================] - 1s 4ms/step - loss: 0.9059 - accuracy: 0.7217 - val_loss: 4.2971 - val_accuracy: 0.1880\n",
            "Epoch 135/250\n",
            "180/180 [==============================] - 1s 4ms/step - loss: 0.9125 - accuracy: 0.7161 - val_loss: 4.2875 - val_accuracy: 0.1866\n",
            "Epoch 136/250\n",
            "180/180 [==============================] - 1s 4ms/step - loss: 0.9175 - accuracy: 0.7213 - val_loss: 4.2972 - val_accuracy: 0.1975\n",
            "Epoch 137/250\n",
            "180/180 [==============================] - 1s 4ms/step - loss: 0.8751 - accuracy: 0.7323 - val_loss: 4.3164 - val_accuracy: 0.1744\n",
            "Epoch 138/250\n",
            "180/180 [==============================] - 1s 4ms/step - loss: 0.8625 - accuracy: 0.7353 - val_loss: 4.3842 - val_accuracy: 0.1744\n",
            "Epoch 139/250\n",
            "180/180 [==============================] - 1s 4ms/step - loss: 0.8557 - accuracy: 0.7415 - val_loss: 4.3207 - val_accuracy: 0.1826\n",
            "Epoch 140/250\n",
            "180/180 [==============================] - 1s 4ms/step - loss: 0.8563 - accuracy: 0.7367 - val_loss: 4.3019 - val_accuracy: 0.1839\n",
            "Epoch 141/250\n",
            "180/180 [==============================] - 1s 4ms/step - loss: 0.8367 - accuracy: 0.7419 - val_loss: 4.3379 - val_accuracy: 0.1703\n",
            "Epoch 142/250\n",
            "180/180 [==============================] - 1s 4ms/step - loss: 0.8405 - accuracy: 0.7442 - val_loss: 4.3350 - val_accuracy: 0.1826\n",
            "Epoch 143/250\n",
            "180/180 [==============================] - 1s 4ms/step - loss: 0.8233 - accuracy: 0.7398 - val_loss: 4.3391 - val_accuracy: 0.1785\n",
            "Epoch 144/250\n",
            "180/180 [==============================] - 1s 4ms/step - loss: 0.8500 - accuracy: 0.7395 - val_loss: 4.3352 - val_accuracy: 0.1662\n",
            "Epoch 145/250\n",
            "180/180 [==============================] - 1s 4ms/step - loss: 0.8323 - accuracy: 0.7410 - val_loss: 4.3685 - val_accuracy: 0.1744\n",
            "Epoch 146/250\n",
            "180/180 [==============================] - 1s 4ms/step - loss: 0.8233 - accuracy: 0.7463 - val_loss: 4.3892 - val_accuracy: 0.1853\n",
            "Epoch 147/250\n",
            "180/180 [==============================] - 1s 4ms/step - loss: 0.8103 - accuracy: 0.7504 - val_loss: 4.4030 - val_accuracy: 0.1757\n",
            "Epoch 148/250\n",
            "180/180 [==============================] - 1s 4ms/step - loss: 0.7911 - accuracy: 0.7541 - val_loss: 4.4532 - val_accuracy: 0.1771\n",
            "Epoch 149/250\n",
            "180/180 [==============================] - 1s 4ms/step - loss: 0.8173 - accuracy: 0.7424 - val_loss: 4.4271 - val_accuracy: 0.1839\n",
            "Epoch 150/250\n",
            "180/180 [==============================] - 1s 4ms/step - loss: 0.7976 - accuracy: 0.7553 - val_loss: 4.4798 - val_accuracy: 0.1771\n",
            "Epoch 151/250\n",
            "180/180 [==============================] - 1s 4ms/step - loss: 0.7858 - accuracy: 0.7639 - val_loss: 4.5046 - val_accuracy: 0.1812\n",
            "Epoch 152/250\n",
            "180/180 [==============================] - 1s 4ms/step - loss: 0.7795 - accuracy: 0.7562 - val_loss: 4.4023 - val_accuracy: 0.1689\n",
            "Epoch 153/250\n",
            "180/180 [==============================] - 1s 4ms/step - loss: 0.7634 - accuracy: 0.7633 - val_loss: 4.4475 - val_accuracy: 0.1757\n",
            "Epoch 154/250\n",
            "180/180 [==============================] - 1s 4ms/step - loss: 0.7394 - accuracy: 0.7788 - val_loss: 4.5139 - val_accuracy: 0.1757\n",
            "Epoch 155/250\n",
            "180/180 [==============================] - 1s 4ms/step - loss: 0.7300 - accuracy: 0.7768 - val_loss: 4.4998 - val_accuracy: 0.1703\n",
            "Epoch 156/250\n",
            "180/180 [==============================] - 1s 4ms/step - loss: 0.7165 - accuracy: 0.7816 - val_loss: 4.5220 - val_accuracy: 0.1785\n",
            "Epoch 157/250\n",
            "180/180 [==============================] - 1s 4ms/step - loss: 0.7439 - accuracy: 0.7689 - val_loss: 4.5117 - val_accuracy: 0.1798\n",
            "Epoch 158/250\n",
            "180/180 [==============================] - 1s 4ms/step - loss: 0.7524 - accuracy: 0.7665 - val_loss: 4.5499 - val_accuracy: 0.1839\n",
            "Epoch 159/250\n",
            "180/180 [==============================] - 1s 4ms/step - loss: 0.7061 - accuracy: 0.7842 - val_loss: 4.6257 - val_accuracy: 0.1757\n",
            "Epoch 160/250\n",
            "180/180 [==============================] - 1s 4ms/step - loss: 0.7490 - accuracy: 0.7696 - val_loss: 4.4851 - val_accuracy: 0.1757\n",
            "Epoch 161/250\n",
            "180/180 [==============================] - 1s 4ms/step - loss: 0.7303 - accuracy: 0.7748 - val_loss: 4.5219 - val_accuracy: 0.1866\n",
            "Epoch 162/250\n",
            "180/180 [==============================] - 1s 4ms/step - loss: 0.7262 - accuracy: 0.7757 - val_loss: 4.5039 - val_accuracy: 0.1894\n",
            "Epoch 163/250\n",
            "180/180 [==============================] - 1s 4ms/step - loss: 0.6736 - accuracy: 0.7970 - val_loss: 4.5596 - val_accuracy: 0.1853\n",
            "Epoch 164/250\n",
            "180/180 [==============================] - 1s 4ms/step - loss: 0.6764 - accuracy: 0.7944 - val_loss: 4.5727 - val_accuracy: 0.1866\n",
            "Epoch 165/250\n",
            "180/180 [==============================] - 1s 4ms/step - loss: 0.7102 - accuracy: 0.7799 - val_loss: 4.5140 - val_accuracy: 0.1839\n",
            "Epoch 166/250\n",
            "180/180 [==============================] - 1s 4ms/step - loss: 0.7086 - accuracy: 0.7842 - val_loss: 4.5482 - val_accuracy: 0.1798\n",
            "Epoch 167/250\n",
            "180/180 [==============================] - 1s 4ms/step - loss: 0.7081 - accuracy: 0.7787 - val_loss: 4.5961 - val_accuracy: 0.1907\n",
            "Epoch 168/250\n",
            "180/180 [==============================] - 1s 4ms/step - loss: 0.6914 - accuracy: 0.7903 - val_loss: 4.5976 - val_accuracy: 0.1853\n",
            "Epoch 169/250\n",
            "180/180 [==============================] - 1s 4ms/step - loss: 0.6653 - accuracy: 0.7919 - val_loss: 4.6329 - val_accuracy: 0.1730\n",
            "Epoch 170/250\n",
            "180/180 [==============================] - 1s 4ms/step - loss: 0.6593 - accuracy: 0.7949 - val_loss: 4.6931 - val_accuracy: 0.1826\n",
            "Epoch 171/250\n",
            "180/180 [==============================] - 1s 4ms/step - loss: 0.6702 - accuracy: 0.7914 - val_loss: 4.6397 - val_accuracy: 0.1730\n",
            "Epoch 172/250\n",
            "180/180 [==============================] - 1s 4ms/step - loss: 0.6740 - accuracy: 0.7954 - val_loss: 4.6981 - val_accuracy: 0.1744\n",
            "Epoch 173/250\n",
            "180/180 [==============================] - 1s 4ms/step - loss: 0.6654 - accuracy: 0.7949 - val_loss: 4.6621 - val_accuracy: 0.1826\n",
            "Epoch 174/250\n",
            "180/180 [==============================] - 1s 4ms/step - loss: 0.6178 - accuracy: 0.8081 - val_loss: 4.7341 - val_accuracy: 0.1757\n",
            "Epoch 175/250\n",
            "180/180 [==============================] - 1s 4ms/step - loss: 0.6128 - accuracy: 0.8081 - val_loss: 4.7543 - val_accuracy: 0.1785\n",
            "Epoch 176/250\n",
            "180/180 [==============================] - 1s 4ms/step - loss: 0.6185 - accuracy: 0.8066 - val_loss: 4.8024 - val_accuracy: 0.1689\n",
            "Epoch 177/250\n",
            "180/180 [==============================] - 1s 4ms/step - loss: 0.6481 - accuracy: 0.8039 - val_loss: 4.7532 - val_accuracy: 0.1689\n",
            "Epoch 178/250\n",
            "180/180 [==============================] - 1s 4ms/step - loss: 0.6400 - accuracy: 0.8017 - val_loss: 4.7193 - val_accuracy: 0.1635\n",
            "Epoch 179/250\n",
            "180/180 [==============================] - 1s 4ms/step - loss: 0.6270 - accuracy: 0.8039 - val_loss: 4.7185 - val_accuracy: 0.1839\n",
            "Epoch 180/250\n",
            "180/180 [==============================] - 1s 4ms/step - loss: 0.6299 - accuracy: 0.8041 - val_loss: 4.6964 - val_accuracy: 0.1744\n",
            "Epoch 181/250\n",
            "180/180 [==============================] - 1s 4ms/step - loss: 0.6006 - accuracy: 0.8172 - val_loss: 4.8042 - val_accuracy: 0.1812\n",
            "Epoch 182/250\n",
            "180/180 [==============================] - 1s 4ms/step - loss: 0.5902 - accuracy: 0.8174 - val_loss: 4.8784 - val_accuracy: 0.1757\n",
            "Epoch 183/250\n",
            "180/180 [==============================] - 1s 4ms/step - loss: 0.5906 - accuracy: 0.8191 - val_loss: 4.8097 - val_accuracy: 0.1662\n",
            "Epoch 184/250\n",
            "180/180 [==============================] - 1s 4ms/step - loss: 0.5687 - accuracy: 0.8261 - val_loss: 4.8452 - val_accuracy: 0.1798\n",
            "Epoch 185/250\n",
            "180/180 [==============================] - 1s 4ms/step - loss: 0.5949 - accuracy: 0.8130 - val_loss: 4.8250 - val_accuracy: 0.1676\n",
            "Epoch 186/250\n",
            "180/180 [==============================] - 1s 4ms/step - loss: 0.5896 - accuracy: 0.8184 - val_loss: 4.7990 - val_accuracy: 0.1812\n",
            "Epoch 187/250\n",
            "180/180 [==============================] - 1s 4ms/step - loss: 0.5912 - accuracy: 0.8142 - val_loss: 4.7860 - val_accuracy: 0.1853\n",
            "Epoch 188/250\n",
            "180/180 [==============================] - 1s 4ms/step - loss: 0.5743 - accuracy: 0.8217 - val_loss: 4.8151 - val_accuracy: 0.1812\n",
            "Epoch 189/250\n",
            "180/180 [==============================] - 1s 4ms/step - loss: 0.5769 - accuracy: 0.8249 - val_loss: 4.8251 - val_accuracy: 0.1703\n",
            "Epoch 190/250\n",
            "180/180 [==============================] - 1s 4ms/step - loss: 0.5682 - accuracy: 0.8332 - val_loss: 4.7957 - val_accuracy: 0.1839\n",
            "Epoch 191/250\n",
            "180/180 [==============================] - 1s 4ms/step - loss: 0.5481 - accuracy: 0.8252 - val_loss: 4.8033 - val_accuracy: 0.1907\n",
            "Epoch 192/250\n",
            "180/180 [==============================] - 1s 4ms/step - loss: 0.5766 - accuracy: 0.8224 - val_loss: 4.8345 - val_accuracy: 0.1757\n",
            "Epoch 193/250\n",
            "180/180 [==============================] - 1s 4ms/step - loss: 0.5466 - accuracy: 0.8308 - val_loss: 4.8779 - val_accuracy: 0.1744\n",
            "Epoch 194/250\n",
            "180/180 [==============================] - 1s 4ms/step - loss: 0.5474 - accuracy: 0.8271 - val_loss: 4.8796 - val_accuracy: 0.1826\n",
            "Epoch 195/250\n",
            "180/180 [==============================] - 1s 4ms/step - loss: 0.5408 - accuracy: 0.8372 - val_loss: 4.8077 - val_accuracy: 0.1744\n",
            "Epoch 196/250\n",
            "180/180 [==============================] - 1s 4ms/step - loss: 0.5471 - accuracy: 0.8337 - val_loss: 4.8676 - val_accuracy: 0.1703\n",
            "Epoch 197/250\n",
            "180/180 [==============================] - 1s 4ms/step - loss: 0.5488 - accuracy: 0.8343 - val_loss: 4.8834 - val_accuracy: 0.1744\n",
            "Epoch 198/250\n",
            "180/180 [==============================] - 1s 4ms/step - loss: 0.5329 - accuracy: 0.8341 - val_loss: 4.8242 - val_accuracy: 0.1853\n",
            "Epoch 199/250\n",
            "180/180 [==============================] - 1s 4ms/step - loss: 0.5308 - accuracy: 0.8325 - val_loss: 4.8622 - val_accuracy: 0.1744\n",
            "Epoch 200/250\n",
            "180/180 [==============================] - 1s 4ms/step - loss: 0.5413 - accuracy: 0.8320 - val_loss: 4.8389 - val_accuracy: 0.1948\n",
            "Epoch 201/250\n",
            "180/180 [==============================] - 1s 4ms/step - loss: 0.5178 - accuracy: 0.8383 - val_loss: 4.9247 - val_accuracy: 0.1703\n",
            "Epoch 202/250\n",
            "180/180 [==============================] - 1s 4ms/step - loss: 0.5126 - accuracy: 0.8437 - val_loss: 4.9804 - val_accuracy: 0.1649\n",
            "Epoch 203/250\n",
            "180/180 [==============================] - 1s 4ms/step - loss: 0.5093 - accuracy: 0.8445 - val_loss: 4.9831 - val_accuracy: 0.1730\n",
            "Epoch 204/250\n",
            "180/180 [==============================] - 1s 4ms/step - loss: 0.5487 - accuracy: 0.8303 - val_loss: 4.8707 - val_accuracy: 0.1907\n",
            "Epoch 205/250\n",
            "180/180 [==============================] - 1s 4ms/step - loss: 0.4997 - accuracy: 0.8477 - val_loss: 5.0817 - val_accuracy: 0.1812\n",
            "Epoch 206/250\n",
            "180/180 [==============================] - 1s 4ms/step - loss: 0.5198 - accuracy: 0.8379 - val_loss: 5.0040 - val_accuracy: 0.1717\n",
            "Epoch 207/250\n",
            "180/180 [==============================] - 1s 4ms/step - loss: 0.5149 - accuracy: 0.8383 - val_loss: 4.9408 - val_accuracy: 0.1771\n",
            "Epoch 208/250\n",
            "180/180 [==============================] - 1s 4ms/step - loss: 0.5212 - accuracy: 0.8409 - val_loss: 4.9154 - val_accuracy: 0.1771\n",
            "Epoch 209/250\n",
            "180/180 [==============================] - 1s 4ms/step - loss: 0.5102 - accuracy: 0.8381 - val_loss: 4.8828 - val_accuracy: 0.1744\n",
            "Epoch 210/250\n",
            "180/180 [==============================] - 1s 4ms/step - loss: 0.5130 - accuracy: 0.8348 - val_loss: 4.9248 - val_accuracy: 0.1730\n",
            "Epoch 211/250\n",
            "180/180 [==============================] - 1s 4ms/step - loss: 0.4961 - accuracy: 0.8418 - val_loss: 4.9065 - val_accuracy: 0.1812\n",
            "Epoch 212/250\n",
            "180/180 [==============================] - 1s 4ms/step - loss: 0.5118 - accuracy: 0.8419 - val_loss: 5.0231 - val_accuracy: 0.1717\n",
            "Epoch 213/250\n",
            "180/180 [==============================] - 1s 4ms/step - loss: 0.4865 - accuracy: 0.8468 - val_loss: 4.9867 - val_accuracy: 0.1798\n",
            "Epoch 214/250\n",
            "180/180 [==============================] - 1s 4ms/step - loss: 0.4810 - accuracy: 0.8498 - val_loss: 5.0275 - val_accuracy: 0.1785\n",
            "Epoch 215/250\n",
            "180/180 [==============================] - 1s 4ms/step - loss: 0.4998 - accuracy: 0.8430 - val_loss: 4.9637 - val_accuracy: 0.1771\n",
            "Epoch 216/250\n",
            "180/180 [==============================] - 1s 4ms/step - loss: 0.4621 - accuracy: 0.8609 - val_loss: 5.0428 - val_accuracy: 0.1839\n",
            "Epoch 217/250\n",
            "180/180 [==============================] - 1s 4ms/step - loss: 0.4824 - accuracy: 0.8503 - val_loss: 5.0945 - val_accuracy: 0.1744\n",
            "Epoch 218/250\n",
            "180/180 [==============================] - 1s 6ms/step - loss: 0.4951 - accuracy: 0.8458 - val_loss: 5.0490 - val_accuracy: 0.1757\n",
            "Epoch 219/250\n",
            "180/180 [==============================] - 1s 6ms/step - loss: 0.4944 - accuracy: 0.8496 - val_loss: 5.0022 - val_accuracy: 0.1826\n",
            "Epoch 220/250\n",
            "180/180 [==============================] - 1s 6ms/step - loss: 0.4616 - accuracy: 0.8573 - val_loss: 5.0269 - val_accuracy: 0.1730\n",
            "Epoch 221/250\n",
            "180/180 [==============================] - 1s 6ms/step - loss: 0.4402 - accuracy: 0.8637 - val_loss: 5.1007 - val_accuracy: 0.1853\n",
            "Epoch 222/250\n",
            "180/180 [==============================] - 1s 4ms/step - loss: 0.4840 - accuracy: 0.8513 - val_loss: 5.0458 - val_accuracy: 0.1812\n",
            "Epoch 223/250\n",
            "180/180 [==============================] - 1s 4ms/step - loss: 0.4679 - accuracy: 0.8531 - val_loss: 5.0901 - val_accuracy: 0.1826\n",
            "Epoch 224/250\n",
            "180/180 [==============================] - 1s 4ms/step - loss: 0.4902 - accuracy: 0.8475 - val_loss: 5.0310 - val_accuracy: 0.1935\n",
            "Epoch 225/250\n",
            "180/180 [==============================] - 1s 4ms/step - loss: 0.4457 - accuracy: 0.8630 - val_loss: 5.0853 - val_accuracy: 0.1907\n",
            "Epoch 226/250\n",
            "180/180 [==============================] - 1s 4ms/step - loss: 0.4498 - accuracy: 0.8590 - val_loss: 5.0653 - val_accuracy: 0.1771\n",
            "Epoch 227/250\n",
            "180/180 [==============================] - 1s 4ms/step - loss: 0.4390 - accuracy: 0.8669 - val_loss: 5.1503 - val_accuracy: 0.1880\n",
            "Epoch 228/250\n",
            "180/180 [==============================] - 1s 4ms/step - loss: 0.4450 - accuracy: 0.8656 - val_loss: 5.0913 - val_accuracy: 0.1853\n",
            "Epoch 229/250\n",
            "180/180 [==============================] - 1s 4ms/step - loss: 0.4413 - accuracy: 0.8614 - val_loss: 5.1586 - val_accuracy: 0.1771\n",
            "Epoch 230/250\n",
            "180/180 [==============================] - 1s 4ms/step - loss: 0.4515 - accuracy: 0.8564 - val_loss: 5.0807 - val_accuracy: 0.1757\n",
            "Epoch 231/250\n",
            "180/180 [==============================] - 1s 4ms/step - loss: 0.4543 - accuracy: 0.8595 - val_loss: 5.1482 - val_accuracy: 0.1798\n",
            "Epoch 232/250\n",
            "180/180 [==============================] - 1s 4ms/step - loss: 0.4183 - accuracy: 0.8689 - val_loss: 5.1719 - val_accuracy: 0.1662\n",
            "Epoch 233/250\n",
            "180/180 [==============================] - 1s 4ms/step - loss: 0.4348 - accuracy: 0.8670 - val_loss: 5.0794 - val_accuracy: 0.1785\n",
            "Epoch 234/250\n",
            "180/180 [==============================] - 1s 4ms/step - loss: 0.4255 - accuracy: 0.8681 - val_loss: 5.0898 - val_accuracy: 0.1757\n",
            "Epoch 235/250\n",
            "180/180 [==============================] - 1s 4ms/step - loss: 0.4191 - accuracy: 0.8723 - val_loss: 5.0997 - val_accuracy: 0.1757\n",
            "Epoch 236/250\n",
            "180/180 [==============================] - 1s 4ms/step - loss: 0.4134 - accuracy: 0.8649 - val_loss: 5.1713 - val_accuracy: 0.1826\n",
            "Epoch 237/250\n",
            "180/180 [==============================] - 1s 4ms/step - loss: 0.4293 - accuracy: 0.8648 - val_loss: 5.1704 - val_accuracy: 0.1894\n",
            "Epoch 238/250\n",
            "180/180 [==============================] - 1s 4ms/step - loss: 0.4396 - accuracy: 0.8599 - val_loss: 5.1293 - val_accuracy: 0.1730\n",
            "Epoch 239/250\n",
            "180/180 [==============================] - 1s 4ms/step - loss: 0.4035 - accuracy: 0.8757 - val_loss: 5.1685 - val_accuracy: 0.1757\n",
            "Epoch 240/250\n",
            "180/180 [==============================] - 1s 4ms/step - loss: 0.4295 - accuracy: 0.8684 - val_loss: 5.2056 - val_accuracy: 0.1798\n",
            "Epoch 241/250\n",
            "180/180 [==============================] - 1s 4ms/step - loss: 0.4288 - accuracy: 0.8649 - val_loss: 5.1343 - val_accuracy: 0.1866\n",
            "Epoch 242/250\n",
            "180/180 [==============================] - 1s 4ms/step - loss: 0.4215 - accuracy: 0.8700 - val_loss: 5.1866 - val_accuracy: 0.1730\n",
            "Epoch 243/250\n",
            "180/180 [==============================] - 1s 4ms/step - loss: 0.4283 - accuracy: 0.8667 - val_loss: 5.1303 - val_accuracy: 0.1866\n",
            "Epoch 244/250\n",
            "180/180 [==============================] - 1s 4ms/step - loss: 0.4558 - accuracy: 0.8602 - val_loss: 5.1076 - val_accuracy: 0.1798\n",
            "Epoch 245/250\n",
            "180/180 [==============================] - 1s 4ms/step - loss: 0.4020 - accuracy: 0.8775 - val_loss: 5.1104 - val_accuracy: 0.1798\n",
            "Epoch 246/250\n",
            "180/180 [==============================] - 1s 4ms/step - loss: 0.4011 - accuracy: 0.8735 - val_loss: 5.2290 - val_accuracy: 0.1880\n",
            "Epoch 247/250\n",
            "180/180 [==============================] - 1s 4ms/step - loss: 0.4106 - accuracy: 0.8740 - val_loss: 5.1646 - val_accuracy: 0.1771\n",
            "Epoch 248/250\n",
            "180/180 [==============================] - 1s 4ms/step - loss: 0.4019 - accuracy: 0.8766 - val_loss: 5.2326 - val_accuracy: 0.1894\n",
            "Epoch 249/250\n",
            "180/180 [==============================] - 1s 4ms/step - loss: 0.3810 - accuracy: 0.8848 - val_loss: 5.2818 - val_accuracy: 0.1703\n",
            "Epoch 250/250\n",
            "180/180 [==============================] - 1s 4ms/step - loss: 0.3932 - accuracy: 0.8742 - val_loss: 5.2916 - val_accuracy: 0.1744\n"
          ]
        },
        {
          "output_type": "execute_result",
          "data": {
            "text/plain": [
              "<keras.callbacks.History at 0x7f431e39bd30>"
            ]
          },
          "metadata": {},
          "execution_count": 124
        }
      ]
    },
    {
      "cell_type": "code",
      "source": [
        "model.save(\"/content/drive/MyDrive/NNDL Project/myModel_over_s2.h5\")\n"
      ],
      "metadata": {
        "id": "_XDXyV02Ev1x"
      },
      "execution_count": null,
      "outputs": []
    },
    {
      "cell_type": "code",
      "source": [
        "X_test2=[(\"/content/drive/MyDrive/NNDL Project/test_shuffle/\"+ str(i) + '.jpg') for i in range(0, 9127)]\n",
        "test=[]\n",
        "import cv2\n",
        "a=0\n",
        "for images in X_test2:\n",
        "  a=a+1\n",
        "  img = cv2.imread(os.path.join(images))\n",
        "  img=img.flatten()/255\n",
        "  test.append(img)\n",
        "  if a%100==0:\n",
        "    print(a)"
      ],
      "metadata": {
        "colab": {
          "base_uri": "https://localhost:8080/",
          "height": 807
        },
        "id": "sNMnBCnHs1bf",
        "outputId": "cfac5b49-2703-4290-bd31-4c50e9344ff6"
      },
      "execution_count": null,
      "outputs": [
        {
          "output_type": "stream",
          "name": "stdout",
          "text": [
            "100\n",
            "200\n",
            "300\n",
            "400\n",
            "500\n",
            "600\n",
            "700\n",
            "800\n",
            "900\n",
            "1000\n",
            "1100\n",
            "1200\n",
            "1300\n",
            "1400\n",
            "1500\n",
            "1600\n",
            "1700\n",
            "1800\n",
            "1900\n",
            "2000\n",
            "2100\n",
            "2200\n",
            "2300\n",
            "2400\n",
            "2500\n",
            "2600\n",
            "2700\n",
            "2800\n",
            "2900\n",
            "3000\n",
            "3100\n",
            "3200\n",
            "3300\n"
          ]
        },
        {
          "output_type": "error",
          "ename": "KeyboardInterrupt",
          "evalue": "ignored",
          "traceback": [
            "\u001b[0;31m---------------------------------------------------------------------------\u001b[0m",
            "\u001b[0;31mKeyboardInterrupt\u001b[0m                         Traceback (most recent call last)",
            "\u001b[0;32m<ipython-input-129-9cec958457cd>\u001b[0m in \u001b[0;36m<module>\u001b[0;34m\u001b[0m\n\u001b[1;32m      5\u001b[0m \u001b[0;32mfor\u001b[0m \u001b[0mimages\u001b[0m \u001b[0;32min\u001b[0m \u001b[0mX_test2\u001b[0m\u001b[0;34m:\u001b[0m\u001b[0;34m\u001b[0m\u001b[0;34m\u001b[0m\u001b[0m\n\u001b[1;32m      6\u001b[0m   \u001b[0ma\u001b[0m\u001b[0;34m=\u001b[0m\u001b[0ma\u001b[0m\u001b[0;34m+\u001b[0m\u001b[0;36m1\u001b[0m\u001b[0;34m\u001b[0m\u001b[0;34m\u001b[0m\u001b[0m\n\u001b[0;32m----> 7\u001b[0;31m   \u001b[0mimg\u001b[0m \u001b[0;34m=\u001b[0m \u001b[0mcv2\u001b[0m\u001b[0;34m.\u001b[0m\u001b[0mimread\u001b[0m\u001b[0;34m(\u001b[0m\u001b[0mos\u001b[0m\u001b[0;34m.\u001b[0m\u001b[0mpath\u001b[0m\u001b[0;34m.\u001b[0m\u001b[0mjoin\u001b[0m\u001b[0;34m(\u001b[0m\u001b[0mimages\u001b[0m\u001b[0;34m)\u001b[0m\u001b[0;34m)\u001b[0m\u001b[0;34m\u001b[0m\u001b[0;34m\u001b[0m\u001b[0m\n\u001b[0m\u001b[1;32m      8\u001b[0m   \u001b[0mimg\u001b[0m\u001b[0;34m=\u001b[0m\u001b[0mimg\u001b[0m\u001b[0;34m.\u001b[0m\u001b[0mflatten\u001b[0m\u001b[0;34m(\u001b[0m\u001b[0;34m)\u001b[0m\u001b[0;34m/\u001b[0m\u001b[0;36m255\u001b[0m\u001b[0;34m\u001b[0m\u001b[0;34m\u001b[0m\u001b[0m\n\u001b[1;32m      9\u001b[0m   \u001b[0mtest\u001b[0m\u001b[0;34m.\u001b[0m\u001b[0mappend\u001b[0m\u001b[0;34m(\u001b[0m\u001b[0mimg\u001b[0m\u001b[0;34m)\u001b[0m\u001b[0;34m\u001b[0m\u001b[0;34m\u001b[0m\u001b[0m\n",
            "\u001b[0;31mKeyboardInterrupt\u001b[0m: "
          ]
        }
      ]
    },
    {
      "cell_type": "code",
      "source": [
        "import keras\n",
        "model = keras.models.load_model('/content/drive/MyDrive/NNDL Project/myModel3.h5')"
      ],
      "metadata": {
        "id": "HB7DzF80t7Uv"
      },
      "execution_count": null,
      "outputs": []
    },
    {
      "cell_type": "code",
      "source": [
        "y_pred=model.predict(np.array(test))"
      ],
      "metadata": {
        "id": "zgbVwpHCtHhC"
      },
      "execution_count": null,
      "outputs": []
    },
    {
      "cell_type": "code",
      "source": [
        "y_classes=np.argmax(y_pred,axis=1)\n",
        "\n",
        "y_c=[]\n",
        "for i in range(len(y_pred)):\n",
        "  if max(y_pred[i])<=0.65:\n",
        "    y_c.append(90)\n",
        "  else:\n",
        "    y_c.append(np.argmax(y_pred[i]))"
      ],
      "metadata": {
        "id": "9JNmiMmFtMvp"
      },
      "execution_count": null,
      "outputs": []
    },
    {
      "cell_type": "code",
      "source": [
        "map=\"/content/drive/MyDrive/NNDL Project/Released_Data/super_classes_mapping.csv\"\n",
        "\n",
        "map_df=pd.read_csv(map)\n",
        "map_df.head()"
      ],
      "metadata": {
        "id": "RccVSiYdtUa-"
      },
      "execution_count": null,
      "outputs": []
    },
    {
      "cell_type": "code",
      "source": [
        "x=np.array(map_df['class'])"
      ],
      "metadata": {
        "id": "ZpBpW2S1tXXe"
      },
      "execution_count": null,
      "outputs": []
    },
    {
      "cell_type": "code",
      "source": [
        "out=[]\n",
        "for i in y_c:\n",
        "  if i!=90:\n",
        "    out.append(x[i])\n",
        "  else:\n",
        "    out.append('novel')"
      ],
      "metadata": {
        "id": "9VxtPpHitas8"
      },
      "execution_count": null,
      "outputs": []
    },
    {
      "cell_type": "code",
      "source": [
        "data2={\n",
        "    \"predictions\":out\n",
        "}\n",
        "\n",
        "output=pd.DataFrame(data2)"
      ],
      "metadata": {
        "id": "LBuvvvOithB7"
      },
      "execution_count": null,
      "outputs": []
    },
    {
      "cell_type": "code",
      "source": [
        "df=pd.DataFrame(data2)"
      ],
      "metadata": {
        "id": "nBfxoCryJGez"
      },
      "execution_count": null,
      "outputs": []
    },
    {
      "cell_type": "code",
      "source": [
        "df.to_csv(\"output.csv\")"
      ],
      "metadata": {
        "id": "OMfrqyP5Ja0X"
      },
      "execution_count": null,
      "outputs": []
    },
    {
      "cell_type": "code",
      "source": [
        "from sklearn.ensemble import RandomForestClassifier\n",
        "\n",
        "clf=RandomForestClassifier(n_estimators=200,max_depth=15)\n",
        "\n",
        "clf.fit(X_train,Y_train)"
      ],
      "metadata": {
        "id": "Pq0Y8dshNmSG",
        "colab": {
          "base_uri": "https://localhost:8080/"
        },
        "outputId": "3f014e8e-f016-4965-edf7-4d696b62f70b"
      },
      "execution_count": null,
      "outputs": [
        {
          "output_type": "execute_result",
          "data": {
            "text/plain": [
              "RandomForestClassifier(max_depth=15, n_estimators=200)"
            ]
          },
          "metadata": {},
          "execution_count": 30
        }
      ]
    },
    {
      "cell_type": "code",
      "source": [
        "clf.score(X_val,Y_val)"
      ],
      "metadata": {
        "colab": {
          "base_uri": "https://localhost:8080/"
        },
        "id": "9y3jpbcLTjCh",
        "outputId": "9561f4d2-f102-4815-f56c-f6cad09d394b"
      },
      "execution_count": null,
      "outputs": [
        {
          "output_type": "execute_result",
          "data": {
            "text/plain": [
              "0.7506811989100818"
            ]
          },
          "metadata": {},
          "execution_count": 31
        }
      ]
    },
    {
      "cell_type": "code",
      "source": [
        "clf.score(X_train,Y_train)"
      ],
      "metadata": {
        "colab": {
          "base_uri": "https://localhost:8080/"
        },
        "id": "OmNoLMkITqeW",
        "outputId": "1a4643ac-6ce0-4bf8-a05d-741b8b15709f"
      },
      "execution_count": null,
      "outputs": [
        {
          "output_type": "execute_result",
          "data": {
            "text/plain": [
              "0.9735099337748344"
            ]
          },
          "metadata": {},
          "execution_count": 32
        }
      ]
    },
    {
      "cell_type": "code",
      "source": [
        "y_pred=model.predict(np.array(test))"
      ],
      "metadata": {
        "id": "Wh_tMtKjViEY"
      },
      "execution_count": null,
      "outputs": []
    }
  ]
}
