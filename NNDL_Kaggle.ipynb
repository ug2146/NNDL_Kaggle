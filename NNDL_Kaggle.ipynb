{
  "cells": [
    {
      "cell_type": "markdown",
      "metadata": {
        "id": "F_Fr_jmSoc52"
      },
      "source": [
        "### NNDL baseline trainings"
      ]
    },
    {
      "cell_type": "markdown",
      "metadata": {
        "id": "5pXRiu5Uons_"
      },
      "source": [
        "#### Download the kaggle datasets"
      ]
    },
    {
      "cell_type": "code",
      "execution_count": 1,
      "metadata": {
        "colab": {
          "base_uri": "https://localhost:8080/"
        },
        "id": "XUgTm-UbocWs",
        "outputId": "56198785-5a02-4b1a-e3da-a0065a7de5c5"
      },
      "outputs": [
        {
          "output_type": "stream",
          "name": "stdout",
          "text": [
            "--2022-12-13 23:09:31--  https://www.dropbox.com/s/c2dvapqb613ukhw/Released_Data-20221201T215316Z-001.zip?dl=0\n",
            "Resolving www.dropbox.com (www.dropbox.com)... 162.125.66.18, 2620:100:6021:18::a27d:4112\n",
            "Connecting to www.dropbox.com (www.dropbox.com)|162.125.66.18|:443... connected.\n",
            "HTTP request sent, awaiting response... 302 Found\n",
            "Location: /s/raw/c2dvapqb613ukhw/Released_Data-20221201T215316Z-001.zip [following]\n",
            "--2022-12-13 23:09:32--  https://www.dropbox.com/s/raw/c2dvapqb613ukhw/Released_Data-20221201T215316Z-001.zip\n",
            "Reusing existing connection to www.dropbox.com:443.\n",
            "HTTP request sent, awaiting response... 302 Found\n",
            "Location: https://uc90af0e2df3da57359b424cb9bf.dl.dropboxusercontent.com/cd/0/inline/Byl-K3uQSveIArKqb1Q1U98Gtguh8A7eJQJVZiNgvZYw9-DlXrGtoQ4pNjYdyTSNSRUB5xc8jY4ZE-Tcg45eYsvA7lrd7Y2XczKTYXwQw2fduA3Nd133JIyM2oZ8hJJknkzUID_TCzcR7MUUcDJ4A0bTR5jhnxCtymihEkW28k_ymA/file# [following]\n",
            "--2022-12-13 23:09:32--  https://uc90af0e2df3da57359b424cb9bf.dl.dropboxusercontent.com/cd/0/inline/Byl-K3uQSveIArKqb1Q1U98Gtguh8A7eJQJVZiNgvZYw9-DlXrGtoQ4pNjYdyTSNSRUB5xc8jY4ZE-Tcg45eYsvA7lrd7Y2XczKTYXwQw2fduA3Nd133JIyM2oZ8hJJknkzUID_TCzcR7MUUcDJ4A0bTR5jhnxCtymihEkW28k_ymA/file\n",
            "Resolving uc90af0e2df3da57359b424cb9bf.dl.dropboxusercontent.com (uc90af0e2df3da57359b424cb9bf.dl.dropboxusercontent.com)... 162.125.66.15, 2620:100:6026:15::a27d:460f\n",
            "Connecting to uc90af0e2df3da57359b424cb9bf.dl.dropboxusercontent.com (uc90af0e2df3da57359b424cb9bf.dl.dropboxusercontent.com)|162.125.66.15|:443... connected.\n",
            "HTTP request sent, awaiting response... 302 Found\n",
            "Location: /cd/0/inline2/BykZKtmdBom7J_68jJ35yn0LQe4c_DEjNEXUUUjPjP80Z86cyN6ckq74-puSCm9_ZYsBQWPohp5hivHB_-2gUncQD57MIjxSbACibkvwRkl2EFO4v-def9eyJ2ZX5feF3R3cI5L4xuHluT9FsY8MQQ29ZjYbOLwolhazT-7Q8kk1NMJ7dM0euBaR3UjLYrNQ-u2pLIPind6gPmcxTxnBCXNeSYFPvmrQYKG0ZShB2hQshzQXTENTKpXQHCyqeEnogbVbpZZyTE2j0R3DvGbb-y2YXnh17G9YZ2DTt3vG8g2DeuPVr1kIkqnfR6lu-R4ZvyB0rlQDKuMjhH9SfdWfmO4DGSU58SmhMddZqUqDvFftxbqLl0pKUy09VFgryGfz36oSRm-tYt3U_pTgHOWhTecFdCUl-hOJ1sjeuPj9Ep1Sig/file [following]\n",
            "--2022-12-13 23:09:32--  https://uc90af0e2df3da57359b424cb9bf.dl.dropboxusercontent.com/cd/0/inline2/BykZKtmdBom7J_68jJ35yn0LQe4c_DEjNEXUUUjPjP80Z86cyN6ckq74-puSCm9_ZYsBQWPohp5hivHB_-2gUncQD57MIjxSbACibkvwRkl2EFO4v-def9eyJ2ZX5feF3R3cI5L4xuHluT9FsY8MQQ29ZjYbOLwolhazT-7Q8kk1NMJ7dM0euBaR3UjLYrNQ-u2pLIPind6gPmcxTxnBCXNeSYFPvmrQYKG0ZShB2hQshzQXTENTKpXQHCyqeEnogbVbpZZyTE2j0R3DvGbb-y2YXnh17G9YZ2DTt3vG8g2DeuPVr1kIkqnfR6lu-R4ZvyB0rlQDKuMjhH9SfdWfmO4DGSU58SmhMddZqUqDvFftxbqLl0pKUy09VFgryGfz36oSRm-tYt3U_pTgHOWhTecFdCUl-hOJ1sjeuPj9Ep1Sig/file\n",
            "Reusing existing connection to uc90af0e2df3da57359b424cb9bf.dl.dropboxusercontent.com:443.\n",
            "HTTP request sent, awaiting response... 200 OK\n",
            "Length: 21340222 (20M) [application/zip]\n",
            "Saving to: ‘released_data.zip’\n",
            "\n",
            "released_data.zip   100%[===================>]  20.35M  22.2MB/s    in 0.9s    \n",
            "\n",
            "2022-12-13 23:09:34 (22.2 MB/s) - ‘released_data.zip’ saved [21340222/21340222]\n",
            "\n",
            "Archive:  released_data.zip\n",
            "  inflating: Released_Data/super_classes_mapping.csv  \n",
            "  inflating: Released_Data/sub_classes_mapping.csv  \n",
            "  inflating: Released_Data/NNDL_Multi-label_Classification_Competition.pdf  \n",
            "  inflating: Released_Data/example_test_submission.csv  \n",
            "  inflating: Released_Data/train_data.csv  \n",
            "  inflating: Released_Data/Untitled folder/super_classes_mapping.csv  \n",
            "  inflating: Released_Data/Untitled folder/train_label.csv  \n",
            "  inflating: Released_Data/Untitled folder/sub_classes_mapping.csv  \n",
            "  inflating: Released_Data/Untitled folder/example_test_submission.csv  \n",
            "  inflating: Released_Data/Untitled folder/train_image.zip  \n",
            "  inflating: Released_Data/Untitled folder/test_image.zip  \n",
            "  inflating: Released_Data/test_shuffle.zip  \n",
            "  inflating: Released_Data/train_shuffle.zip  \n"
          ]
        }
      ],
      "source": [
        "#Download the dataset from Dropbox\n",
        "!wget -O released_data.zip \"https://www.dropbox.com/s/c2dvapqb613ukhw/Released_Data-20221201T215316Z-001.zip?dl=0\"\n",
        "\n",
        "#Unzip the train, test and other datasets\n",
        "!unzip -q released_data.zip\n",
        "!unzip -q ./Released_Data/test_shuffle.zip\n",
        "!unzip -q ./Released_Data/train_shuffle.zip"
      ]
    },
    {
      "cell_type": "markdown",
      "metadata": {
        "id": "EmvpcuP6s0oF"
      },
      "source": [
        "#### Dataset and Dataloader preparation"
      ]
    },
    {
      "cell_type": "markdown",
      "metadata": {
        "id": "bbihYhyYvSxc"
      },
      "source": [
        "##### Train and Validation data splits"
      ]
    },
    {
      "cell_type": "code",
      "execution_count": 41,
      "metadata": {
        "colab": {
          "base_uri": "https://localhost:8080/"
        },
        "id": "ahJj7UBNvQ0C",
        "outputId": "4189ff9e-b984-4871-d037-c2eeb31c31b7"
      },
      "outputs": [
        {
          "output_type": "stream",
          "name": "stdout",
          "text": [
            "Common names:  []\n",
            "Error names:  []\n",
            "Total number of images:  6472\n",
            "Number of training images:  (5738, 3)\n",
            "Number of validation images:  (734, 3)\n"
          ]
        }
      ],
      "source": [
        "import os\n",
        "import sys\n",
        "import numpy as np\n",
        "import pandas as pd\n",
        "\n",
        "full_imgs = np.array(os.listdir('./train_shuffle'))\n",
        "full_labels = pd.read_csv('./Released_Data/train_data.csv').to_numpy()\n",
        "\n",
        "labels_list = [set(),set(),set()]\n",
        "\n",
        "#prepare lists based on the super classes\n",
        "labels_list = [{}, {}, {}]\n",
        "val_labels_list = [{}, {}, {}]\n",
        "\n",
        "for i in range(len(full_labels)):\n",
        "    if full_labels[i][2] in labels_list[full_labels[i][1]]:\n",
        "        labels_list[full_labels[i][1]][full_labels[i][2]] += 1\n",
        "    else:\n",
        "        labels_list[full_labels[i][1]][full_labels[i][2]] = 1\n",
        "        val_labels_list[full_labels[i][1]][full_labels[i][2]] = 0\n",
        "\n",
        "# Check the number of times each sub class appears\n",
        "# print(dict(sorted(labels_list[0].items(), key=lambda item: item[1])))\n",
        "# print(dict(sorted(labels_list[1].items(), key=lambda item: item[1])))\n",
        "# print(dict(sorted(labels_list[2].items(), key=lambda item: item[1])))\n",
        "\n",
        "#Splitting the train and validation datasets (90 - 10 split)\n",
        "train_imgs = []\n",
        "val_imgs = []\n",
        "\n",
        "for i in range(len(full_labels)):\n",
        "    if val_labels_list[full_labels[i][1]][full_labels[i][2]] <= (0.1)*(labels_list[full_labels[i][1]][full_labels[i][2]]):\n",
        "        val_labels_list[full_labels[i][1]][full_labels[i][2]] += 1\n",
        "        val_imgs.append(full_labels[i][0])\n",
        "    else:\n",
        "        train_imgs.append(full_labels[i][0])\n",
        "\n",
        "#Check if there is any common image between training and validation datasets\n",
        "common_names = [name for name in train_imgs if name in val_imgs]\n",
        "print(\"Common names: \", common_names)\n",
        "\n",
        "train_data = full_labels[np.isin(full_labels[:, 0], train_imgs)]\n",
        "val_data = full_labels[np.isin(full_labels[:, 0], val_imgs)]\n",
        "\n",
        "#Check if there is any name missing from the training dataset\n",
        "ver_train_names = train_data[:, 0]\n",
        "error_names = [name for name in ver_train_names if name not in train_imgs]\n",
        "print(\"Error names: \", error_names)\n",
        "\n",
        "print(\"Total number of images: \", len(full_imgs))\n",
        "print(\"Number of training images: \", train_data.shape)\n",
        "print(\"Number of validation images: \", val_data.shape)\n",
        "# print(type(train_data[0][0]))\n",
        "# print(type(train_data[0][1]))\n",
        "# print(type(val_data[0][0]))\n",
        "# print(type(val_data[0][1]))\n",
        "\n",
        "\n",
        "# --------Code to check the distribution of super and sub classes in the training and validation datasets---------\n",
        "# train_sub_dict = {}\n",
        "# train_super_dict = {}\n",
        "# val_sub_dict = {}\n",
        "# val_super_dict = {}\n",
        "\n",
        "# for i in range(full_labels.shape[0]):\n",
        "#     name = full_labels[i][0]\n",
        "#     super_class = full_labels[i][1]\n",
        "#     sub_class = full_labels[i][2]\n",
        "\n",
        "#     if name in val_data[:, 0]:\n",
        "#         if super_class in val_super_dict:\n",
        "#             val_super_dict[super_class] += 1\n",
        "#         else:\n",
        "#             val_super_dict[super_class] = 1\n",
        "        \n",
        "#         if sub_class in val_sub_dict:\n",
        "#             val_sub_dict[sub_class] += 1\n",
        "#         else:\n",
        "#             val_sub_dict[sub_class] = 1\n",
        "#     else:\n",
        "#         if super_class in train_super_dict:\n",
        "#             train_super_dict[super_class] += 1\n",
        "#         else:\n",
        "#             train_super_dict[super_class] = 1\n",
        "        \n",
        "#         if sub_class in train_sub_dict:\n",
        "#             train_sub_dict[sub_class] += 1\n",
        "#         else:\n",
        "#             train_sub_dict[sub_class] = 1\n",
        "\n",
        "# print(\"Super Class distribution:\")\n",
        "# for k in val_super_dict:\n",
        "#     print(\"Class: \", k, \" Validation: \", val_super_dict[k], \" Train: \", train_super_dict[k], \" Ratio: \", train_super_dict[k]/val_super_dict[k])\n",
        "\n",
        "# print(\"------------------------------\")\n",
        "# print(\"Sub Class distribution:\")\n",
        "# min_val = 10000\n",
        "# max_val = -1\n",
        "# for k in val_sub_dict:\n",
        "#     min_val = min(min_val, train_sub_dict[k]/val_sub_dict[k])\n",
        "#     max_val = max(max_val, train_sub_dict[k]/val_sub_dict[k])\n",
        "#     print(\"Class: \", k, \" Validation: \", val_sub_dict[k], \" Train: \", train_sub_dict[k], \" Ratio: \", train_sub_dict[k]/val_sub_dict[k])\n",
        "\n",
        "# print(\"Minimum Sub Class ratio: \", min_val)\n",
        "# print(\"Maximum Sub Class ratio: \", max_val)\n",
        "\n"
      ]
    },
    {
      "cell_type": "markdown",
      "source": [
        "##### Information about the images in the dataset"
      ],
      "metadata": {
        "id": "b_1w3N4F7qbb"
      }
    },
    {
      "cell_type": "code",
      "source": [
        "import os\n",
        "import sys\n",
        "import cv2\n",
        "from PIL import Image\n",
        "from google.colab.patches import cv2_imshow\n",
        "\n",
        "full_test_imgs = os.listdir(\"./test_shuffle\")\n",
        "\n",
        "train_img = cv2.imread(os.path.join('train_shuffle', train_data[0][0]), cv2.IMREAD_UNCHANGED)\n",
        "print(train_data[0][0], train_img.shape)\n",
        "cv2_imshow(train_img)\n",
        "\n",
        "val_img = cv2.imread(os.path.join('train_shuffle', val_data[0][0]), cv2.IMREAD_UNCHANGED)\n",
        "print(val_data[0][0], val_img.shape)\n",
        "cv2_imshow(val_img)\n",
        "\n",
        "test_img = cv2.imread(os.path.join('train_shuffle', full_test_imgs[0]), cv2.IMREAD_UNCHANGED)\n",
        "print(full_test_imgs[0], test_img.shape)\n",
        "cv2_imshow(test_img)\n"
      ],
      "metadata": {
        "colab": {
          "base_uri": "https://localhost:8080/",
          "height": 121
        },
        "id": "Zx9-8L0G7qw_",
        "outputId": "0f46ef13-9db2-4369-97ec-a909e3a7a4fb"
      },
      "execution_count": 42,
      "outputs": [
        {
          "output_type": "stream",
          "name": "stdout",
          "text": [
            "328.jpg (8, 8, 3)\n"
          ]
        },
        {
          "output_type": "display_data",
          "data": {
            "text/plain": [
              "<PIL.Image.Image image mode=RGB size=8x8 at 0x7FE074CBAF70>"
            ],
            "image/png": "[encoded data removed]"
          },
          "metadata": {}
        },
        {
          "output_type": "stream",
          "name": "stdout",
          "text": [
            "0.jpg (8, 8, 3)\n"
          ]
        },
        {
          "output_type": "display_data",
          "data": {
            "text/plain": [
              "<PIL.Image.Image image mode=RGB size=8x8 at 0x7FE07795D130>"
            ],
            "image/png": "[encoded data removed]"
          },
          "metadata": {}
        },
        {
          "output_type": "stream",
          "name": "stdout",
          "text": [
            "4713.jpg (8, 8, 3)\n"
          ]
        },
        {
          "output_type": "display_data",
          "data": {
            "text/plain": [
              "<PIL.Image.Image image mode=RGB size=8x8 at 0x7FE07795D910>"
            ],
            "image/png": "[encoded data removed]"
          },
          "metadata": {}
        }
      ]
    },
    {
      "cell_type": "markdown",
      "metadata": {
        "id": "HrEdW8Li5-DY"
      },
      "source": [
        "##### KaggleDataset"
      ]
    },
    {
      "cell_type": "code",
      "execution_count": 43,
      "metadata": {
        "id": "P9rfTIHYs0-B"
      },
      "outputs": [],
      "source": [
        "import os\n",
        "import sys\n",
        "import pandas as pd\n",
        "import cv2\n",
        "import torch\n",
        "import torch.nn as nn\n",
        "\n",
        "import albumentations as A\n",
        "from albumentations.pytorch import ToTensorV2\n",
        "\n",
        "class KaggleDataset(nn.Module):\n",
        "    def __init__(self, mode = 'train'):\n",
        "        super(KaggleDataset, self).__init__()\n",
        "        self.mode = mode\n",
        "\n",
        "        if mode == 'train':\n",
        "            self.dataset = train_data\n",
        "        else:\n",
        "            self.dataset = val_data\n",
        "    \n",
        "    def __len__(self):\n",
        "        return len(self.dataset)\n",
        "\n",
        "    def __getitem__(self, idx):\n",
        "        img_name = self.dataset[idx][0]\n",
        "        img = cv2.imread(os.path.join('train_shuffle', img_name))\n",
        "        img = cv2.cvtColor(img, cv2.COLOR_BGR2RGB)    #convert image from BGR to RGB format\n",
        "\n",
        "        super_class = torch.tensor(self.dataset[idx][1], dtype = torch.float32)\n",
        "        sub_class = torch.tensor(self.dataset[idx][2], dtype = torch.float32)\n",
        "\n",
        "        apply_transform = self.transform_data()\n",
        "        image = apply_transform(image = img)['image']\n",
        "\n",
        "        return image, super_class, sub_class\n",
        "\n",
        "    def transform_data(self):\n",
        "\n",
        "        if self.mode == 'train':\n",
        "            transform_data = A.Compose(\n",
        "              [\n",
        "                  #always resize the image to 329x224\n",
        "                  #A.Resize(height = 329, width= 224, interpolation = cv2.INTER_AREA, p=1),\n",
        "                  A.HorizontalFlip(p=0.4),  \n",
        "                  A.ShiftScaleRotate(shift_limit=0.025, scale_limit=0, rotate_limit=15, p=0.5),\n",
        "                  #A.RandomCrop(height = 224, width = 224, p=1),\n",
        "                  #randomly change brightness, contrast, and saturation of the image 50% of the time\n",
        "                  A.ColorJitter(brightness=0.2, contrast=0.2, saturation=0.2, hue = 0, p=0.5), \n",
        "                  A.Normalize(mean=(0.485, 0.456, 0.406), std=(0.229, 0.224, 0.225), max_pixel_value=255.0, p=1), \n",
        "                  ToTensorV2(p=1),\n",
        "              ])\n",
        "        else:     #augmentations during validation and testing\n",
        "          transform_data = A.Compose(\n",
        "          [\n",
        "              #always resize the image to 329x224\n",
        "              #A.Resize(height = 329, width = 224, p=1),   \n",
        "              A.Normalize(mean=(0.485, 0.456, 0.406), std=(0.229, 0.224, 0.225), max_pixel_value=255.0, p=1),\n",
        "              ToTensorV2(p=1),\n",
        "          ])\n",
        "    \n",
        "        return transform_data"
      ]
    },
    {
      "cell_type": "markdown",
      "source": [
        "##### KaggleDataloader"
      ],
      "metadata": {
        "id": "CI1Srqj-GkHs"
      }
    },
    {
      "cell_type": "code",
      "source": [
        "from torch.utils.data import DataLoader\n",
        "\n",
        "train_dataset = KaggleDataset(mode='train')\n",
        "val_dataset = KaggleDataset(mode='val')\n",
        "    \n",
        "train_loader = DataLoader(dataset = train_dataset, batch_size = 64, shuffle = True, num_workers = 8, pin_memory = True)\n",
        "val_loader = DataLoader(dataset = val_dataset, batch_size = 64, shuffle = False)\n",
        "\n",
        "# print(len(train_loader))\n",
        "# print(len(val_loader))"
      ],
      "metadata": {
        "colab": {
          "base_uri": "https://localhost:8080/"
        },
        "id": "ekKlmYMuGmnu",
        "outputId": "42e4ded7-3c50-4bb4-abdf-badf08e40e42"
      },
      "execution_count": 46,
      "outputs": [
        {
          "output_type": "stream",
          "name": "stdout",
          "text": [
            "90\n",
            "12\n"
          ]
        }
      ]
    }
  ],
  "metadata": {
    "accelerator": "GPU",
    "colab": {
      "provenance": [],
      "collapsed_sections": [
        "5pXRiu5Uons_",
        "bbihYhyYvSxc",
        "b_1w3N4F7qbb",
        "HrEdW8Li5-DY"
      ]
    },
    "gpuClass": "standard",
    "kernelspec": {
      "display_name": "Python 3",
      "language": "python",
      "name": "python3"
    },
    "language_info": {
      "name": "python",
      "version": "3.11.0 (main, Oct 24 2022, 18:26:48) [MSC v.1933 64 bit (AMD64)]"
    },
    "vscode": {
      "interpreter": {
        "hash": "1336dc93fed444907148fdefc226feab10af1c3f9ec40f52f703fca06f588eaf"
      }
    }
  },
  "nbformat": 4,
  "nbformat_minor": 0
}