{
  "cells": [
    {
      "cell_type": "markdown",
      "metadata": {
        "id": "F_Fr_jmSoc52"
      },
      "source": [
        "### NNDL baseline trainings"
      ]
    },
    {
      "cell_type": "markdown",
      "metadata": {
        "id": "5pXRiu5Uons_"
      },
      "source": [
        "#### Download the kaggle datasets"
      ]
    },
    {
      "cell_type": "code",
      "execution_count": 1,
      "metadata": {
        "colab": {
          "base_uri": "https://localhost:8080/"
        },
        "id": "XUgTm-UbocWs",
        "outputId": "8ff9c78d-5c80-41e5-870d-5c475132a822"
      },
      "outputs": [
        {
          "output_type": "stream",
          "name": "stdout",
          "text": [
            "--2022-12-14 18:52:51--  https://www.dropbox.com/s/c2dvapqb613ukhw/Released_Data-20221201T215316Z-001.zip?dl=0\n",
            "Resolving www.dropbox.com (www.dropbox.com)... 162.125.4.18, 2620:100:6019:18::a27d:412\n",
            "Connecting to www.dropbox.com (www.dropbox.com)|162.125.4.18|:443... connected.\n",
            "HTTP request sent, awaiting response... 302 Found\n",
            "Location: /s/raw/c2dvapqb613ukhw/Released_Data-20221201T215316Z-001.zip [following]\n",
            "--2022-12-14 18:52:51--  https://www.dropbox.com/s/raw/c2dvapqb613ukhw/Released_Data-20221201T215316Z-001.zip\n",
            "Reusing existing connection to www.dropbox.com:443.\n",
            "HTTP request sent, awaiting response... 302 Found\n",
            "Location: https://uc3bd336a8b44ba665af4a906127.dl.dropboxusercontent.com/cd/0/inline/Byr0KnbIw0kpTmhhVyrAq8tYSGJVCDUooUsSjcZHGPuRqOmYhjfFtx543T3q3_17VT-0lUwZMlHcfK9IhkvtNIS7nuNhfpkvac58jp8gFryAYdiwcr8j7CC5uaiN5qzZqL_dXMG2WmOif0Za9A2JQw3rOuNzaizpBkGa987nerKZGQ/file# [following]\n",
            "--2022-12-14 18:52:52--  https://uc3bd336a8b44ba665af4a906127.dl.dropboxusercontent.com/cd/0/inline/Byr0KnbIw0kpTmhhVyrAq8tYSGJVCDUooUsSjcZHGPuRqOmYhjfFtx543T3q3_17VT-0lUwZMlHcfK9IhkvtNIS7nuNhfpkvac58jp8gFryAYdiwcr8j7CC5uaiN5qzZqL_dXMG2WmOif0Za9A2JQw3rOuNzaizpBkGa987nerKZGQ/file\n",
            "Resolving uc3bd336a8b44ba665af4a906127.dl.dropboxusercontent.com (uc3bd336a8b44ba665af4a906127.dl.dropboxusercontent.com)... 162.125.4.15, 2620:100:6019:15::a27d:40f\n",
            "Connecting to uc3bd336a8b44ba665af4a906127.dl.dropboxusercontent.com (uc3bd336a8b44ba665af4a906127.dl.dropboxusercontent.com)|162.125.4.15|:443... connected.\n",
            "HTTP request sent, awaiting response... 302 Found\n",
            "Location: /cd/0/inline2/ByrAeT5v4Y4nxbieGQLiqbDWPkmb7dmU3lnC71sIDvsKSnD_XzNsNl0plW0YCnqqprSt4Jt-Os_0b15LY3UL9j0PdaHPADGoYCkV1DYQozgkyk9IF60sqpJbv3XonmxqxMn9Etle58mR9AvK9xZwS-fwrApB1H46SXlfPWxcre-VqH7a9OegM-XlYyr1PhYRjes47GUB_GHgYOfs0grhSZW4GOP62mbg1yRquWOmXQWTqWu9o1H_TrAR43AEEajXQoEXSy-zxPsdNKBD5_iZb9y7KYMVPrhWK52CvgZFonfFC8M08A00uCPsPsnd4hm1j-K6vDka31_DWVe-LaZ5UxNASlwpEMEXRkqi_A-7cNzaMM900NwmRH9Ojhe-BgHUewH4q8ydLWo93UHsBG0QScKvJne_bFWA2bYSLyfr1MD3zA/file [following]\n",
            "--2022-12-14 18:52:53--  https://uc3bd336a8b44ba665af4a906127.dl.dropboxusercontent.com/cd/0/inline2/ByrAeT5v4Y4nxbieGQLiqbDWPkmb7dmU3lnC71sIDvsKSnD_XzNsNl0plW0YCnqqprSt4Jt-Os_0b15LY3UL9j0PdaHPADGoYCkV1DYQozgkyk9IF60sqpJbv3XonmxqxMn9Etle58mR9AvK9xZwS-fwrApB1H46SXlfPWxcre-VqH7a9OegM-XlYyr1PhYRjes47GUB_GHgYOfs0grhSZW4GOP62mbg1yRquWOmXQWTqWu9o1H_TrAR43AEEajXQoEXSy-zxPsdNKBD5_iZb9y7KYMVPrhWK52CvgZFonfFC8M08A00uCPsPsnd4hm1j-K6vDka31_DWVe-LaZ5UxNASlwpEMEXRkqi_A-7cNzaMM900NwmRH9Ojhe-BgHUewH4q8ydLWo93UHsBG0QScKvJne_bFWA2bYSLyfr1MD3zA/file\n",
            "Reusing existing connection to uc3bd336a8b44ba665af4a906127.dl.dropboxusercontent.com:443.\n",
            "HTTP request sent, awaiting response... 200 OK\n",
            "Length: 21340222 (20M) [application/zip]\n",
            "Saving to: ‘released_data.zip’\n",
            "\n",
            "released_data.zip   100%[===================>]  20.35M  67.7MB/s    in 0.3s    \n",
            "\n",
            "2022-12-14 18:52:53 (67.7 MB/s) - ‘released_data.zip’ saved [21340222/21340222]\n",
            "\n"
          ]
        }
      ],
      "source": [
        "#Download the dataset from Dropbox\n",
        "!wget -O released_data.zip \"https://www.dropbox.com/s/c2dvapqb613ukhw/Released_Data-20221201T215316Z-001.zip?dl=0\"\n",
        "\n",
        "#Unzip the train, test and other datasets\n",
        "!unzip -q released_data.zip\n",
        "!unzip -q ./Released_Data/test_shuffle.zip\n",
        "!unzip -q ./Released_Data/train_shuffle.zip"
      ]
    },
    {
      "cell_type": "markdown",
      "source": [
        "#### Utility Code"
      ],
      "metadata": {
        "id": "1X-VJRUwWI81"
      }
    },
    {
      "cell_type": "code",
      "source": [
        "import torch\n",
        "\n",
        "device = 'cpu'\n",
        "if torch.cuda.is_available():\n",
        "    device = 'cuda'\n",
        "\n",
        "print(device)"
      ],
      "metadata": {
        "colab": {
          "base_uri": "https://localhost:8080/"
        },
        "id": "M2ab5gJSWNMn",
        "outputId": "40c5b2f0-6257-4c0f-9794-be53350dbf9e"
      },
      "execution_count": 2,
      "outputs": [
        {
          "output_type": "stream",
          "name": "stdout",
          "text": [
            "cpu\n"
          ]
        }
      ]
    },
    {
      "cell_type": "markdown",
      "metadata": {
        "id": "EmvpcuP6s0oF"
      },
      "source": [
        "#### Dataset and Dataloader preparation"
      ]
    },
    {
      "cell_type": "markdown",
      "metadata": {
        "id": "bbihYhyYvSxc"
      },
      "source": [
        "##### Train and Validation data splits"
      ]
    },
    {
      "cell_type": "code",
      "execution_count": 3,
      "metadata": {
        "colab": {
          "base_uri": "https://localhost:8080/"
        },
        "id": "ahJj7UBNvQ0C",
        "outputId": "abd19daf-6e29-4838-c185-31f7942b0daf"
      },
      "outputs": [
        {
          "output_type": "stream",
          "name": "stdout",
          "text": [
            "{74: 51, 11: 51, 14: 51, 5: 51, 41: 51, 16: 51, 85: 51, 52: 51, 40: 51, 57: 51, 79: 51, 82: 51, 42: 51, 88: 51, 8: 51, 26: 51, 20: 51, 60: 51, 61: 51, 81: 51, 84: 51, 19: 51, 24: 100, 30: 100, 27: 100, 6: 100, 28: 100, 76: 100, 86: 100, 4: 100}\n",
            "{12: 50, 38: 50, 10: 50, 45: 50, 80: 50, 87: 50, 23: 50, 32: 50, 9: 50, 17: 50, 2: 50, 55: 50, 78: 50, 54: 50, 0: 50, 25: 50, 63: 100, 49: 100, 22: 100, 18: 100, 7: 100, 66: 100, 71: 100, 37: 100, 65: 100, 31: 100, 21: 100, 46: 100, 36: 100}\n",
            "{48: 50, 68: 50, 69: 50, 75: 50, 3: 50, 56: 50, 33: 50, 34: 50, 39: 50, 13: 50, 15: 50, 72: 100, 43: 100, 1: 100, 53: 100, 67: 100, 58: 100, 59: 100, 35: 100, 70: 100, 73: 100, 77: 100, 51: 100, 64: 100, 44: 100, 29: 100, 50: 100, 83: 100, 62: 100, 47: 100}\n",
            "Common names:  []\n",
            "Error names:  []\n",
            "Total number of images:  6472\n",
            "Number of training images:  (5738, 3)\n",
            "Number of validation images:  (734, 3)\n"
          ]
        }
      ],
      "source": [
        "import os\n",
        "import sys\n",
        "import numpy as np\n",
        "import pandas as pd\n",
        "\n",
        "full_imgs = np.array(os.listdir('./train_shuffle'))\n",
        "full_labels = pd.read_csv('./Released_Data/train_data.csv').to_numpy()\n",
        "\n",
        "labels_list = [set(),set(),set()]\n",
        "\n",
        "#prepare lists based on the super classes\n",
        "labels_list = [{}, {}, {}]\n",
        "val_labels_list = [{}, {}, {}]\n",
        "\n",
        "for i in range(len(full_labels)):\n",
        "    if full_labels[i][2] in labels_list[full_labels[i][1]]:\n",
        "        labels_list[full_labels[i][1]][full_labels[i][2]] += 1\n",
        "    else:\n",
        "        labels_list[full_labels[i][1]][full_labels[i][2]] = 1\n",
        "        val_labels_list[full_labels[i][1]][full_labels[i][2]] = 0\n",
        "\n",
        "# Check the number of times each sub class appears\n",
        "print(dict(sorted(labels_list[0].items(), key=lambda item: item[1])))\n",
        "print(dict(sorted(labels_list[1].items(), key=lambda item: item[1])))\n",
        "print(dict(sorted(labels_list[2].items(), key=lambda item: item[1])))\n",
        "\n",
        "#Splitting the train and validation datasets (90 - 10 split)\n",
        "train_imgs = []\n",
        "val_imgs = []\n",
        "\n",
        "for i in range(len(full_labels)):\n",
        "    if val_labels_list[full_labels[i][1]][full_labels[i][2]] <= (0.1)*(labels_list[full_labels[i][1]][full_labels[i][2]]):\n",
        "        val_labels_list[full_labels[i][1]][full_labels[i][2]] += 1\n",
        "        val_imgs.append(full_labels[i][0])\n",
        "    else:\n",
        "        train_imgs.append(full_labels[i][0])\n",
        "\n",
        "#Check if there is any common image between training and validation datasets\n",
        "common_names = [name for name in train_imgs if name in val_imgs]\n",
        "print(\"Common names: \", common_names)\n",
        "\n",
        "train_data = full_labels[np.isin(full_labels[:, 0], train_imgs)]\n",
        "val_data = full_labels[np.isin(full_labels[:, 0], val_imgs)]\n",
        "\n",
        "#Check if there is any name missing from the training dataset\n",
        "ver_train_names = train_data[:, 0]\n",
        "error_names = [name for name in ver_train_names if name not in train_imgs]\n",
        "print(\"Error names: \", error_names)\n",
        "\n",
        "print(\"Total number of images: \", len(full_imgs))\n",
        "print(\"Number of training images: \", train_data.shape)\n",
        "print(\"Number of validation images: \", val_data.shape)\n",
        "# print(type(train_data[0][0]))\n",
        "# print(type(train_data[0][1]))\n",
        "# print(type(val_data[0][0]))\n",
        "# print(type(val_data[0][1]))\n",
        "\n",
        "\n",
        "# --------Code to check the distribution of super and sub classes in the training and validation datasets---------\n",
        "# train_sub_dict = {}\n",
        "# train_super_dict = {}\n",
        "# val_sub_dict = {}\n",
        "# val_super_dict = {}\n",
        "\n",
        "# for i in range(full_labels.shape[0]):\n",
        "#     name = full_labels[i][0]\n",
        "#     super_class = full_labels[i][1]\n",
        "#     sub_class = full_labels[i][2]\n",
        "\n",
        "#     if name in val_data[:, 0]:\n",
        "#         if super_class in val_super_dict:\n",
        "#             val_super_dict[super_class] += 1\n",
        "#         else:\n",
        "#             val_super_dict[super_class] = 1\n",
        "        \n",
        "#         if sub_class in val_sub_dict:\n",
        "#             val_sub_dict[sub_class] += 1\n",
        "#         else:\n",
        "#             val_sub_dict[sub_class] = 1\n",
        "#     else:\n",
        "#         if super_class in train_super_dict:\n",
        "#             train_super_dict[super_class] += 1\n",
        "#         else:\n",
        "#             train_super_dict[super_class] = 1\n",
        "        \n",
        "#         if sub_class in train_sub_dict:\n",
        "#             train_sub_dict[sub_class] += 1\n",
        "#         else:\n",
        "#             train_sub_dict[sub_class] = 1\n",
        "\n",
        "# print(\"Super Class distribution:\")\n",
        "# for k in val_super_dict:\n",
        "#     print(\"Class: \", k, \" Validation: \", val_super_dict[k], \" Train: \", train_super_dict[k], \" Ratio: \", train_super_dict[k]/val_super_dict[k])\n",
        "\n",
        "# print(\"------------------------------\")\n",
        "# print(\"Sub Class distribution:\")\n",
        "# min_val = 10000\n",
        "# max_val = -1\n",
        "# for k in val_sub_dict:\n",
        "#     min_val = min(min_val, train_sub_dict[k]/val_sub_dict[k])\n",
        "#     max_val = max(max_val, train_sub_dict[k]/val_sub_dict[k])\n",
        "#     print(\"Class: \", k, \" Validation: \", val_sub_dict[k], \" Train: \", train_sub_dict[k], \" Ratio: \", train_sub_dict[k]/val_sub_dict[k])\n",
        "\n",
        "# print(\"Minimum Sub Class ratio: \", min_val)\n",
        "# print(\"Maximum Sub Class ratio: \", max_val)\n",
        "\n"
      ]
    },
    {
      "cell_type": "markdown",
      "source": [
        "##### Information about the images in the dataset"
      ],
      "metadata": {
        "id": "b_1w3N4F7qbb"
      }
    },
    {
      "cell_type": "code",
      "source": [
        "import os\n",
        "import sys\n",
        "import cv2\n",
        "from PIL import Image\n",
        "from google.colab.patches import cv2_imshow\n",
        "import albumentations as A\n",
        "\n",
        "full_test_imgs = os.listdir(\"./test_shuffle\")\n",
        "\n",
        "train_img = cv2.imread(os.path.join('train_shuffle', train_data[0][0]), cv2.IMREAD_UNCHANGED)\n",
        "train_img = cv2.resize(train_img, (64, 64), interpolation = cv2.INTER_CUBIC)\n",
        "print(train_data[0][0], train_data[0][1], train_data[0][2], train_img.shape)\n",
        "transform_data = A.Compose([A.Normalize(mean=(0.485, 0.456, 0.406), std=(0.229, 0.224, 0.225), max_pixel_value=255.0, p=1)])\n",
        "train_img = transform_data(image = train_img)['image']\n",
        "print(type(train_img), train_img.shape)\n",
        "cv2_imshow(train_img)\n",
        "\n",
        "val_img = cv2.imread(os.path.join('train_shuffle', val_data[0][0]), cv2.IMREAD_UNCHANGED)\n",
        "val_img = cv2.resize(val_img, (64, 64), interpolation = cv2.INTER_CUBIC)\n",
        "print(val_data[0][0], val_data[0][1], val_data[0][2], val_img.shape)\n",
        "cv2_imshow(val_img)\n",
        "\n",
        "test_img = cv2.imread(os.path.join('test_shuffle', full_test_imgs[0]), cv2.IMREAD_UNCHANGED)\n",
        "test_img = cv2.resize(test_img, (64, 64), interpolation = cv2.INTER_CUBIC)\n",
        "print(full_test_imgs[0], test_img.shape)\n",
        "cv2_imshow(test_img)\n"
      ],
      "metadata": {
        "colab": {
          "base_uri": "https://localhost:8080/",
          "height": 278
        },
        "id": "Zx9-8L0G7qw_",
        "outputId": "fcdd0834-9c77-4f6d-c3e8-c2e4666a5928"
      },
      "execution_count": 8,
      "outputs": [
        {
          "output_type": "stream",
          "name": "stdout",
          "text": [
            "328.jpg 1 78 (64, 64, 3)\n",
            "<class 'numpy.ndarray'> (64, 64, 3)\n"
          ]
        },
        {
          "output_type": "display_data",
          "data": {
            "text/plain": [
              "<PIL.Image.Image image mode=RGB size=64x64 at 0x7FAF10D2D880>"
            ],
            "image/png": "[encoded data removed]"
          },
          "metadata": {}
        },
        {
          "output_type": "stream",
          "name": "stdout",
          "text": [
            "0.jpg 1 63 (64, 64, 3)\n"
          ]
        },
        {
          "output_type": "display_data",
          "data": {
            "text/plain": [
              "<PIL.Image.Image image mode=RGB size=64x64 at 0x7FAF10D2D4C0>"
            ],
            "image/png": "[encoded data removed]"
          },
          "metadata": {}
        },
        {
          "output_type": "stream",
          "name": "stdout",
          "text": [
            "8174.jpg (64, 64, 3)\n"
          ]
        },
        {
          "output_type": "display_data",
          "data": {
            "text/plain": [
              "<PIL.Image.Image image mode=RGB size=64x64 at 0x7FAF10D2D880>"
            ],
            "image/png": "[encoded data removed]"
          },
          "metadata": {}
        }
      ]
    },
    {
      "cell_type": "markdown",
      "metadata": {
        "id": "HrEdW8Li5-DY"
      },
      "source": [
        "##### KaggleDataset"
      ]
    },
    {
      "cell_type": "code",
      "execution_count": 68,
      "metadata": {
        "id": "P9rfTIHYs0-B"
      },
      "outputs": [],
      "source": [
        "import os\n",
        "import sys\n",
        "import pandas as pd\n",
        "import cv2\n",
        "import torch\n",
        "import torch.nn as nn\n",
        "\n",
        "import albumentations as A\n",
        "from albumentations.pytorch import ToTensorV2\n",
        "\n",
        "class KaggleDataset(nn.Module):\n",
        "    def __init__(self, mode = 'train'):\n",
        "        super(KaggleDataset, self).__init__()\n",
        "        self.mode = mode\n",
        "\n",
        "        if mode == 'train':\n",
        "            self.dataset = train_data\n",
        "        else:\n",
        "            self.dataset = val_data\n",
        "    \n",
        "    def __len__(self):\n",
        "        return len(self.dataset)\n",
        "\n",
        "    def __getitem__(self, idx):\n",
        "        img_name = self.dataset[idx][0]\n",
        "        img = cv2.imread(os.path.join('train_shuffle', img_name))\n",
        "        #for now resize the image to 64 x 64 using CUBIC interpolation\n",
        "        img = cv2.resize(img, (64, 64), interpolation = cv2.INTER_CUBIC)   \n",
        "        img = cv2.cvtColor(img, cv2.COLOR_BGR2RGB)    #convert image from BGR to RGB format\n",
        "\n",
        "        super_class = torch.tensor(self.dataset[idx][1], dtype = torch.float32)\n",
        "        sub_class = torch.tensor(self.dataset[idx][2], dtype = torch.float32)\n",
        "\n",
        "        apply_transform = self.transform_data()\n",
        "        image = apply_transform(image = img)['image']\n",
        "\n",
        "        return image, super_class, sub_class\n",
        "\n",
        "    def transform_data(self):\n",
        "\n",
        "        if self.mode == 'train':\n",
        "            transform_func = A.Compose(\n",
        "              [\n",
        "                  #always resize the image to 329x224\n",
        "                  #A.Resize(height = 329, width= 224, interpolation = cv2.INTER_AREA, p=1),\n",
        "                  A.HorizontalFlip(p=0.4),  \n",
        "                  A.ShiftScaleRotate(shift_limit=0.025, scale_limit=0, rotate_limit=15, p=0.5),\n",
        "                  #A.RandomCrop(height = 224, width = 224, p=1),\n",
        "                  #randomly change brightness, contrast, and saturation of the image 50% of the time\n",
        "                  A.ColorJitter(brightness=0.2, contrast=0.2, saturation=0.2, hue = 0, p=0.5), \n",
        "                  A.Normalize(mean=(0.485, 0.456, 0.406), std=(0.229, 0.224, 0.225), max_pixel_value=255.0, p=1), \n",
        "                  ToTensorV2(p=1),\n",
        "              ])\n",
        "        else:     #augmentations during validation and testing\n",
        "          transform_func = A.Compose(\n",
        "          [\n",
        "              #always resize the image to 329x224\n",
        "              #A.Resize(height = 329, width = 224, p=1),   \n",
        "              A.Normalize(mean=(0.485, 0.456, 0.406), std=(0.229, 0.224, 0.225), max_pixel_value=255.0, p=1),\n",
        "              ToTensorV2(p=1),\n",
        "          ])\n",
        "    \n",
        "        return transform_func"
      ]
    },
    {
      "cell_type": "markdown",
      "source": [
        "##### KaggleDataloader"
      ],
      "metadata": {
        "id": "CI1Srqj-GkHs"
      }
    },
    {
      "cell_type": "code",
      "source": [
        "from torch.utils.data import DataLoader\n",
        "\n",
        "train_dataset = KaggleDataset(mode='train')\n",
        "val_dataset = KaggleDataset(mode='val')\n",
        "    \n",
        "train_loader = DataLoader(dataset = train_dataset, batch_size = 32, shuffle = True, num_workers = 8, pin_memory = True)\n",
        "val_loader = DataLoader(dataset = val_dataset, batch_size = 32, shuffle = False)\n",
        "\n",
        "# print(len(train_loader))\n",
        "# print(len(val_loader))"
      ],
      "metadata": {
        "colab": {
          "base_uri": "https://localhost:8080/"
        },
        "id": "ekKlmYMuGmnu",
        "outputId": "be1cbc2e-be7d-4453-bc18-428987c50745"
      },
      "execution_count": 69,
      "outputs": [
        {
          "output_type": "stream",
          "name": "stderr",
          "text": [
            "/usr/local/lib/python3.8/dist-packages/torch/utils/data/dataloader.py:554: UserWarning: This DataLoader will create 8 worker processes in total. Our suggested max number of worker in current system is 2, which is smaller than what this DataLoader is going to create. Please be aware that excessive worker creation might get DataLoader running slow or even freeze, lower the worker number to avoid potential slowness/freeze if necessary.\n",
            "  warnings.warn(_create_warning_msg(\n"
          ]
        }
      ]
    },
    {
      "cell_type": "markdown",
      "source": [
        "#### Load the tensorboard"
      ],
      "metadata": {
        "id": "tVH4Elj1e3GL"
      }
    },
    {
      "cell_type": "code",
      "source": [
        "#!pip3 install tensorboard"
      ],
      "metadata": {
        "colab": {
          "base_uri": "https://localhost:8080/"
        },
        "id": "7xxHpOrne5SD",
        "outputId": "5ca99def-0c85-4cc6-cca3-8f8d7eb5b9f8"
      },
      "execution_count": 39,
      "outputs": [
        {
          "output_type": "stream",
          "name": "stdout",
          "text": [
            "The tensorboard extension is already loaded. To reload it, use:\n",
            "  %reload_ext tensorboard\n",
            "\n",
            "NOTE: Using experimental fast data loading logic. To disable, pass\n",
            "    \"--load_fast=false\" and report issues on GitHub. More details:\n",
            "    https://github.com/tensorflow/tensorboard/issues/4784\n",
            "\n",
            "Serving TensorBoard on localhost; to expose to the network, use a proxy or pass --bind_all\n",
            "TensorBoard 2.9.1 at http://localhost:6006/ (Press CTRL+C to quit)\n"
          ]
        }
      ]
    },
    {
      "cell_type": "code",
      "source": [
        "!rm -rf runs\n",
        "%load_ext tensorboard\n",
        "%tensorboard --logdir runs"
      ],
      "metadata": {
        "id": "PJ4XpuL9nFNF"
      },
      "execution_count": null,
      "outputs": []
    },
    {
      "cell_type": "markdown",
      "source": [
        "#### Training utility functions"
      ],
      "metadata": {
        "id": "4ET5OsiWbiod"
      }
    },
    {
      "cell_type": "code",
      "source": [
        "# Will contain utility functions used for training the model\n",
        "import torch\n",
        "import os\n",
        "import copy\n",
        "from tqdm import tqdm\n",
        "from time import sleep\n",
        "from torch.utils.tensorboard import SummaryWriter\n",
        "import time\n",
        "\n",
        "#Training Function\n",
        "def fit_classifier(model, train_loader, val_loader, optimizer, loss_func, epochs=10, initial_epoch=0, device='cpu', name='effnetb6'):\n",
        "    '''\n",
        "    function to train a classifier model.\n",
        "    args:\n",
        "        model - the model to be trained\n",
        "        train_loader - Dataloader() for train set\n",
        "        val_loader - Dataloader() for val set\n",
        "        optimizer - optimization algorithm for updating weights\n",
        "        loss_func - loss function to be used\n",
        "    \n",
        "    keyword args:\n",
        "        epochs - Number of training epochs (default=10)\n",
        "        initial_epoch - The starting epoch\n",
        "        device - the device for training (default='cpu')\n",
        "        name - Name for saving the model\n",
        "    \n",
        "    returns: Nothing\n",
        "    \n",
        "    '''\n",
        "    \n",
        "    model = model.to(device, non_blocking=True)\n",
        "    \n",
        "    # Save the models based on the super and sub class validation accuracies\n",
        "    best_super_acc = torch.tensor([0.]).to(device, non_blocking=True)\n",
        "    best_sub_acc = torch.tensor([0.]).to(device, non_blocking=True)\n",
        "    \n",
        "    #create the logger object\n",
        "    writer = SummaryWriter()\n",
        "    start_time = time.time()\n",
        "    \n",
        "    #Iterate epochs\n",
        "    for epoch in range(initial_epoch, initial_epoch + epochs):\n",
        "        #Each epoch has a training phase and validation phase\n",
        "        for phase in ['train','val']:\n",
        "            data_loader = None\n",
        "            if phase == 'train':\n",
        "                #Set train mode\n",
        "                model.train()\n",
        "                data_loader = train_loader\n",
        "            else:\n",
        "                #Set Eval mode\n",
        "                model.eval()\n",
        "                data_loader = val_loader\n",
        "          \n",
        "            running_super_loss = 0.\n",
        "            running_sub_loss = 0.\n",
        "            running_super_corrects = torch.tensor([0.]).to(device, non_blocking=True)\n",
        "            running_sub_corrects = torch.tensor([0.]).to(device, non_blocking=True)\n",
        "            \n",
        "            #tqdm for observing the progress\n",
        "            with tqdm(data_loader, unit=\"batch\") as tepoch:\n",
        "                #Iterate batches\n",
        "                for itr, (images, super_labels, sub_labels) in enumerate(tepoch):\n",
        "                    tepoch.set_description(f\"Epoch {(epoch+1)} {phase}\")\n",
        "                    images = images.to(device, non_blocking=True)\n",
        "\n",
        "                    super_labels = super_labels.long().to(device, non_blocking=True)\n",
        "                    sub_labels = sub_labels.long().to(device, non_blocking=True)\n",
        "                    \n",
        "                    optimizer.zero_grad()\n",
        "                    \n",
        "                    #Set gradient calculation only for training phase\n",
        "                    with torch.set_grad_enabled(phase == 'train'):\n",
        "                        super_outputs, sub_outputs = model(images)\n",
        "\n",
        "                        super_loss = loss_func(super_outputs, super_labels)\n",
        "                        sub_loss = loss_func(sub_outputs, sub_labels)\n",
        "\n",
        "                        super_preds = torch.argmax(super_outputs, dim=1)\n",
        "                        sub_preds = torch.argmax(sub_outputs, dim=1)\n",
        "\n",
        "                        loss = 5 * super_loss + sub_loss\n",
        "                        \n",
        "                        #Do backprop only during training\n",
        "                        if phase == 'train':\n",
        "                            loss.backward()\n",
        "                            optimizer.step()\n",
        "                    \n",
        "                    running_super_loss += 5 * super_loss.item() * images.size(0)\n",
        "                    running_sub_loss += sub_loss.item() * images.size(0)\n",
        "                    running_super_corrects += torch.sum(super_preds == super_labels)\n",
        "                    running_sub_corrects += torch.sum(sub_preds == sub_labels)\n",
        "                    \n",
        "                    if phase == 'train':\n",
        "                        writer.add_scalar(\"Batch_Loss/\" + phase, loss.item(), epoch * len(data_loader) + itr)\n",
        "                        writer.add_scalar(\"Batch_Accuracy_Super_Class/\" + phase,\n",
        "                                          (torch.sum(super_preds == super_labels)/(images.shape[0])).item(),\n",
        "                                          epoch * len(data_loader) + itr)\n",
        "                        writer.add_scalar(\"Batch_Accuracy_Sub_Class/\" + phase,\n",
        "                                          (torch.sum(sub_preds == sub_labels)/(images.shape[0])).item(),\n",
        "                                          epoch * len(data_loader) + itr)\n",
        "                    \n",
        "                    tepoch.set_postfix(loss=loss.item(),\n",
        "                              super_class_accuracy=(torch.sum(super_preds == super_labels)/(images.shape[0])).item(),\n",
        "                              sub_class_accuracy=(torch.sum(sub_preds == sub_labels)/(images.shape[0])).item())\n",
        "                \n",
        "                epoch_super_loss = running_super_loss / len(data_loader.dataset)\n",
        "                epoch_sub_loss = running_sub_loss / len(data_loader.dataset)\n",
        "                epoch_super_acc = running_super_corrects.float() / (len(data_loader.dataset))\n",
        "                epoch_sub_acc = running_sub_corrects.float() / (len(data_loader.dataset))\n",
        "\n",
        "                print(f\"Epoch {(epoch+1)} {phase} Super Class loss: {epoch_super_loss} Super Class acc: {epoch_super_acc.item()} Sub Class loss: {epoch_sub_loss} Sub Class acc: {epoch_sub_acc.item()}\")\n",
        "                \n",
        "                writer.add_scalar(\"Epoch_Loss_Super_Class/\" + phase, epoch_super_loss, epoch)\n",
        "                writer.add_scalar(\"Epoch_Loss_Sub_Class/\" + phase, epoch_sub_loss, epoch)\n",
        "                writer.add_scalar(\"Epoch_Accuracy_Super_Class/\" + phase, epoch_super_acc, epoch)\n",
        "                writer.add_scalar(\"Epoch_Accuracy_Sub_Class/\" + phase, epoch_sub_acc, epoch)\n",
        "                \n",
        "                #Saving best model based on super class accuracy\n",
        "                if phase == 'val' and epoch_super_acc > best_super_acc:\n",
        "                    best_super_acc = epoch_super_acc\n",
        "                    os.makedirs('./models', exist_ok = True)\n",
        "                    torch.save({      \n",
        "                        'epoch': epoch,\n",
        "                        'model_state_dict': model.state_dict(),\n",
        "                    }, f\"./models/{name}_SuperClass.pth\")\n",
        "\n",
        "                #Saving best model based on sub class accuracy\n",
        "                if phase == 'val' and epoch_sub_acc > best_sub_acc:\n",
        "                    best_sub_acc = epoch_sub_acc\n",
        "                    # os.makedirs('./models', exist_ok = True)\n",
        "                    # torch.save({      \n",
        "                    #     'epoch': epoch,\n",
        "                    #     'model_state_dict': model.state_dict(),\n",
        "                    # }, f\"./models/{name}_SubClass.pth\")    \n",
        "                \n",
        "        print('-'*20)\n",
        "    \n",
        "    #End of Training \n",
        "    end_time = time.time()  \n",
        "    writer.close()\n",
        "    print('Best Super Class val acc: {}'.format(best_super_acc.item()))\n",
        "    print('Best Sub Class val acc: {}'.format(best_sub_acc.item()))\n",
        "    print(f\"Average Time taken for an epoch: {(end_time - start_time)/epochs} sec\")\n",
        "    \n",
        "    return"
      ],
      "metadata": {
        "id": "A9gPdry3blEk"
      },
      "execution_count": 78,
      "outputs": []
    },
    {
      "cell_type": "markdown",
      "source": [
        "#### Create the baseline model"
      ],
      "metadata": {
        "id": "4BlA4EvIVOPs"
      }
    },
    {
      "cell_type": "code",
      "source": [
        "import torch\n",
        "import torch.nn as nn\n",
        "import torchvision\n",
        "from torchsummary import summary\n",
        "\n",
        "# Load the EfficientNetB3 model trained on ImageNet\n",
        "backbone_model = torchvision.models.efficientnet_b3(weights='IMAGENET1K_V1')\n",
        "backbone_model.classifier = nn.Identity()\n",
        "\n",
        "# input = torch.rand((1, 3, 64, 64))\n",
        "# output = backbone_model(input)\n",
        "# print(output.shape)\n",
        "\n",
        "class BaselineModel(nn.Module):\n",
        "    def __init__(self, backbone) -> None:\n",
        "        super().__init__()\n",
        "        self.backbone = backbone\n",
        "        # 3 super classes and 89 + 1 (novel) sub classes\n",
        "        self.superclass = nn.Linear(in_features = 1536, out_features = 3)\n",
        "        self.subclass = nn.Linear(in_features = 1536, out_features = 90)\n",
        "    \n",
        "    def forward(self, x):\n",
        "        out = self.backbone(x)\n",
        "        super_class_out = self.superclass(out)\n",
        "        sub_class_out = self.subclass(out)\n",
        "        return super_class_out, sub_class_out\n",
        "\n",
        "# Create the baseline EfficientNetB6 model\n",
        "baseline_model = BaselineModel(backbone_model)\n",
        "baseline_model = baseline_model.to(device, non_blocking = True)"
      ],
      "metadata": {
        "id": "2voMZqWNVRlf"
      },
      "execution_count": 71,
      "outputs": []
    },
    {
      "cell_type": "markdown",
      "source": [
        "#### Train the baseline model"
      ],
      "metadata": {
        "id": "5-jBwetkdIPf"
      }
    },
    {
      "cell_type": "markdown",
      "source": [
        "##### Freeze all the layers except Classifier layers (phase 1)"
      ],
      "metadata": {
        "id": "P3yECJz3dKuI"
      }
    },
    {
      "cell_type": "code",
      "source": [
        "# Training baseline EfficientNetB6 model (with all backbone frozen)\n",
        "for param in baseline_model.parameters():\n",
        "    param.requires_grad = True\n",
        "\n",
        "for param in baseline_model.backbone.parameters():\n",
        "    param.requires_grad = False\n",
        "\n",
        "summary(baseline_model, (3, 64, 64))\n",
        "\n",
        "trainable_params = []\n",
        "\n",
        "for name, param in baseline_model.named_parameters():\n",
        "    if param.requires_grad:\n",
        "        #print(name)\n",
        "        trainable_params.append(param)"
      ],
      "metadata": {
        "colab": {
          "base_uri": "https://localhost:8080/"
        },
        "id": "RKbwey2odOc_",
        "outputId": "e42d8e48-36ae-40fb-8b57-c1404d1cf863"
      },
      "execution_count": 79,
      "outputs": [
        {
          "output_type": "stream",
          "name": "stdout",
          "text": [
            "----------------------------------------------------------------\n",
            "        Layer (type)               Output Shape         Param #\n",
            "================================================================\n",
            "            Conv2d-1           [-1, 40, 32, 32]           1,080\n",
            "       BatchNorm2d-2           [-1, 40, 32, 32]              80\n",
            "              SiLU-3           [-1, 40, 32, 32]               0\n",
            "            Conv2d-4           [-1, 40, 32, 32]             360\n",
            "       BatchNorm2d-5           [-1, 40, 32, 32]              80\n",
            "              SiLU-6           [-1, 40, 32, 32]               0\n",
            " AdaptiveAvgPool2d-7             [-1, 40, 1, 1]               0\n",
            "            Conv2d-8             [-1, 10, 1, 1]             410\n",
            "              SiLU-9             [-1, 10, 1, 1]               0\n",
            "           Conv2d-10             [-1, 40, 1, 1]             440\n",
            "          Sigmoid-11             [-1, 40, 1, 1]               0\n",
            "SqueezeExcitation-12           [-1, 40, 32, 32]               0\n",
            "           Conv2d-13           [-1, 24, 32, 32]             960\n",
            "      BatchNorm2d-14           [-1, 24, 32, 32]              48\n",
            "           MBConv-15           [-1, 24, 32, 32]               0\n",
            "           Conv2d-16           [-1, 24, 32, 32]             216\n",
            "      BatchNorm2d-17           [-1, 24, 32, 32]              48\n",
            "             SiLU-18           [-1, 24, 32, 32]               0\n",
            "AdaptiveAvgPool2d-19             [-1, 24, 1, 1]               0\n",
            "           Conv2d-20              [-1, 6, 1, 1]             150\n",
            "             SiLU-21              [-1, 6, 1, 1]               0\n",
            "           Conv2d-22             [-1, 24, 1, 1]             168\n",
            "          Sigmoid-23             [-1, 24, 1, 1]               0\n",
            "SqueezeExcitation-24           [-1, 24, 32, 32]               0\n",
            "           Conv2d-25           [-1, 24, 32, 32]             576\n",
            "      BatchNorm2d-26           [-1, 24, 32, 32]              48\n",
            "  StochasticDepth-27           [-1, 24, 32, 32]               0\n",
            "           MBConv-28           [-1, 24, 32, 32]               0\n",
            "           Conv2d-29          [-1, 144, 32, 32]           3,456\n",
            "      BatchNorm2d-30          [-1, 144, 32, 32]             288\n",
            "             SiLU-31          [-1, 144, 32, 32]               0\n",
            "           Conv2d-32          [-1, 144, 16, 16]           1,296\n",
            "      BatchNorm2d-33          [-1, 144, 16, 16]             288\n",
            "             SiLU-34          [-1, 144, 16, 16]               0\n",
            "AdaptiveAvgPool2d-35            [-1, 144, 1, 1]               0\n",
            "           Conv2d-36              [-1, 6, 1, 1]             870\n",
            "             SiLU-37              [-1, 6, 1, 1]               0\n",
            "           Conv2d-38            [-1, 144, 1, 1]           1,008\n",
            "          Sigmoid-39            [-1, 144, 1, 1]               0\n",
            "SqueezeExcitation-40          [-1, 144, 16, 16]               0\n",
            "           Conv2d-41           [-1, 32, 16, 16]           4,608\n",
            "      BatchNorm2d-42           [-1, 32, 16, 16]              64\n",
            "           MBConv-43           [-1, 32, 16, 16]               0\n",
            "           Conv2d-44          [-1, 192, 16, 16]           6,144\n",
            "      BatchNorm2d-45          [-1, 192, 16, 16]             384\n",
            "             SiLU-46          [-1, 192, 16, 16]               0\n",
            "           Conv2d-47          [-1, 192, 16, 16]           1,728\n",
            "      BatchNorm2d-48          [-1, 192, 16, 16]             384\n",
            "             SiLU-49          [-1, 192, 16, 16]               0\n",
            "AdaptiveAvgPool2d-50            [-1, 192, 1, 1]               0\n",
            "           Conv2d-51              [-1, 8, 1, 1]           1,544\n",
            "             SiLU-52              [-1, 8, 1, 1]               0\n",
            "           Conv2d-53            [-1, 192, 1, 1]           1,728\n",
            "          Sigmoid-54            [-1, 192, 1, 1]               0\n",
            "SqueezeExcitation-55          [-1, 192, 16, 16]               0\n",
            "           Conv2d-56           [-1, 32, 16, 16]           6,144\n",
            "      BatchNorm2d-57           [-1, 32, 16, 16]              64\n",
            "  StochasticDepth-58           [-1, 32, 16, 16]               0\n",
            "           MBConv-59           [-1, 32, 16, 16]               0\n",
            "           Conv2d-60          [-1, 192, 16, 16]           6,144\n",
            "      BatchNorm2d-61          [-1, 192, 16, 16]             384\n",
            "             SiLU-62          [-1, 192, 16, 16]               0\n",
            "           Conv2d-63          [-1, 192, 16, 16]           1,728\n",
            "      BatchNorm2d-64          [-1, 192, 16, 16]             384\n",
            "             SiLU-65          [-1, 192, 16, 16]               0\n",
            "AdaptiveAvgPool2d-66            [-1, 192, 1, 1]               0\n",
            "           Conv2d-67              [-1, 8, 1, 1]           1,544\n",
            "             SiLU-68              [-1, 8, 1, 1]               0\n",
            "           Conv2d-69            [-1, 192, 1, 1]           1,728\n",
            "          Sigmoid-70            [-1, 192, 1, 1]               0\n",
            "SqueezeExcitation-71          [-1, 192, 16, 16]               0\n",
            "           Conv2d-72           [-1, 32, 16, 16]           6,144\n",
            "      BatchNorm2d-73           [-1, 32, 16, 16]              64\n",
            "  StochasticDepth-74           [-1, 32, 16, 16]               0\n",
            "           MBConv-75           [-1, 32, 16, 16]               0\n",
            "           Conv2d-76          [-1, 192, 16, 16]           6,144\n",
            "      BatchNorm2d-77          [-1, 192, 16, 16]             384\n",
            "             SiLU-78          [-1, 192, 16, 16]               0\n",
            "           Conv2d-79            [-1, 192, 8, 8]           4,800\n",
            "      BatchNorm2d-80            [-1, 192, 8, 8]             384\n",
            "             SiLU-81            [-1, 192, 8, 8]               0\n",
            "AdaptiveAvgPool2d-82            [-1, 192, 1, 1]               0\n",
            "           Conv2d-83              [-1, 8, 1, 1]           1,544\n",
            "             SiLU-84              [-1, 8, 1, 1]               0\n",
            "           Conv2d-85            [-1, 192, 1, 1]           1,728\n",
            "          Sigmoid-86            [-1, 192, 1, 1]               0\n",
            "SqueezeExcitation-87            [-1, 192, 8, 8]               0\n",
            "           Conv2d-88             [-1, 48, 8, 8]           9,216\n",
            "      BatchNorm2d-89             [-1, 48, 8, 8]              96\n",
            "           MBConv-90             [-1, 48, 8, 8]               0\n",
            "           Conv2d-91            [-1, 288, 8, 8]          13,824\n",
            "      BatchNorm2d-92            [-1, 288, 8, 8]             576\n",
            "             SiLU-93            [-1, 288, 8, 8]               0\n",
            "           Conv2d-94            [-1, 288, 8, 8]           7,200\n",
            "      BatchNorm2d-95            [-1, 288, 8, 8]             576\n",
            "             SiLU-96            [-1, 288, 8, 8]               0\n",
            "AdaptiveAvgPool2d-97            [-1, 288, 1, 1]               0\n",
            "           Conv2d-98             [-1, 12, 1, 1]           3,468\n",
            "             SiLU-99             [-1, 12, 1, 1]               0\n",
            "          Conv2d-100            [-1, 288, 1, 1]           3,744\n",
            "         Sigmoid-101            [-1, 288, 1, 1]               0\n",
            "SqueezeExcitation-102            [-1, 288, 8, 8]               0\n",
            "          Conv2d-103             [-1, 48, 8, 8]          13,824\n",
            "     BatchNorm2d-104             [-1, 48, 8, 8]              96\n",
            " StochasticDepth-105             [-1, 48, 8, 8]               0\n",
            "          MBConv-106             [-1, 48, 8, 8]               0\n",
            "          Conv2d-107            [-1, 288, 8, 8]          13,824\n",
            "     BatchNorm2d-108            [-1, 288, 8, 8]             576\n",
            "            SiLU-109            [-1, 288, 8, 8]               0\n",
            "          Conv2d-110            [-1, 288, 8, 8]           7,200\n",
            "     BatchNorm2d-111            [-1, 288, 8, 8]             576\n",
            "            SiLU-112            [-1, 288, 8, 8]               0\n",
            "AdaptiveAvgPool2d-113            [-1, 288, 1, 1]               0\n",
            "          Conv2d-114             [-1, 12, 1, 1]           3,468\n",
            "            SiLU-115             [-1, 12, 1, 1]               0\n",
            "          Conv2d-116            [-1, 288, 1, 1]           3,744\n",
            "         Sigmoid-117            [-1, 288, 1, 1]               0\n",
            "SqueezeExcitation-118            [-1, 288, 8, 8]               0\n",
            "          Conv2d-119             [-1, 48, 8, 8]          13,824\n",
            "     BatchNorm2d-120             [-1, 48, 8, 8]              96\n",
            " StochasticDepth-121             [-1, 48, 8, 8]               0\n",
            "          MBConv-122             [-1, 48, 8, 8]               0\n",
            "          Conv2d-123            [-1, 288, 8, 8]          13,824\n",
            "     BatchNorm2d-124            [-1, 288, 8, 8]             576\n",
            "            SiLU-125            [-1, 288, 8, 8]               0\n",
            "          Conv2d-126            [-1, 288, 4, 4]           2,592\n",
            "     BatchNorm2d-127            [-1, 288, 4, 4]             576\n",
            "            SiLU-128            [-1, 288, 4, 4]               0\n",
            "AdaptiveAvgPool2d-129            [-1, 288, 1, 1]               0\n",
            "          Conv2d-130             [-1, 12, 1, 1]           3,468\n",
            "            SiLU-131             [-1, 12, 1, 1]               0\n",
            "          Conv2d-132            [-1, 288, 1, 1]           3,744\n",
            "         Sigmoid-133            [-1, 288, 1, 1]               0\n",
            "SqueezeExcitation-134            [-1, 288, 4, 4]               0\n",
            "          Conv2d-135             [-1, 96, 4, 4]          27,648\n",
            "     BatchNorm2d-136             [-1, 96, 4, 4]             192\n",
            "          MBConv-137             [-1, 96, 4, 4]               0\n",
            "          Conv2d-138            [-1, 576, 4, 4]          55,296\n",
            "     BatchNorm2d-139            [-1, 576, 4, 4]           1,152\n",
            "            SiLU-140            [-1, 576, 4, 4]               0\n",
            "          Conv2d-141            [-1, 576, 4, 4]           5,184\n",
            "     BatchNorm2d-142            [-1, 576, 4, 4]           1,152\n",
            "            SiLU-143            [-1, 576, 4, 4]               0\n",
            "AdaptiveAvgPool2d-144            [-1, 576, 1, 1]               0\n",
            "          Conv2d-145             [-1, 24, 1, 1]          13,848\n",
            "            SiLU-146             [-1, 24, 1, 1]               0\n",
            "          Conv2d-147            [-1, 576, 1, 1]          14,400\n",
            "         Sigmoid-148            [-1, 576, 1, 1]               0\n",
            "SqueezeExcitation-149            [-1, 576, 4, 4]               0\n",
            "          Conv2d-150             [-1, 96, 4, 4]          55,296\n",
            "     BatchNorm2d-151             [-1, 96, 4, 4]             192\n",
            " StochasticDepth-152             [-1, 96, 4, 4]               0\n",
            "          MBConv-153             [-1, 96, 4, 4]               0\n",
            "          Conv2d-154            [-1, 576, 4, 4]          55,296\n",
            "     BatchNorm2d-155            [-1, 576, 4, 4]           1,152\n",
            "            SiLU-156            [-1, 576, 4, 4]               0\n",
            "          Conv2d-157            [-1, 576, 4, 4]           5,184\n",
            "     BatchNorm2d-158            [-1, 576, 4, 4]           1,152\n",
            "            SiLU-159            [-1, 576, 4, 4]               0\n",
            "AdaptiveAvgPool2d-160            [-1, 576, 1, 1]               0\n",
            "          Conv2d-161             [-1, 24, 1, 1]          13,848\n",
            "            SiLU-162             [-1, 24, 1, 1]               0\n",
            "          Conv2d-163            [-1, 576, 1, 1]          14,400\n",
            "         Sigmoid-164            [-1, 576, 1, 1]               0\n",
            "SqueezeExcitation-165            [-1, 576, 4, 4]               0\n",
            "          Conv2d-166             [-1, 96, 4, 4]          55,296\n",
            "     BatchNorm2d-167             [-1, 96, 4, 4]             192\n",
            " StochasticDepth-168             [-1, 96, 4, 4]               0\n",
            "          MBConv-169             [-1, 96, 4, 4]               0\n",
            "          Conv2d-170            [-1, 576, 4, 4]          55,296\n",
            "     BatchNorm2d-171            [-1, 576, 4, 4]           1,152\n",
            "            SiLU-172            [-1, 576, 4, 4]               0\n",
            "          Conv2d-173            [-1, 576, 4, 4]           5,184\n",
            "     BatchNorm2d-174            [-1, 576, 4, 4]           1,152\n",
            "            SiLU-175            [-1, 576, 4, 4]               0\n",
            "AdaptiveAvgPool2d-176            [-1, 576, 1, 1]               0\n",
            "          Conv2d-177             [-1, 24, 1, 1]          13,848\n",
            "            SiLU-178             [-1, 24, 1, 1]               0\n",
            "          Conv2d-179            [-1, 576, 1, 1]          14,400\n",
            "         Sigmoid-180            [-1, 576, 1, 1]               0\n",
            "SqueezeExcitation-181            [-1, 576, 4, 4]               0\n",
            "          Conv2d-182             [-1, 96, 4, 4]          55,296\n",
            "     BatchNorm2d-183             [-1, 96, 4, 4]             192\n",
            " StochasticDepth-184             [-1, 96, 4, 4]               0\n",
            "          MBConv-185             [-1, 96, 4, 4]               0\n",
            "          Conv2d-186            [-1, 576, 4, 4]          55,296\n",
            "     BatchNorm2d-187            [-1, 576, 4, 4]           1,152\n",
            "            SiLU-188            [-1, 576, 4, 4]               0\n",
            "          Conv2d-189            [-1, 576, 4, 4]           5,184\n",
            "     BatchNorm2d-190            [-1, 576, 4, 4]           1,152\n",
            "            SiLU-191            [-1, 576, 4, 4]               0\n",
            "AdaptiveAvgPool2d-192            [-1, 576, 1, 1]               0\n",
            "          Conv2d-193             [-1, 24, 1, 1]          13,848\n",
            "            SiLU-194             [-1, 24, 1, 1]               0\n",
            "          Conv2d-195            [-1, 576, 1, 1]          14,400\n",
            "         Sigmoid-196            [-1, 576, 1, 1]               0\n",
            "SqueezeExcitation-197            [-1, 576, 4, 4]               0\n",
            "          Conv2d-198             [-1, 96, 4, 4]          55,296\n",
            "     BatchNorm2d-199             [-1, 96, 4, 4]             192\n",
            " StochasticDepth-200             [-1, 96, 4, 4]               0\n",
            "          MBConv-201             [-1, 96, 4, 4]               0\n",
            "          Conv2d-202            [-1, 576, 4, 4]          55,296\n",
            "     BatchNorm2d-203            [-1, 576, 4, 4]           1,152\n",
            "            SiLU-204            [-1, 576, 4, 4]               0\n",
            "          Conv2d-205            [-1, 576, 4, 4]          14,400\n",
            "     BatchNorm2d-206            [-1, 576, 4, 4]           1,152\n",
            "            SiLU-207            [-1, 576, 4, 4]               0\n",
            "AdaptiveAvgPool2d-208            [-1, 576, 1, 1]               0\n",
            "          Conv2d-209             [-1, 24, 1, 1]          13,848\n",
            "            SiLU-210             [-1, 24, 1, 1]               0\n",
            "          Conv2d-211            [-1, 576, 1, 1]          14,400\n",
            "         Sigmoid-212            [-1, 576, 1, 1]               0\n",
            "SqueezeExcitation-213            [-1, 576, 4, 4]               0\n",
            "          Conv2d-214            [-1, 136, 4, 4]          78,336\n",
            "     BatchNorm2d-215            [-1, 136, 4, 4]             272\n",
            "          MBConv-216            [-1, 136, 4, 4]               0\n",
            "          Conv2d-217            [-1, 816, 4, 4]         110,976\n",
            "     BatchNorm2d-218            [-1, 816, 4, 4]           1,632\n",
            "            SiLU-219            [-1, 816, 4, 4]               0\n",
            "          Conv2d-220            [-1, 816, 4, 4]          20,400\n",
            "     BatchNorm2d-221            [-1, 816, 4, 4]           1,632\n",
            "            SiLU-222            [-1, 816, 4, 4]               0\n",
            "AdaptiveAvgPool2d-223            [-1, 816, 1, 1]               0\n",
            "          Conv2d-224             [-1, 34, 1, 1]          27,778\n",
            "            SiLU-225             [-1, 34, 1, 1]               0\n",
            "          Conv2d-226            [-1, 816, 1, 1]          28,560\n",
            "         Sigmoid-227            [-1, 816, 1, 1]               0\n",
            "SqueezeExcitation-228            [-1, 816, 4, 4]               0\n",
            "          Conv2d-229            [-1, 136, 4, 4]         110,976\n",
            "     BatchNorm2d-230            [-1, 136, 4, 4]             272\n",
            " StochasticDepth-231            [-1, 136, 4, 4]               0\n",
            "          MBConv-232            [-1, 136, 4, 4]               0\n",
            "          Conv2d-233            [-1, 816, 4, 4]         110,976\n",
            "     BatchNorm2d-234            [-1, 816, 4, 4]           1,632\n",
            "            SiLU-235            [-1, 816, 4, 4]               0\n",
            "          Conv2d-236            [-1, 816, 4, 4]          20,400\n",
            "     BatchNorm2d-237            [-1, 816, 4, 4]           1,632\n",
            "            SiLU-238            [-1, 816, 4, 4]               0\n",
            "AdaptiveAvgPool2d-239            [-1, 816, 1, 1]               0\n",
            "          Conv2d-240             [-1, 34, 1, 1]          27,778\n",
            "            SiLU-241             [-1, 34, 1, 1]               0\n",
            "          Conv2d-242            [-1, 816, 1, 1]          28,560\n",
            "         Sigmoid-243            [-1, 816, 1, 1]               0\n",
            "SqueezeExcitation-244            [-1, 816, 4, 4]               0\n",
            "          Conv2d-245            [-1, 136, 4, 4]         110,976\n",
            "     BatchNorm2d-246            [-1, 136, 4, 4]             272\n",
            " StochasticDepth-247            [-1, 136, 4, 4]               0\n",
            "          MBConv-248            [-1, 136, 4, 4]               0\n",
            "          Conv2d-249            [-1, 816, 4, 4]         110,976\n",
            "     BatchNorm2d-250            [-1, 816, 4, 4]           1,632\n",
            "            SiLU-251            [-1, 816, 4, 4]               0\n",
            "          Conv2d-252            [-1, 816, 4, 4]          20,400\n",
            "     BatchNorm2d-253            [-1, 816, 4, 4]           1,632\n",
            "            SiLU-254            [-1, 816, 4, 4]               0\n",
            "AdaptiveAvgPool2d-255            [-1, 816, 1, 1]               0\n",
            "          Conv2d-256             [-1, 34, 1, 1]          27,778\n",
            "            SiLU-257             [-1, 34, 1, 1]               0\n",
            "          Conv2d-258            [-1, 816, 1, 1]          28,560\n",
            "         Sigmoid-259            [-1, 816, 1, 1]               0\n",
            "SqueezeExcitation-260            [-1, 816, 4, 4]               0\n",
            "          Conv2d-261            [-1, 136, 4, 4]         110,976\n",
            "     BatchNorm2d-262            [-1, 136, 4, 4]             272\n",
            " StochasticDepth-263            [-1, 136, 4, 4]               0\n",
            "          MBConv-264            [-1, 136, 4, 4]               0\n",
            "          Conv2d-265            [-1, 816, 4, 4]         110,976\n",
            "     BatchNorm2d-266            [-1, 816, 4, 4]           1,632\n",
            "            SiLU-267            [-1, 816, 4, 4]               0\n",
            "          Conv2d-268            [-1, 816, 4, 4]          20,400\n",
            "     BatchNorm2d-269            [-1, 816, 4, 4]           1,632\n",
            "            SiLU-270            [-1, 816, 4, 4]               0\n",
            "AdaptiveAvgPool2d-271            [-1, 816, 1, 1]               0\n",
            "          Conv2d-272             [-1, 34, 1, 1]          27,778\n",
            "            SiLU-273             [-1, 34, 1, 1]               0\n",
            "          Conv2d-274            [-1, 816, 1, 1]          28,560\n",
            "         Sigmoid-275            [-1, 816, 1, 1]               0\n",
            "SqueezeExcitation-276            [-1, 816, 4, 4]               0\n",
            "          Conv2d-277            [-1, 136, 4, 4]         110,976\n",
            "     BatchNorm2d-278            [-1, 136, 4, 4]             272\n",
            " StochasticDepth-279            [-1, 136, 4, 4]               0\n",
            "          MBConv-280            [-1, 136, 4, 4]               0\n",
            "          Conv2d-281            [-1, 816, 4, 4]         110,976\n",
            "     BatchNorm2d-282            [-1, 816, 4, 4]           1,632\n",
            "            SiLU-283            [-1, 816, 4, 4]               0\n",
            "          Conv2d-284            [-1, 816, 2, 2]          20,400\n",
            "     BatchNorm2d-285            [-1, 816, 2, 2]           1,632\n",
            "            SiLU-286            [-1, 816, 2, 2]               0\n",
            "AdaptiveAvgPool2d-287            [-1, 816, 1, 1]               0\n",
            "          Conv2d-288             [-1, 34, 1, 1]          27,778\n",
            "            SiLU-289             [-1, 34, 1, 1]               0\n",
            "          Conv2d-290            [-1, 816, 1, 1]          28,560\n",
            "         Sigmoid-291            [-1, 816, 1, 1]               0\n",
            "SqueezeExcitation-292            [-1, 816, 2, 2]               0\n",
            "          Conv2d-293            [-1, 232, 2, 2]         189,312\n",
            "     BatchNorm2d-294            [-1, 232, 2, 2]             464\n",
            "          MBConv-295            [-1, 232, 2, 2]               0\n",
            "          Conv2d-296           [-1, 1392, 2, 2]         322,944\n",
            "     BatchNorm2d-297           [-1, 1392, 2, 2]           2,784\n",
            "            SiLU-298           [-1, 1392, 2, 2]               0\n",
            "          Conv2d-299           [-1, 1392, 2, 2]          34,800\n",
            "     BatchNorm2d-300           [-1, 1392, 2, 2]           2,784\n",
            "            SiLU-301           [-1, 1392, 2, 2]               0\n",
            "AdaptiveAvgPool2d-302           [-1, 1392, 1, 1]               0\n",
            "          Conv2d-303             [-1, 58, 1, 1]          80,794\n",
            "            SiLU-304             [-1, 58, 1, 1]               0\n",
            "          Conv2d-305           [-1, 1392, 1, 1]          82,128\n",
            "         Sigmoid-306           [-1, 1392, 1, 1]               0\n",
            "SqueezeExcitation-307           [-1, 1392, 2, 2]               0\n",
            "          Conv2d-308            [-1, 232, 2, 2]         322,944\n",
            "     BatchNorm2d-309            [-1, 232, 2, 2]             464\n",
            " StochasticDepth-310            [-1, 232, 2, 2]               0\n",
            "          MBConv-311            [-1, 232, 2, 2]               0\n",
            "          Conv2d-312           [-1, 1392, 2, 2]         322,944\n",
            "     BatchNorm2d-313           [-1, 1392, 2, 2]           2,784\n",
            "            SiLU-314           [-1, 1392, 2, 2]               0\n",
            "          Conv2d-315           [-1, 1392, 2, 2]          34,800\n",
            "     BatchNorm2d-316           [-1, 1392, 2, 2]           2,784\n",
            "            SiLU-317           [-1, 1392, 2, 2]               0\n",
            "AdaptiveAvgPool2d-318           [-1, 1392, 1, 1]               0\n",
            "          Conv2d-319             [-1, 58, 1, 1]          80,794\n",
            "            SiLU-320             [-1, 58, 1, 1]               0\n",
            "          Conv2d-321           [-1, 1392, 1, 1]          82,128\n",
            "         Sigmoid-322           [-1, 1392, 1, 1]               0\n",
            "SqueezeExcitation-323           [-1, 1392, 2, 2]               0\n",
            "          Conv2d-324            [-1, 232, 2, 2]         322,944\n",
            "     BatchNorm2d-325            [-1, 232, 2, 2]             464\n",
            " StochasticDepth-326            [-1, 232, 2, 2]               0\n",
            "          MBConv-327            [-1, 232, 2, 2]               0\n",
            "          Conv2d-328           [-1, 1392, 2, 2]         322,944\n",
            "     BatchNorm2d-329           [-1, 1392, 2, 2]           2,784\n",
            "            SiLU-330           [-1, 1392, 2, 2]               0\n",
            "          Conv2d-331           [-1, 1392, 2, 2]          34,800\n",
            "     BatchNorm2d-332           [-1, 1392, 2, 2]           2,784\n",
            "            SiLU-333           [-1, 1392, 2, 2]               0\n",
            "AdaptiveAvgPool2d-334           [-1, 1392, 1, 1]               0\n",
            "          Conv2d-335             [-1, 58, 1, 1]          80,794\n",
            "            SiLU-336             [-1, 58, 1, 1]               0\n",
            "          Conv2d-337           [-1, 1392, 1, 1]          82,128\n",
            "         Sigmoid-338           [-1, 1392, 1, 1]               0\n",
            "SqueezeExcitation-339           [-1, 1392, 2, 2]               0\n",
            "          Conv2d-340            [-1, 232, 2, 2]         322,944\n",
            "     BatchNorm2d-341            [-1, 232, 2, 2]             464\n",
            " StochasticDepth-342            [-1, 232, 2, 2]               0\n",
            "          MBConv-343            [-1, 232, 2, 2]               0\n",
            "          Conv2d-344           [-1, 1392, 2, 2]         322,944\n",
            "     BatchNorm2d-345           [-1, 1392, 2, 2]           2,784\n",
            "            SiLU-346           [-1, 1392, 2, 2]               0\n",
            "          Conv2d-347           [-1, 1392, 2, 2]          34,800\n",
            "     BatchNorm2d-348           [-1, 1392, 2, 2]           2,784\n",
            "            SiLU-349           [-1, 1392, 2, 2]               0\n",
            "AdaptiveAvgPool2d-350           [-1, 1392, 1, 1]               0\n",
            "          Conv2d-351             [-1, 58, 1, 1]          80,794\n",
            "            SiLU-352             [-1, 58, 1, 1]               0\n",
            "          Conv2d-353           [-1, 1392, 1, 1]          82,128\n",
            "         Sigmoid-354           [-1, 1392, 1, 1]               0\n",
            "SqueezeExcitation-355           [-1, 1392, 2, 2]               0\n",
            "          Conv2d-356            [-1, 232, 2, 2]         322,944\n",
            "     BatchNorm2d-357            [-1, 232, 2, 2]             464\n",
            " StochasticDepth-358            [-1, 232, 2, 2]               0\n",
            "          MBConv-359            [-1, 232, 2, 2]               0\n",
            "          Conv2d-360           [-1, 1392, 2, 2]         322,944\n",
            "     BatchNorm2d-361           [-1, 1392, 2, 2]           2,784\n",
            "            SiLU-362           [-1, 1392, 2, 2]               0\n",
            "          Conv2d-363           [-1, 1392, 2, 2]          34,800\n",
            "     BatchNorm2d-364           [-1, 1392, 2, 2]           2,784\n",
            "            SiLU-365           [-1, 1392, 2, 2]               0\n",
            "AdaptiveAvgPool2d-366           [-1, 1392, 1, 1]               0\n",
            "          Conv2d-367             [-1, 58, 1, 1]          80,794\n",
            "            SiLU-368             [-1, 58, 1, 1]               0\n",
            "          Conv2d-369           [-1, 1392, 1, 1]          82,128\n",
            "         Sigmoid-370           [-1, 1392, 1, 1]               0\n",
            "SqueezeExcitation-371           [-1, 1392, 2, 2]               0\n",
            "          Conv2d-372            [-1, 232, 2, 2]         322,944\n",
            "     BatchNorm2d-373            [-1, 232, 2, 2]             464\n",
            " StochasticDepth-374            [-1, 232, 2, 2]               0\n",
            "          MBConv-375            [-1, 232, 2, 2]               0\n",
            "          Conv2d-376           [-1, 1392, 2, 2]         322,944\n",
            "     BatchNorm2d-377           [-1, 1392, 2, 2]           2,784\n",
            "            SiLU-378           [-1, 1392, 2, 2]               0\n",
            "          Conv2d-379           [-1, 1392, 2, 2]          12,528\n",
            "     BatchNorm2d-380           [-1, 1392, 2, 2]           2,784\n",
            "            SiLU-381           [-1, 1392, 2, 2]               0\n",
            "AdaptiveAvgPool2d-382           [-1, 1392, 1, 1]               0\n",
            "          Conv2d-383             [-1, 58, 1, 1]          80,794\n",
            "            SiLU-384             [-1, 58, 1, 1]               0\n",
            "          Conv2d-385           [-1, 1392, 1, 1]          82,128\n",
            "         Sigmoid-386           [-1, 1392, 1, 1]               0\n",
            "SqueezeExcitation-387           [-1, 1392, 2, 2]               0\n",
            "          Conv2d-388            [-1, 384, 2, 2]         534,528\n",
            "     BatchNorm2d-389            [-1, 384, 2, 2]             768\n",
            "          MBConv-390            [-1, 384, 2, 2]               0\n",
            "          Conv2d-391           [-1, 2304, 2, 2]         884,736\n",
            "     BatchNorm2d-392           [-1, 2304, 2, 2]           4,608\n",
            "            SiLU-393           [-1, 2304, 2, 2]               0\n",
            "          Conv2d-394           [-1, 2304, 2, 2]          20,736\n",
            "     BatchNorm2d-395           [-1, 2304, 2, 2]           4,608\n",
            "            SiLU-396           [-1, 2304, 2, 2]               0\n",
            "AdaptiveAvgPool2d-397           [-1, 2304, 1, 1]               0\n",
            "          Conv2d-398             [-1, 96, 1, 1]         221,280\n",
            "            SiLU-399             [-1, 96, 1, 1]               0\n",
            "          Conv2d-400           [-1, 2304, 1, 1]         223,488\n",
            "         Sigmoid-401           [-1, 2304, 1, 1]               0\n",
            "SqueezeExcitation-402           [-1, 2304, 2, 2]               0\n",
            "          Conv2d-403            [-1, 384, 2, 2]         884,736\n",
            "     BatchNorm2d-404            [-1, 384, 2, 2]             768\n",
            " StochasticDepth-405            [-1, 384, 2, 2]               0\n",
            "          MBConv-406            [-1, 384, 2, 2]               0\n",
            "          Conv2d-407           [-1, 1536, 2, 2]         589,824\n",
            "     BatchNorm2d-408           [-1, 1536, 2, 2]           3,072\n",
            "            SiLU-409           [-1, 1536, 2, 2]               0\n",
            "AdaptiveAvgPool2d-410           [-1, 1536, 1, 1]               0\n",
            "        Identity-411                 [-1, 1536]               0\n",
            "    EfficientNet-412                 [-1, 1536]               0\n",
            "          Linear-413                    [-1, 3]           4,611\n",
            "          Linear-414                   [-1, 90]         138,330\n",
            "================================================================\n",
            "Total params: 10,839,173\n",
            "Trainable params: 142,941\n",
            "Non-trainable params: 10,696,232\n",
            "----------------------------------------------------------------\n",
            "Input size (MB): 0.05\n",
            "Forward/backward pass size (MB): 28.31\n",
            "Params size (MB): 41.35\n",
            "Estimated Total Size (MB): 69.71\n",
            "----------------------------------------------------------------\n",
            "superclass.weight\n",
            "superclass.bias\n",
            "subclass.weight\n",
            "subclass.bias\n"
          ]
        }
      ]
    },
    {
      "cell_type": "code",
      "source": [
        "epochs = 5\n",
        "initial_epoch = 0\n",
        "learning_rate = 1e-4\n",
        "loss_func = torch.nn.CrossEntropyLoss()\n",
        "optimizer = torch.optim.AdamW(trainable_params, lr=learning_rate)\n",
        "\n",
        "fit_classifier(\n",
        "    baseline_model, \n",
        "    train_loader=train_loader, \n",
        "    val_loader=val_loader,\n",
        "    optimizer=optimizer, \n",
        "    loss_func=loss_func, \n",
        "    epochs=epochs,\n",
        "    initial_epoch=initial_epoch, \n",
        "    device=device,\n",
        "    name='Baseline_EfficientNetB6_frozen'\n",
        ")"
      ],
      "metadata": {
        "colab": {
          "base_uri": "https://localhost:8080/"
        },
        "id": "4LujXuYtqr3e",
        "outputId": "3783403d-6cbc-4c4c-cb7f-e53fed40b5fe"
      },
      "execution_count": 85,
      "outputs": [
        {
          "output_type": "stream",
          "name": "stderr",
          "text": [
            "Epoch 1 train: 100%|██████████| 180/180 [00:10<00:00, 16.69batch/s, loss=11.4, sub_class_accuracy=0, super_class_accuracy=0.2]\n"
          ]
        },
        {
          "output_type": "stream",
          "name": "stdout",
          "text": [
            "Epoch 1 train Super Class loss: 4.52763550453545 Super Class acc: 0.5848727822303772 Sub Class loss: 3.836384186224474 Sub Class acc: 0.12094806134700775\n"
          ]
        },
        {
          "output_type": "stream",
          "name": "stderr",
          "text": [
            "Epoch 1 val: 100%|██████████| 23/23 [00:00<00:00, 24.37batch/s, loss=8.7, sub_class_accuracy=0.0667, super_class_accuracy=0.567]\n"
          ]
        },
        {
          "output_type": "stream",
          "name": "stdout",
          "text": [
            "Epoch 1 val Super Class loss: 6.431831156362954 Super Class acc: 0.583106279373169 Sub Class loss: 5.812095236713295 Sub Class acc: 0.058583106845617294\n",
            "--------------------\n"
          ]
        },
        {
          "output_type": "stream",
          "name": "stderr",
          "text": [
            "Epoch 2 train: 100%|██████████| 180/180 [00:10<00:00, 16.78batch/s, loss=7.07, sub_class_accuracy=0.1, super_class_accuracy=0.6]\n"
          ]
        },
        {
          "output_type": "stream",
          "name": "stdout",
          "text": [
            "Epoch 2 train Super Class loss: 4.457925346388805 Super Class acc: 0.5876612067222595 Sub Class loss: 3.799652402681023 Sub Class acc: 0.12356221675872803\n"
          ]
        },
        {
          "output_type": "stream",
          "name": "stderr",
          "text": [
            "Epoch 2 val: 100%|██████████| 23/23 [00:00<00:00, 25.32batch/s, loss=9.55, sub_class_accuracy=0.0333, super_class_accuracy=0.5]\n"
          ]
        },
        {
          "output_type": "stream",
          "name": "stdout",
          "text": [
            "Epoch 2 val Super Class loss: 4.953794697812207 Super Class acc: 0.5980926156044006 Sub Class loss: 4.846021450832689 Sub Class acc: 0.0544959120452404\n",
            "--------------------\n"
          ]
        },
        {
          "output_type": "stream",
          "name": "stderr",
          "text": [
            "Epoch 3 train: 100%|██████████| 180/180 [00:10<00:00, 16.69batch/s, loss=6.25, sub_class_accuracy=0.1, super_class_accuracy=0.8]\n"
          ]
        },
        {
          "output_type": "stream",
          "name": "stdout",
          "text": [
            "Epoch 3 train Super Class loss: 4.54076165613209 Super Class acc: 0.5758103728294373 Sub Class loss: 3.805918584014531 Sub Class acc: 0.11868246644735336\n"
          ]
        },
        {
          "output_type": "stream",
          "name": "stderr",
          "text": [
            "Epoch 3 val: 100%|██████████| 23/23 [00:00<00:00, 25.36batch/s, loss=9.21, sub_class_accuracy=0.1, super_class_accuracy=0.567]\n"
          ]
        },
        {
          "output_type": "stream",
          "name": "stdout",
          "text": [
            "Epoch 3 val Super Class loss: 5.316583833350148 Super Class acc: 0.5517711043357849 Sub Class loss: 5.2063005678660215 Sub Class acc: 0.05177111551165581\n",
            "--------------------\n"
          ]
        },
        {
          "output_type": "stream",
          "name": "stderr",
          "text": [
            "Epoch 4 train: 100%|██████████| 180/180 [00:10<00:00, 16.61batch/s, loss=13.1, sub_class_accuracy=0, super_class_accuracy=0.2]\n"
          ]
        },
        {
          "output_type": "stream",
          "name": "stdout",
          "text": [
            "Epoch 4 train Super Class loss: 4.4965760339715 Super Class acc: 0.5843499302864075 Sub Class loss: 3.8103100087593638 Sub Class acc: 0.11972812563180923\n"
          ]
        },
        {
          "output_type": "stream",
          "name": "stderr",
          "text": [
            "Epoch 4 val: 100%|██████████| 23/23 [00:00<00:00, 24.29batch/s, loss=8.95, sub_class_accuracy=0.0667, super_class_accuracy=0.567]\n"
          ]
        },
        {
          "output_type": "stream",
          "name": "stdout",
          "text": [
            "Epoch 4 val Super Class loss: 4.918244317864202 Super Class acc: 0.5490463376045227 Sub Class loss: 5.702905939450381 Sub Class acc: 0.05040871724486351\n",
            "--------------------\n"
          ]
        },
        {
          "output_type": "stream",
          "name": "stderr",
          "text": [
            "Epoch 5 train: 100%|██████████| 180/180 [00:10<00:00, 16.64batch/s, loss=9.05, sub_class_accuracy=0.1, super_class_accuracy=0.7]\n"
          ]
        },
        {
          "output_type": "stream",
          "name": "stdout",
          "text": [
            "Epoch 5 train Super Class loss: 4.439016307696685 Super Class acc: 0.5914952754974365 Sub Class loss: 3.78817893553794 Sub Class acc: 0.12391076982021332\n"
          ]
        },
        {
          "output_type": "stream",
          "name": "stderr",
          "text": [
            "Epoch 5 val: 100%|██████████| 23/23 [00:00<00:00, 24.54batch/s, loss=8.99, sub_class_accuracy=0.0333, super_class_accuracy=0.633]\n"
          ]
        },
        {
          "output_type": "stream",
          "name": "stdout",
          "text": [
            "Epoch 5 val Super Class loss: 6.974654612651638 Super Class acc: 0.5749318599700928 Sub Class loss: 5.994382476286927 Sub Class acc: 0.057220708578825\n",
            "--------------------\n",
            "Best Super Class val acc: 0.5980926156044006\n",
            "Best Sub Class val acc: 0.058583106845617294\n",
            "Average Time taken for an epoch: 11.811307811737061 sec\n"
          ]
        }
      ]
    },
    {
      "cell_type": "markdown",
      "source": [
        "##### Unfreeze some layers of the backbone network (phase 2)"
      ],
      "metadata": {
        "id": "zOFONrImpylo"
      }
    },
    {
      "cell_type": "code",
      "source": [
        "# Training baseline EfficientNetB6 model (with some backbone frozen)\n",
        "for param in baseline_model.parameters():\n",
        "    param.requires_grad = True\n",
        "\n",
        "# summary(baseline_model.backbone, (3, 64, 64))\n",
        "# print(baseline_model.backbone)\n",
        "for param in baseline_model.backbone.features[6:].parameters():\n",
        "    param.requires_grad = False\n",
        "\n",
        "summary(baseline_model, (3, 64, 64))\n",
        "\n",
        "trainable_params = []\n",
        "\n",
        "for name, param in baseline_model.named_parameters():\n",
        "    if param.requires_grad:\n",
        "        #print(name)\n",
        "        trainable_params.append(param)"
      ],
      "metadata": {
        "colab": {
          "base_uri": "https://localhost:8080/"
        },
        "id": "sLi3aG9up4CN",
        "outputId": "591e2095-a229-4038-a4a9-70aa3039ad5f"
      },
      "execution_count": 92,
      "outputs": [
        {
          "output_type": "stream",
          "name": "stdout",
          "text": [
            "----------------------------------------------------------------\n",
            "        Layer (type)               Output Shape         Param #\n",
            "================================================================\n",
            "            Conv2d-1           [-1, 40, 32, 32]           1,080\n",
            "       BatchNorm2d-2           [-1, 40, 32, 32]              80\n",
            "              SiLU-3           [-1, 40, 32, 32]               0\n",
            "            Conv2d-4           [-1, 40, 32, 32]             360\n",
            "       BatchNorm2d-5           [-1, 40, 32, 32]              80\n",
            "              SiLU-6           [-1, 40, 32, 32]               0\n",
            " AdaptiveAvgPool2d-7             [-1, 40, 1, 1]               0\n",
            "            Conv2d-8             [-1, 10, 1, 1]             410\n",
            "              SiLU-9             [-1, 10, 1, 1]               0\n",
            "           Conv2d-10             [-1, 40, 1, 1]             440\n",
            "          Sigmoid-11             [-1, 40, 1, 1]               0\n",
            "SqueezeExcitation-12           [-1, 40, 32, 32]               0\n",
            "           Conv2d-13           [-1, 24, 32, 32]             960\n",
            "      BatchNorm2d-14           [-1, 24, 32, 32]              48\n",
            "           MBConv-15           [-1, 24, 32, 32]               0\n",
            "           Conv2d-16           [-1, 24, 32, 32]             216\n",
            "      BatchNorm2d-17           [-1, 24, 32, 32]              48\n",
            "             SiLU-18           [-1, 24, 32, 32]               0\n",
            "AdaptiveAvgPool2d-19             [-1, 24, 1, 1]               0\n",
            "           Conv2d-20              [-1, 6, 1, 1]             150\n",
            "             SiLU-21              [-1, 6, 1, 1]               0\n",
            "           Conv2d-22             [-1, 24, 1, 1]             168\n",
            "          Sigmoid-23             [-1, 24, 1, 1]               0\n",
            "SqueezeExcitation-24           [-1, 24, 32, 32]               0\n",
            "           Conv2d-25           [-1, 24, 32, 32]             576\n",
            "      BatchNorm2d-26           [-1, 24, 32, 32]              48\n",
            "  StochasticDepth-27           [-1, 24, 32, 32]               0\n",
            "           MBConv-28           [-1, 24, 32, 32]               0\n",
            "           Conv2d-29          [-1, 144, 32, 32]           3,456\n",
            "      BatchNorm2d-30          [-1, 144, 32, 32]             288\n",
            "             SiLU-31          [-1, 144, 32, 32]               0\n",
            "           Conv2d-32          [-1, 144, 16, 16]           1,296\n",
            "      BatchNorm2d-33          [-1, 144, 16, 16]             288\n",
            "             SiLU-34          [-1, 144, 16, 16]               0\n",
            "AdaptiveAvgPool2d-35            [-1, 144, 1, 1]               0\n",
            "           Conv2d-36              [-1, 6, 1, 1]             870\n",
            "             SiLU-37              [-1, 6, 1, 1]               0\n",
            "           Conv2d-38            [-1, 144, 1, 1]           1,008\n",
            "          Sigmoid-39            [-1, 144, 1, 1]               0\n",
            "SqueezeExcitation-40          [-1, 144, 16, 16]               0\n",
            "           Conv2d-41           [-1, 32, 16, 16]           4,608\n",
            "      BatchNorm2d-42           [-1, 32, 16, 16]              64\n",
            "           MBConv-43           [-1, 32, 16, 16]               0\n",
            "           Conv2d-44          [-1, 192, 16, 16]           6,144\n",
            "      BatchNorm2d-45          [-1, 192, 16, 16]             384\n",
            "             SiLU-46          [-1, 192, 16, 16]               0\n",
            "           Conv2d-47          [-1, 192, 16, 16]           1,728\n",
            "      BatchNorm2d-48          [-1, 192, 16, 16]             384\n",
            "             SiLU-49          [-1, 192, 16, 16]               0\n",
            "AdaptiveAvgPool2d-50            [-1, 192, 1, 1]               0\n",
            "           Conv2d-51              [-1, 8, 1, 1]           1,544\n",
            "             SiLU-52              [-1, 8, 1, 1]               0\n",
            "           Conv2d-53            [-1, 192, 1, 1]           1,728\n",
            "          Sigmoid-54            [-1, 192, 1, 1]               0\n",
            "SqueezeExcitation-55          [-1, 192, 16, 16]               0\n",
            "           Conv2d-56           [-1, 32, 16, 16]           6,144\n",
            "      BatchNorm2d-57           [-1, 32, 16, 16]              64\n",
            "  StochasticDepth-58           [-1, 32, 16, 16]               0\n",
            "           MBConv-59           [-1, 32, 16, 16]               0\n",
            "           Conv2d-60          [-1, 192, 16, 16]           6,144\n",
            "      BatchNorm2d-61          [-1, 192, 16, 16]             384\n",
            "             SiLU-62          [-1, 192, 16, 16]               0\n",
            "           Conv2d-63          [-1, 192, 16, 16]           1,728\n",
            "      BatchNorm2d-64          [-1, 192, 16, 16]             384\n",
            "             SiLU-65          [-1, 192, 16, 16]               0\n",
            "AdaptiveAvgPool2d-66            [-1, 192, 1, 1]               0\n",
            "           Conv2d-67              [-1, 8, 1, 1]           1,544\n",
            "             SiLU-68              [-1, 8, 1, 1]               0\n",
            "           Conv2d-69            [-1, 192, 1, 1]           1,728\n",
            "          Sigmoid-70            [-1, 192, 1, 1]               0\n",
            "SqueezeExcitation-71          [-1, 192, 16, 16]               0\n",
            "           Conv2d-72           [-1, 32, 16, 16]           6,144\n",
            "      BatchNorm2d-73           [-1, 32, 16, 16]              64\n",
            "  StochasticDepth-74           [-1, 32, 16, 16]               0\n",
            "           MBConv-75           [-1, 32, 16, 16]               0\n",
            "           Conv2d-76          [-1, 192, 16, 16]           6,144\n",
            "      BatchNorm2d-77          [-1, 192, 16, 16]             384\n",
            "             SiLU-78          [-1, 192, 16, 16]               0\n",
            "           Conv2d-79            [-1, 192, 8, 8]           4,800\n",
            "      BatchNorm2d-80            [-1, 192, 8, 8]             384\n",
            "             SiLU-81            [-1, 192, 8, 8]               0\n",
            "AdaptiveAvgPool2d-82            [-1, 192, 1, 1]               0\n",
            "           Conv2d-83              [-1, 8, 1, 1]           1,544\n",
            "             SiLU-84              [-1, 8, 1, 1]               0\n",
            "           Conv2d-85            [-1, 192, 1, 1]           1,728\n",
            "          Sigmoid-86            [-1, 192, 1, 1]               0\n",
            "SqueezeExcitation-87            [-1, 192, 8, 8]               0\n",
            "           Conv2d-88             [-1, 48, 8, 8]           9,216\n",
            "      BatchNorm2d-89             [-1, 48, 8, 8]              96\n",
            "           MBConv-90             [-1, 48, 8, 8]               0\n",
            "           Conv2d-91            [-1, 288, 8, 8]          13,824\n",
            "      BatchNorm2d-92            [-1, 288, 8, 8]             576\n",
            "             SiLU-93            [-1, 288, 8, 8]               0\n",
            "           Conv2d-94            [-1, 288, 8, 8]           7,200\n",
            "      BatchNorm2d-95            [-1, 288, 8, 8]             576\n",
            "             SiLU-96            [-1, 288, 8, 8]               0\n",
            "AdaptiveAvgPool2d-97            [-1, 288, 1, 1]               0\n",
            "           Conv2d-98             [-1, 12, 1, 1]           3,468\n",
            "             SiLU-99             [-1, 12, 1, 1]               0\n",
            "          Conv2d-100            [-1, 288, 1, 1]           3,744\n",
            "         Sigmoid-101            [-1, 288, 1, 1]               0\n",
            "SqueezeExcitation-102            [-1, 288, 8, 8]               0\n",
            "          Conv2d-103             [-1, 48, 8, 8]          13,824\n",
            "     BatchNorm2d-104             [-1, 48, 8, 8]              96\n",
            " StochasticDepth-105             [-1, 48, 8, 8]               0\n",
            "          MBConv-106             [-1, 48, 8, 8]               0\n",
            "          Conv2d-107            [-1, 288, 8, 8]          13,824\n",
            "     BatchNorm2d-108            [-1, 288, 8, 8]             576\n",
            "            SiLU-109            [-1, 288, 8, 8]               0\n",
            "          Conv2d-110            [-1, 288, 8, 8]           7,200\n",
            "     BatchNorm2d-111            [-1, 288, 8, 8]             576\n",
            "            SiLU-112            [-1, 288, 8, 8]               0\n",
            "AdaptiveAvgPool2d-113            [-1, 288, 1, 1]               0\n",
            "          Conv2d-114             [-1, 12, 1, 1]           3,468\n",
            "            SiLU-115             [-1, 12, 1, 1]               0\n",
            "          Conv2d-116            [-1, 288, 1, 1]           3,744\n",
            "         Sigmoid-117            [-1, 288, 1, 1]               0\n",
            "SqueezeExcitation-118            [-1, 288, 8, 8]               0\n",
            "          Conv2d-119             [-1, 48, 8, 8]          13,824\n",
            "     BatchNorm2d-120             [-1, 48, 8, 8]              96\n",
            " StochasticDepth-121             [-1, 48, 8, 8]               0\n",
            "          MBConv-122             [-1, 48, 8, 8]               0\n",
            "          Conv2d-123            [-1, 288, 8, 8]          13,824\n",
            "     BatchNorm2d-124            [-1, 288, 8, 8]             576\n",
            "            SiLU-125            [-1, 288, 8, 8]               0\n",
            "          Conv2d-126            [-1, 288, 4, 4]           2,592\n",
            "     BatchNorm2d-127            [-1, 288, 4, 4]             576\n",
            "            SiLU-128            [-1, 288, 4, 4]               0\n",
            "AdaptiveAvgPool2d-129            [-1, 288, 1, 1]               0\n",
            "          Conv2d-130             [-1, 12, 1, 1]           3,468\n",
            "            SiLU-131             [-1, 12, 1, 1]               0\n",
            "          Conv2d-132            [-1, 288, 1, 1]           3,744\n",
            "         Sigmoid-133            [-1, 288, 1, 1]               0\n",
            "SqueezeExcitation-134            [-1, 288, 4, 4]               0\n",
            "          Conv2d-135             [-1, 96, 4, 4]          27,648\n",
            "     BatchNorm2d-136             [-1, 96, 4, 4]             192\n",
            "          MBConv-137             [-1, 96, 4, 4]               0\n",
            "          Conv2d-138            [-1, 576, 4, 4]          55,296\n",
            "     BatchNorm2d-139            [-1, 576, 4, 4]           1,152\n",
            "            SiLU-140            [-1, 576, 4, 4]               0\n",
            "          Conv2d-141            [-1, 576, 4, 4]           5,184\n",
            "     BatchNorm2d-142            [-1, 576, 4, 4]           1,152\n",
            "            SiLU-143            [-1, 576, 4, 4]               0\n",
            "AdaptiveAvgPool2d-144            [-1, 576, 1, 1]               0\n",
            "          Conv2d-145             [-1, 24, 1, 1]          13,848\n",
            "            SiLU-146             [-1, 24, 1, 1]               0\n",
            "          Conv2d-147            [-1, 576, 1, 1]          14,400\n",
            "         Sigmoid-148            [-1, 576, 1, 1]               0\n",
            "SqueezeExcitation-149            [-1, 576, 4, 4]               0\n",
            "          Conv2d-150             [-1, 96, 4, 4]          55,296\n",
            "     BatchNorm2d-151             [-1, 96, 4, 4]             192\n",
            " StochasticDepth-152             [-1, 96, 4, 4]               0\n",
            "          MBConv-153             [-1, 96, 4, 4]               0\n",
            "          Conv2d-154            [-1, 576, 4, 4]          55,296\n",
            "     BatchNorm2d-155            [-1, 576, 4, 4]           1,152\n",
            "            SiLU-156            [-1, 576, 4, 4]               0\n",
            "          Conv2d-157            [-1, 576, 4, 4]           5,184\n",
            "     BatchNorm2d-158            [-1, 576, 4, 4]           1,152\n",
            "            SiLU-159            [-1, 576, 4, 4]               0\n",
            "AdaptiveAvgPool2d-160            [-1, 576, 1, 1]               0\n",
            "          Conv2d-161             [-1, 24, 1, 1]          13,848\n",
            "            SiLU-162             [-1, 24, 1, 1]               0\n",
            "          Conv2d-163            [-1, 576, 1, 1]          14,400\n",
            "         Sigmoid-164            [-1, 576, 1, 1]               0\n",
            "SqueezeExcitation-165            [-1, 576, 4, 4]               0\n",
            "          Conv2d-166             [-1, 96, 4, 4]          55,296\n",
            "     BatchNorm2d-167             [-1, 96, 4, 4]             192\n",
            " StochasticDepth-168             [-1, 96, 4, 4]               0\n",
            "          MBConv-169             [-1, 96, 4, 4]               0\n",
            "          Conv2d-170            [-1, 576, 4, 4]          55,296\n",
            "     BatchNorm2d-171            [-1, 576, 4, 4]           1,152\n",
            "            SiLU-172            [-1, 576, 4, 4]               0\n",
            "          Conv2d-173            [-1, 576, 4, 4]           5,184\n",
            "     BatchNorm2d-174            [-1, 576, 4, 4]           1,152\n",
            "            SiLU-175            [-1, 576, 4, 4]               0\n",
            "AdaptiveAvgPool2d-176            [-1, 576, 1, 1]               0\n",
            "          Conv2d-177             [-1, 24, 1, 1]          13,848\n",
            "            SiLU-178             [-1, 24, 1, 1]               0\n",
            "          Conv2d-179            [-1, 576, 1, 1]          14,400\n",
            "         Sigmoid-180            [-1, 576, 1, 1]               0\n",
            "SqueezeExcitation-181            [-1, 576, 4, 4]               0\n",
            "          Conv2d-182             [-1, 96, 4, 4]          55,296\n",
            "     BatchNorm2d-183             [-1, 96, 4, 4]             192\n",
            " StochasticDepth-184             [-1, 96, 4, 4]               0\n",
            "          MBConv-185             [-1, 96, 4, 4]               0\n",
            "          Conv2d-186            [-1, 576, 4, 4]          55,296\n",
            "     BatchNorm2d-187            [-1, 576, 4, 4]           1,152\n",
            "            SiLU-188            [-1, 576, 4, 4]               0\n",
            "          Conv2d-189            [-1, 576, 4, 4]           5,184\n",
            "     BatchNorm2d-190            [-1, 576, 4, 4]           1,152\n",
            "            SiLU-191            [-1, 576, 4, 4]               0\n",
            "AdaptiveAvgPool2d-192            [-1, 576, 1, 1]               0\n",
            "          Conv2d-193             [-1, 24, 1, 1]          13,848\n",
            "            SiLU-194             [-1, 24, 1, 1]               0\n",
            "          Conv2d-195            [-1, 576, 1, 1]          14,400\n",
            "         Sigmoid-196            [-1, 576, 1, 1]               0\n",
            "SqueezeExcitation-197            [-1, 576, 4, 4]               0\n",
            "          Conv2d-198             [-1, 96, 4, 4]          55,296\n",
            "     BatchNorm2d-199             [-1, 96, 4, 4]             192\n",
            " StochasticDepth-200             [-1, 96, 4, 4]               0\n",
            "          MBConv-201             [-1, 96, 4, 4]               0\n",
            "          Conv2d-202            [-1, 576, 4, 4]          55,296\n",
            "     BatchNorm2d-203            [-1, 576, 4, 4]           1,152\n",
            "            SiLU-204            [-1, 576, 4, 4]               0\n",
            "          Conv2d-205            [-1, 576, 4, 4]          14,400\n",
            "     BatchNorm2d-206            [-1, 576, 4, 4]           1,152\n",
            "            SiLU-207            [-1, 576, 4, 4]               0\n",
            "AdaptiveAvgPool2d-208            [-1, 576, 1, 1]               0\n",
            "          Conv2d-209             [-1, 24, 1, 1]          13,848\n",
            "            SiLU-210             [-1, 24, 1, 1]               0\n",
            "          Conv2d-211            [-1, 576, 1, 1]          14,400\n",
            "         Sigmoid-212            [-1, 576, 1, 1]               0\n",
            "SqueezeExcitation-213            [-1, 576, 4, 4]               0\n",
            "          Conv2d-214            [-1, 136, 4, 4]          78,336\n",
            "     BatchNorm2d-215            [-1, 136, 4, 4]             272\n",
            "          MBConv-216            [-1, 136, 4, 4]               0\n",
            "          Conv2d-217            [-1, 816, 4, 4]         110,976\n",
            "     BatchNorm2d-218            [-1, 816, 4, 4]           1,632\n",
            "            SiLU-219            [-1, 816, 4, 4]               0\n",
            "          Conv2d-220            [-1, 816, 4, 4]          20,400\n",
            "     BatchNorm2d-221            [-1, 816, 4, 4]           1,632\n",
            "            SiLU-222            [-1, 816, 4, 4]               0\n",
            "AdaptiveAvgPool2d-223            [-1, 816, 1, 1]               0\n",
            "          Conv2d-224             [-1, 34, 1, 1]          27,778\n",
            "            SiLU-225             [-1, 34, 1, 1]               0\n",
            "          Conv2d-226            [-1, 816, 1, 1]          28,560\n",
            "         Sigmoid-227            [-1, 816, 1, 1]               0\n",
            "SqueezeExcitation-228            [-1, 816, 4, 4]               0\n",
            "          Conv2d-229            [-1, 136, 4, 4]         110,976\n",
            "     BatchNorm2d-230            [-1, 136, 4, 4]             272\n",
            " StochasticDepth-231            [-1, 136, 4, 4]               0\n",
            "          MBConv-232            [-1, 136, 4, 4]               0\n",
            "          Conv2d-233            [-1, 816, 4, 4]         110,976\n",
            "     BatchNorm2d-234            [-1, 816, 4, 4]           1,632\n",
            "            SiLU-235            [-1, 816, 4, 4]               0\n",
            "          Conv2d-236            [-1, 816, 4, 4]          20,400\n",
            "     BatchNorm2d-237            [-1, 816, 4, 4]           1,632\n",
            "            SiLU-238            [-1, 816, 4, 4]               0\n",
            "AdaptiveAvgPool2d-239            [-1, 816, 1, 1]               0\n",
            "          Conv2d-240             [-1, 34, 1, 1]          27,778\n",
            "            SiLU-241             [-1, 34, 1, 1]               0\n",
            "          Conv2d-242            [-1, 816, 1, 1]          28,560\n",
            "         Sigmoid-243            [-1, 816, 1, 1]               0\n",
            "SqueezeExcitation-244            [-1, 816, 4, 4]               0\n",
            "          Conv2d-245            [-1, 136, 4, 4]         110,976\n",
            "     BatchNorm2d-246            [-1, 136, 4, 4]             272\n",
            " StochasticDepth-247            [-1, 136, 4, 4]               0\n",
            "          MBConv-248            [-1, 136, 4, 4]               0\n",
            "          Conv2d-249            [-1, 816, 4, 4]         110,976\n",
            "     BatchNorm2d-250            [-1, 816, 4, 4]           1,632\n",
            "            SiLU-251            [-1, 816, 4, 4]               0\n",
            "          Conv2d-252            [-1, 816, 4, 4]          20,400\n",
            "     BatchNorm2d-253            [-1, 816, 4, 4]           1,632\n",
            "            SiLU-254            [-1, 816, 4, 4]               0\n",
            "AdaptiveAvgPool2d-255            [-1, 816, 1, 1]               0\n",
            "          Conv2d-256             [-1, 34, 1, 1]          27,778\n",
            "            SiLU-257             [-1, 34, 1, 1]               0\n",
            "          Conv2d-258            [-1, 816, 1, 1]          28,560\n",
            "         Sigmoid-259            [-1, 816, 1, 1]               0\n",
            "SqueezeExcitation-260            [-1, 816, 4, 4]               0\n",
            "          Conv2d-261            [-1, 136, 4, 4]         110,976\n",
            "     BatchNorm2d-262            [-1, 136, 4, 4]             272\n",
            " StochasticDepth-263            [-1, 136, 4, 4]               0\n",
            "          MBConv-264            [-1, 136, 4, 4]               0\n",
            "          Conv2d-265            [-1, 816, 4, 4]         110,976\n",
            "     BatchNorm2d-266            [-1, 816, 4, 4]           1,632\n",
            "            SiLU-267            [-1, 816, 4, 4]               0\n",
            "          Conv2d-268            [-1, 816, 4, 4]          20,400\n",
            "     BatchNorm2d-269            [-1, 816, 4, 4]           1,632\n",
            "            SiLU-270            [-1, 816, 4, 4]               0\n",
            "AdaptiveAvgPool2d-271            [-1, 816, 1, 1]               0\n",
            "          Conv2d-272             [-1, 34, 1, 1]          27,778\n",
            "            SiLU-273             [-1, 34, 1, 1]               0\n",
            "          Conv2d-274            [-1, 816, 1, 1]          28,560\n",
            "         Sigmoid-275            [-1, 816, 1, 1]               0\n",
            "SqueezeExcitation-276            [-1, 816, 4, 4]               0\n",
            "          Conv2d-277            [-1, 136, 4, 4]         110,976\n",
            "     BatchNorm2d-278            [-1, 136, 4, 4]             272\n",
            " StochasticDepth-279            [-1, 136, 4, 4]               0\n",
            "          MBConv-280            [-1, 136, 4, 4]               0\n",
            "          Conv2d-281            [-1, 816, 4, 4]         110,976\n",
            "     BatchNorm2d-282            [-1, 816, 4, 4]           1,632\n",
            "            SiLU-283            [-1, 816, 4, 4]               0\n",
            "          Conv2d-284            [-1, 816, 2, 2]          20,400\n",
            "     BatchNorm2d-285            [-1, 816, 2, 2]           1,632\n",
            "            SiLU-286            [-1, 816, 2, 2]               0\n",
            "AdaptiveAvgPool2d-287            [-1, 816, 1, 1]               0\n",
            "          Conv2d-288             [-1, 34, 1, 1]          27,778\n",
            "            SiLU-289             [-1, 34, 1, 1]               0\n",
            "          Conv2d-290            [-1, 816, 1, 1]          28,560\n",
            "         Sigmoid-291            [-1, 816, 1, 1]               0\n",
            "SqueezeExcitation-292            [-1, 816, 2, 2]               0\n",
            "          Conv2d-293            [-1, 232, 2, 2]         189,312\n",
            "     BatchNorm2d-294            [-1, 232, 2, 2]             464\n",
            "          MBConv-295            [-1, 232, 2, 2]               0\n",
            "          Conv2d-296           [-1, 1392, 2, 2]         322,944\n",
            "     BatchNorm2d-297           [-1, 1392, 2, 2]           2,784\n",
            "            SiLU-298           [-1, 1392, 2, 2]               0\n",
            "          Conv2d-299           [-1, 1392, 2, 2]          34,800\n",
            "     BatchNorm2d-300           [-1, 1392, 2, 2]           2,784\n",
            "            SiLU-301           [-1, 1392, 2, 2]               0\n",
            "AdaptiveAvgPool2d-302           [-1, 1392, 1, 1]               0\n",
            "          Conv2d-303             [-1, 58, 1, 1]          80,794\n",
            "            SiLU-304             [-1, 58, 1, 1]               0\n",
            "          Conv2d-305           [-1, 1392, 1, 1]          82,128\n",
            "         Sigmoid-306           [-1, 1392, 1, 1]               0\n",
            "SqueezeExcitation-307           [-1, 1392, 2, 2]               0\n",
            "          Conv2d-308            [-1, 232, 2, 2]         322,944\n",
            "     BatchNorm2d-309            [-1, 232, 2, 2]             464\n",
            " StochasticDepth-310            [-1, 232, 2, 2]               0\n",
            "          MBConv-311            [-1, 232, 2, 2]               0\n",
            "          Conv2d-312           [-1, 1392, 2, 2]         322,944\n",
            "     BatchNorm2d-313           [-1, 1392, 2, 2]           2,784\n",
            "            SiLU-314           [-1, 1392, 2, 2]               0\n",
            "          Conv2d-315           [-1, 1392, 2, 2]          34,800\n",
            "     BatchNorm2d-316           [-1, 1392, 2, 2]           2,784\n",
            "            SiLU-317           [-1, 1392, 2, 2]               0\n",
            "AdaptiveAvgPool2d-318           [-1, 1392, 1, 1]               0\n",
            "          Conv2d-319             [-1, 58, 1, 1]          80,794\n",
            "            SiLU-320             [-1, 58, 1, 1]               0\n",
            "          Conv2d-321           [-1, 1392, 1, 1]          82,128\n",
            "         Sigmoid-322           [-1, 1392, 1, 1]               0\n",
            "SqueezeExcitation-323           [-1, 1392, 2, 2]               0\n",
            "          Conv2d-324            [-1, 232, 2, 2]         322,944\n",
            "     BatchNorm2d-325            [-1, 232, 2, 2]             464\n",
            " StochasticDepth-326            [-1, 232, 2, 2]               0\n",
            "          MBConv-327            [-1, 232, 2, 2]               0\n",
            "          Conv2d-328           [-1, 1392, 2, 2]         322,944\n",
            "     BatchNorm2d-329           [-1, 1392, 2, 2]           2,784\n",
            "            SiLU-330           [-1, 1392, 2, 2]               0\n",
            "          Conv2d-331           [-1, 1392, 2, 2]          34,800\n",
            "     BatchNorm2d-332           [-1, 1392, 2, 2]           2,784\n",
            "            SiLU-333           [-1, 1392, 2, 2]               0\n",
            "AdaptiveAvgPool2d-334           [-1, 1392, 1, 1]               0\n",
            "          Conv2d-335             [-1, 58, 1, 1]          80,794\n",
            "            SiLU-336             [-1, 58, 1, 1]               0\n",
            "          Conv2d-337           [-1, 1392, 1, 1]          82,128\n",
            "         Sigmoid-338           [-1, 1392, 1, 1]               0\n",
            "SqueezeExcitation-339           [-1, 1392, 2, 2]               0\n",
            "          Conv2d-340            [-1, 232, 2, 2]         322,944\n",
            "     BatchNorm2d-341            [-1, 232, 2, 2]             464\n",
            " StochasticDepth-342            [-1, 232, 2, 2]               0\n",
            "          MBConv-343            [-1, 232, 2, 2]               0\n",
            "          Conv2d-344           [-1, 1392, 2, 2]         322,944\n",
            "     BatchNorm2d-345           [-1, 1392, 2, 2]           2,784\n",
            "            SiLU-346           [-1, 1392, 2, 2]               0\n",
            "          Conv2d-347           [-1, 1392, 2, 2]          34,800\n",
            "     BatchNorm2d-348           [-1, 1392, 2, 2]           2,784\n",
            "            SiLU-349           [-1, 1392, 2, 2]               0\n",
            "AdaptiveAvgPool2d-350           [-1, 1392, 1, 1]               0\n",
            "          Conv2d-351             [-1, 58, 1, 1]          80,794\n",
            "            SiLU-352             [-1, 58, 1, 1]               0\n",
            "          Conv2d-353           [-1, 1392, 1, 1]          82,128\n",
            "         Sigmoid-354           [-1, 1392, 1, 1]               0\n",
            "SqueezeExcitation-355           [-1, 1392, 2, 2]               0\n",
            "          Conv2d-356            [-1, 232, 2, 2]         322,944\n",
            "     BatchNorm2d-357            [-1, 232, 2, 2]             464\n",
            " StochasticDepth-358            [-1, 232, 2, 2]               0\n",
            "          MBConv-359            [-1, 232, 2, 2]               0\n",
            "          Conv2d-360           [-1, 1392, 2, 2]         322,944\n",
            "     BatchNorm2d-361           [-1, 1392, 2, 2]           2,784\n",
            "            SiLU-362           [-1, 1392, 2, 2]               0\n",
            "          Conv2d-363           [-1, 1392, 2, 2]          34,800\n",
            "     BatchNorm2d-364           [-1, 1392, 2, 2]           2,784\n",
            "            SiLU-365           [-1, 1392, 2, 2]               0\n",
            "AdaptiveAvgPool2d-366           [-1, 1392, 1, 1]               0\n",
            "          Conv2d-367             [-1, 58, 1, 1]          80,794\n",
            "            SiLU-368             [-1, 58, 1, 1]               0\n",
            "          Conv2d-369           [-1, 1392, 1, 1]          82,128\n",
            "         Sigmoid-370           [-1, 1392, 1, 1]               0\n",
            "SqueezeExcitation-371           [-1, 1392, 2, 2]               0\n",
            "          Conv2d-372            [-1, 232, 2, 2]         322,944\n",
            "     BatchNorm2d-373            [-1, 232, 2, 2]             464\n",
            " StochasticDepth-374            [-1, 232, 2, 2]               0\n",
            "          MBConv-375            [-1, 232, 2, 2]               0\n",
            "          Conv2d-376           [-1, 1392, 2, 2]         322,944\n",
            "     BatchNorm2d-377           [-1, 1392, 2, 2]           2,784\n",
            "            SiLU-378           [-1, 1392, 2, 2]               0\n",
            "          Conv2d-379           [-1, 1392, 2, 2]          12,528\n",
            "     BatchNorm2d-380           [-1, 1392, 2, 2]           2,784\n",
            "            SiLU-381           [-1, 1392, 2, 2]               0\n",
            "AdaptiveAvgPool2d-382           [-1, 1392, 1, 1]               0\n",
            "          Conv2d-383             [-1, 58, 1, 1]          80,794\n",
            "            SiLU-384             [-1, 58, 1, 1]               0\n",
            "          Conv2d-385           [-1, 1392, 1, 1]          82,128\n",
            "         Sigmoid-386           [-1, 1392, 1, 1]               0\n",
            "SqueezeExcitation-387           [-1, 1392, 2, 2]               0\n",
            "          Conv2d-388            [-1, 384, 2, 2]         534,528\n",
            "     BatchNorm2d-389            [-1, 384, 2, 2]             768\n",
            "          MBConv-390            [-1, 384, 2, 2]               0\n",
            "          Conv2d-391           [-1, 2304, 2, 2]         884,736\n",
            "     BatchNorm2d-392           [-1, 2304, 2, 2]           4,608\n",
            "            SiLU-393           [-1, 2304, 2, 2]               0\n",
            "          Conv2d-394           [-1, 2304, 2, 2]          20,736\n",
            "     BatchNorm2d-395           [-1, 2304, 2, 2]           4,608\n",
            "            SiLU-396           [-1, 2304, 2, 2]               0\n",
            "AdaptiveAvgPool2d-397           [-1, 2304, 1, 1]               0\n",
            "          Conv2d-398             [-1, 96, 1, 1]         221,280\n",
            "            SiLU-399             [-1, 96, 1, 1]               0\n",
            "          Conv2d-400           [-1, 2304, 1, 1]         223,488\n",
            "         Sigmoid-401           [-1, 2304, 1, 1]               0\n",
            "SqueezeExcitation-402           [-1, 2304, 2, 2]               0\n",
            "          Conv2d-403            [-1, 384, 2, 2]         884,736\n",
            "     BatchNorm2d-404            [-1, 384, 2, 2]             768\n",
            " StochasticDepth-405            [-1, 384, 2, 2]               0\n",
            "          MBConv-406            [-1, 384, 2, 2]               0\n",
            "          Conv2d-407           [-1, 1536, 2, 2]         589,824\n",
            "     BatchNorm2d-408           [-1, 1536, 2, 2]           3,072\n",
            "            SiLU-409           [-1, 1536, 2, 2]               0\n",
            "AdaptiveAvgPool2d-410           [-1, 1536, 1, 1]               0\n",
            "        Identity-411                 [-1, 1536]               0\n",
            "    EfficientNet-412                 [-1, 1536]               0\n",
            "          Linear-413                    [-1, 3]           4,611\n",
            "          Linear-414                   [-1, 90]         138,330\n",
            "================================================================\n",
            "Total params: 10,839,173\n",
            "Trainable params: 2,333,095\n",
            "Non-trainable params: 8,506,078\n",
            "----------------------------------------------------------------\n",
            "Input size (MB): 0.05\n",
            "Forward/backward pass size (MB): 28.31\n",
            "Params size (MB): 41.35\n",
            "Estimated Total Size (MB): 69.71\n",
            "----------------------------------------------------------------\n"
          ]
        }
      ]
    },
    {
      "cell_type": "code",
      "source": [
        "epochs = 5\n",
        "initial_epoch = 5\n",
        "learning_rate = 3e-4\n",
        "loss_func = torch.nn.CrossEntropyLoss()\n",
        "optimizer = torch.optim.AdamW(trainable_params, lr=learning_rate)\n",
        "\n",
        "fit_classifier(\n",
        "    baseline_model, \n",
        "    train_loader=train_loader, \n",
        "    val_loader=val_loader,\n",
        "    optimizer=optimizer, \n",
        "    loss_func=loss_func, \n",
        "    epochs=epochs,\n",
        "    initial_epoch=initial_epoch, \n",
        "    device=device,\n",
        "    name='Baseline_EfficientNetB6_semi_frozen'\n",
        ")"
      ],
      "metadata": {
        "colab": {
          "base_uri": "https://localhost:8080/"
        },
        "id": "1Vj1RjuLwBEp",
        "outputId": "9c9b7db8-69f0-40be-89d3-a9d7cce390f3"
      },
      "execution_count": 93,
      "outputs": [
        {
          "output_type": "stream",
          "name": "stderr",
          "text": [
            "Epoch 6 train: 100%|██████████| 180/180 [00:22<00:00,  7.96batch/s, loss=8.73, sub_class_accuracy=0.1, super_class_accuracy=0.6]\n"
          ]
        },
        {
          "output_type": "stream",
          "name": "stdout",
          "text": [
            "Epoch 6 train Super Class loss: 4.3015292106126815 Super Class acc: 0.6084001064300537 Sub Class loss: 3.8101656058807745 Sub Class acc: 0.1265249252319336\n"
          ]
        },
        {
          "output_type": "stream",
          "name": "stderr",
          "text": [
            "Epoch 6 val: 100%|██████████| 23/23 [00:01<00:00, 18.11batch/s, loss=13.1, sub_class_accuracy=0.0333, super_class_accuracy=0.667]\n"
          ]
        },
        {
          "output_type": "stream",
          "name": "stdout",
          "text": [
            "Epoch 6 val Super Class loss: 11.775570302308418 Super Class acc: 0.611716628074646 Sub Class loss: 10.783954441060162 Sub Class acc: 0.07765667140483856\n",
            "--------------------\n"
          ]
        },
        {
          "output_type": "stream",
          "name": "stderr",
          "text": [
            "Epoch 7 train: 100%|██████████| 180/180 [00:24<00:00,  7.20batch/s, loss=9.08, sub_class_accuracy=0.1, super_class_accuracy=0.4]\n"
          ]
        },
        {
          "output_type": "stream",
          "name": "stdout",
          "text": [
            "Epoch 7 train Super Class loss: 3.797858584920219 Super Class acc: 0.6697455644607544 Sub Class loss: 3.6688409130013997 Sub Class acc: 0.13332171738147736\n"
          ]
        },
        {
          "output_type": "stream",
          "name": "stderr",
          "text": [
            "Epoch 7 val: 100%|██████████| 23/23 [00:00<00:00, 23.54batch/s, loss=7.45, sub_class_accuracy=0.0667, super_class_accuracy=0.767]\n"
          ]
        },
        {
          "output_type": "stream",
          "name": "stdout",
          "text": [
            "Epoch 7 val Super Class loss: 4.148335873431016 Super Class acc: 0.6716620922088623 Sub Class loss: 4.181522005585299 Sub Class acc: 0.09673024713993073\n",
            "--------------------\n"
          ]
        },
        {
          "output_type": "stream",
          "name": "stderr",
          "text": [
            "Epoch 8 train: 100%|██████████| 180/180 [00:21<00:00,  8.56batch/s, loss=8.2, sub_class_accuracy=0.2, super_class_accuracy=0.8]\n"
          ]
        },
        {
          "output_type": "stream",
          "name": "stdout",
          "text": [
            "Epoch 8 train Super Class loss: 3.5740054845186675 Super Class acc: 0.6960613131523132 Sub Class loss: 3.5823437088081835 Sub Class acc: 0.14447543025016785\n"
          ]
        },
        {
          "output_type": "stream",
          "name": "stderr",
          "text": [
            "Epoch 8 val: 100%|██████████| 23/23 [00:01<00:00, 19.13batch/s, loss=7.57, sub_class_accuracy=0.133, super_class_accuracy=0.767]\n"
          ]
        },
        {
          "output_type": "stream",
          "name": "stdout",
          "text": [
            "Epoch 8 val Super Class loss: 3.582136885184358 Super Class acc: 0.7098092436790466 Sub Class loss: 4.100236953766534 Sub Class acc: 0.1130790188908577\n",
            "--------------------\n"
          ]
        },
        {
          "output_type": "stream",
          "name": "stderr",
          "text": [
            "Epoch 9 train: 100%|██████████| 180/180 [00:20<00:00,  8.69batch/s, loss=8.13, sub_class_accuracy=0.1, super_class_accuracy=0.6]\n"
          ]
        },
        {
          "output_type": "stream",
          "name": "stdout",
          "text": [
            "Epoch 9 train Super Class loss: 3.4030174924422325 Super Class acc: 0.7147089242935181 Sub Class loss: 3.517515592518564 Sub Class acc: 0.15528059005737305\n"
          ]
        },
        {
          "output_type": "stream",
          "name": "stderr",
          "text": [
            "Epoch 9 val: 100%|██████████| 23/23 [00:00<00:00, 24.05batch/s, loss=6.55, sub_class_accuracy=0.1, super_class_accuracy=0.8]\n"
          ]
        },
        {
          "output_type": "stream",
          "name": "stdout",
          "text": [
            "Epoch 9 val Super Class loss: 3.3668457787758 Super Class acc: 0.7247956395149231 Sub Class loss: 3.9257988851791508 Sub Class acc: 0.10626702755689621\n",
            "--------------------\n"
          ]
        },
        {
          "output_type": "stream",
          "name": "stderr",
          "text": [
            "Epoch 10 train: 100%|██████████| 180/180 [00:20<00:00,  8.92batch/s, loss=8.97, sub_class_accuracy=0.3, super_class_accuracy=0.8]\n"
          ]
        },
        {
          "output_type": "stream",
          "name": "stdout",
          "text": [
            "Epoch 10 train Super Class loss: 3.1121588305921746 Super Class acc: 0.7427675127983093 Sub Class loss: 3.4141397054040006 Sub Class acc: 0.16800278425216675\n"
          ]
        },
        {
          "output_type": "stream",
          "name": "stderr",
          "text": [
            "Epoch 10 val: 100%|██████████| 23/23 [00:00<00:00, 23.20batch/s, loss=6.88, sub_class_accuracy=0.0667, super_class_accuracy=0.867]\n"
          ]
        },
        {
          "output_type": "stream",
          "name": "stdout",
          "text": [
            "Epoch 10 val Super Class loss: 3.3224728963355603 Super Class acc: 0.7411444187164307 Sub Class loss: 3.781241007656752 Sub Class acc: 0.10081743448972702\n",
            "--------------------\n",
            "Best Super Class val acc: 0.7411444187164307\n",
            "Best Sub Class val acc: 0.1130790188908577\n",
            "Average Time taken for an epoch: 23.161780738830565 sec\n"
          ]
        }
      ]
    },
    {
      "cell_type": "markdown",
      "source": [
        "##### Unfreeze all the layers in the network (phase 3)"
      ],
      "metadata": {
        "id": "tw4FLuBiwTvZ"
      }
    },
    {
      "cell_type": "code",
      "source": [
        "# Training baseline EfficientNetB6 model (with some backbone frozen)\n",
        "for param in baseline_model.parameters():\n",
        "    param.requires_grad = True\n",
        "\n",
        "summary(baseline_model, (3, 64, 64))\n",
        "\n",
        "trainable_params = []\n",
        "\n",
        "for name, param in baseline_model.named_parameters():\n",
        "    if param.requires_grad:\n",
        "        #print(name)\n",
        "        trainable_params.append(param)"
      ],
      "metadata": {
        "colab": {
          "base_uri": "https://localhost:8080/"
        },
        "id": "_805jlFVwYtI",
        "outputId": "b9b0c526-fda3-4b6d-ec24-802e82e9b84d"
      },
      "execution_count": 94,
      "outputs": [
        {
          "output_type": "stream",
          "name": "stdout",
          "text": [
            "----------------------------------------------------------------\n",
            "        Layer (type)               Output Shape         Param #\n",
            "================================================================\n",
            "            Conv2d-1           [-1, 40, 32, 32]           1,080\n",
            "       BatchNorm2d-2           [-1, 40, 32, 32]              80\n",
            "              SiLU-3           [-1, 40, 32, 32]               0\n",
            "            Conv2d-4           [-1, 40, 32, 32]             360\n",
            "       BatchNorm2d-5           [-1, 40, 32, 32]              80\n",
            "              SiLU-6           [-1, 40, 32, 32]               0\n",
            " AdaptiveAvgPool2d-7             [-1, 40, 1, 1]               0\n",
            "            Conv2d-8             [-1, 10, 1, 1]             410\n",
            "              SiLU-9             [-1, 10, 1, 1]               0\n",
            "           Conv2d-10             [-1, 40, 1, 1]             440\n",
            "          Sigmoid-11             [-1, 40, 1, 1]               0\n",
            "SqueezeExcitation-12           [-1, 40, 32, 32]               0\n",
            "           Conv2d-13           [-1, 24, 32, 32]             960\n",
            "      BatchNorm2d-14           [-1, 24, 32, 32]              48\n",
            "           MBConv-15           [-1, 24, 32, 32]               0\n",
            "           Conv2d-16           [-1, 24, 32, 32]             216\n",
            "      BatchNorm2d-17           [-1, 24, 32, 32]              48\n",
            "             SiLU-18           [-1, 24, 32, 32]               0\n",
            "AdaptiveAvgPool2d-19             [-1, 24, 1, 1]               0\n",
            "           Conv2d-20              [-1, 6, 1, 1]             150\n",
            "             SiLU-21              [-1, 6, 1, 1]               0\n",
            "           Conv2d-22             [-1, 24, 1, 1]             168\n",
            "          Sigmoid-23             [-1, 24, 1, 1]               0\n",
            "SqueezeExcitation-24           [-1, 24, 32, 32]               0\n",
            "           Conv2d-25           [-1, 24, 32, 32]             576\n",
            "      BatchNorm2d-26           [-1, 24, 32, 32]              48\n",
            "  StochasticDepth-27           [-1, 24, 32, 32]               0\n",
            "           MBConv-28           [-1, 24, 32, 32]               0\n",
            "           Conv2d-29          [-1, 144, 32, 32]           3,456\n",
            "      BatchNorm2d-30          [-1, 144, 32, 32]             288\n",
            "             SiLU-31          [-1, 144, 32, 32]               0\n",
            "           Conv2d-32          [-1, 144, 16, 16]           1,296\n",
            "      BatchNorm2d-33          [-1, 144, 16, 16]             288\n",
            "             SiLU-34          [-1, 144, 16, 16]               0\n",
            "AdaptiveAvgPool2d-35            [-1, 144, 1, 1]               0\n",
            "           Conv2d-36              [-1, 6, 1, 1]             870\n",
            "             SiLU-37              [-1, 6, 1, 1]               0\n",
            "           Conv2d-38            [-1, 144, 1, 1]           1,008\n",
            "          Sigmoid-39            [-1, 144, 1, 1]               0\n",
            "SqueezeExcitation-40          [-1, 144, 16, 16]               0\n",
            "           Conv2d-41           [-1, 32, 16, 16]           4,608\n",
            "      BatchNorm2d-42           [-1, 32, 16, 16]              64\n",
            "           MBConv-43           [-1, 32, 16, 16]               0\n",
            "           Conv2d-44          [-1, 192, 16, 16]           6,144\n",
            "      BatchNorm2d-45          [-1, 192, 16, 16]             384\n",
            "             SiLU-46          [-1, 192, 16, 16]               0\n",
            "           Conv2d-47          [-1, 192, 16, 16]           1,728\n",
            "      BatchNorm2d-48          [-1, 192, 16, 16]             384\n",
            "             SiLU-49          [-1, 192, 16, 16]               0\n",
            "AdaptiveAvgPool2d-50            [-1, 192, 1, 1]               0\n",
            "           Conv2d-51              [-1, 8, 1, 1]           1,544\n",
            "             SiLU-52              [-1, 8, 1, 1]               0\n",
            "           Conv2d-53            [-1, 192, 1, 1]           1,728\n",
            "          Sigmoid-54            [-1, 192, 1, 1]               0\n",
            "SqueezeExcitation-55          [-1, 192, 16, 16]               0\n",
            "           Conv2d-56           [-1, 32, 16, 16]           6,144\n",
            "      BatchNorm2d-57           [-1, 32, 16, 16]              64\n",
            "  StochasticDepth-58           [-1, 32, 16, 16]               0\n",
            "           MBConv-59           [-1, 32, 16, 16]               0\n",
            "           Conv2d-60          [-1, 192, 16, 16]           6,144\n",
            "      BatchNorm2d-61          [-1, 192, 16, 16]             384\n",
            "             SiLU-62          [-1, 192, 16, 16]               0\n",
            "           Conv2d-63          [-1, 192, 16, 16]           1,728\n",
            "      BatchNorm2d-64          [-1, 192, 16, 16]             384\n",
            "             SiLU-65          [-1, 192, 16, 16]               0\n",
            "AdaptiveAvgPool2d-66            [-1, 192, 1, 1]               0\n",
            "           Conv2d-67              [-1, 8, 1, 1]           1,544\n",
            "             SiLU-68              [-1, 8, 1, 1]               0\n",
            "           Conv2d-69            [-1, 192, 1, 1]           1,728\n",
            "          Sigmoid-70            [-1, 192, 1, 1]               0\n",
            "SqueezeExcitation-71          [-1, 192, 16, 16]               0\n",
            "           Conv2d-72           [-1, 32, 16, 16]           6,144\n",
            "      BatchNorm2d-73           [-1, 32, 16, 16]              64\n",
            "  StochasticDepth-74           [-1, 32, 16, 16]               0\n",
            "           MBConv-75           [-1, 32, 16, 16]               0\n",
            "           Conv2d-76          [-1, 192, 16, 16]           6,144\n",
            "      BatchNorm2d-77          [-1, 192, 16, 16]             384\n",
            "             SiLU-78          [-1, 192, 16, 16]               0\n",
            "           Conv2d-79            [-1, 192, 8, 8]           4,800\n",
            "      BatchNorm2d-80            [-1, 192, 8, 8]             384\n",
            "             SiLU-81            [-1, 192, 8, 8]               0\n",
            "AdaptiveAvgPool2d-82            [-1, 192, 1, 1]               0\n",
            "           Conv2d-83              [-1, 8, 1, 1]           1,544\n",
            "             SiLU-84              [-1, 8, 1, 1]               0\n",
            "           Conv2d-85            [-1, 192, 1, 1]           1,728\n",
            "          Sigmoid-86            [-1, 192, 1, 1]               0\n",
            "SqueezeExcitation-87            [-1, 192, 8, 8]               0\n",
            "           Conv2d-88             [-1, 48, 8, 8]           9,216\n",
            "      BatchNorm2d-89             [-1, 48, 8, 8]              96\n",
            "           MBConv-90             [-1, 48, 8, 8]               0\n",
            "           Conv2d-91            [-1, 288, 8, 8]          13,824\n",
            "      BatchNorm2d-92            [-1, 288, 8, 8]             576\n",
            "             SiLU-93            [-1, 288, 8, 8]               0\n",
            "           Conv2d-94            [-1, 288, 8, 8]           7,200\n",
            "      BatchNorm2d-95            [-1, 288, 8, 8]             576\n",
            "             SiLU-96            [-1, 288, 8, 8]               0\n",
            "AdaptiveAvgPool2d-97            [-1, 288, 1, 1]               0\n",
            "           Conv2d-98             [-1, 12, 1, 1]           3,468\n",
            "             SiLU-99             [-1, 12, 1, 1]               0\n",
            "          Conv2d-100            [-1, 288, 1, 1]           3,744\n",
            "         Sigmoid-101            [-1, 288, 1, 1]               0\n",
            "SqueezeExcitation-102            [-1, 288, 8, 8]               0\n",
            "          Conv2d-103             [-1, 48, 8, 8]          13,824\n",
            "     BatchNorm2d-104             [-1, 48, 8, 8]              96\n",
            " StochasticDepth-105             [-1, 48, 8, 8]               0\n",
            "          MBConv-106             [-1, 48, 8, 8]               0\n",
            "          Conv2d-107            [-1, 288, 8, 8]          13,824\n",
            "     BatchNorm2d-108            [-1, 288, 8, 8]             576\n",
            "            SiLU-109            [-1, 288, 8, 8]               0\n",
            "          Conv2d-110            [-1, 288, 8, 8]           7,200\n",
            "     BatchNorm2d-111            [-1, 288, 8, 8]             576\n",
            "            SiLU-112            [-1, 288, 8, 8]               0\n",
            "AdaptiveAvgPool2d-113            [-1, 288, 1, 1]               0\n",
            "          Conv2d-114             [-1, 12, 1, 1]           3,468\n",
            "            SiLU-115             [-1, 12, 1, 1]               0\n",
            "          Conv2d-116            [-1, 288, 1, 1]           3,744\n",
            "         Sigmoid-117            [-1, 288, 1, 1]               0\n",
            "SqueezeExcitation-118            [-1, 288, 8, 8]               0\n",
            "          Conv2d-119             [-1, 48, 8, 8]          13,824\n",
            "     BatchNorm2d-120             [-1, 48, 8, 8]              96\n",
            " StochasticDepth-121             [-1, 48, 8, 8]               0\n",
            "          MBConv-122             [-1, 48, 8, 8]               0\n",
            "          Conv2d-123            [-1, 288, 8, 8]          13,824\n",
            "     BatchNorm2d-124            [-1, 288, 8, 8]             576\n",
            "            SiLU-125            [-1, 288, 8, 8]               0\n",
            "          Conv2d-126            [-1, 288, 4, 4]           2,592\n",
            "     BatchNorm2d-127            [-1, 288, 4, 4]             576\n",
            "            SiLU-128            [-1, 288, 4, 4]               0\n",
            "AdaptiveAvgPool2d-129            [-1, 288, 1, 1]               0\n",
            "          Conv2d-130             [-1, 12, 1, 1]           3,468\n",
            "            SiLU-131             [-1, 12, 1, 1]               0\n",
            "          Conv2d-132            [-1, 288, 1, 1]           3,744\n",
            "         Sigmoid-133            [-1, 288, 1, 1]               0\n",
            "SqueezeExcitation-134            [-1, 288, 4, 4]               0\n",
            "          Conv2d-135             [-1, 96, 4, 4]          27,648\n",
            "     BatchNorm2d-136             [-1, 96, 4, 4]             192\n",
            "          MBConv-137             [-1, 96, 4, 4]               0\n",
            "          Conv2d-138            [-1, 576, 4, 4]          55,296\n",
            "     BatchNorm2d-139            [-1, 576, 4, 4]           1,152\n",
            "            SiLU-140            [-1, 576, 4, 4]               0\n",
            "          Conv2d-141            [-1, 576, 4, 4]           5,184\n",
            "     BatchNorm2d-142            [-1, 576, 4, 4]           1,152\n",
            "            SiLU-143            [-1, 576, 4, 4]               0\n",
            "AdaptiveAvgPool2d-144            [-1, 576, 1, 1]               0\n",
            "          Conv2d-145             [-1, 24, 1, 1]          13,848\n",
            "            SiLU-146             [-1, 24, 1, 1]               0\n",
            "          Conv2d-147            [-1, 576, 1, 1]          14,400\n",
            "         Sigmoid-148            [-1, 576, 1, 1]               0\n",
            "SqueezeExcitation-149            [-1, 576, 4, 4]               0\n",
            "          Conv2d-150             [-1, 96, 4, 4]          55,296\n",
            "     BatchNorm2d-151             [-1, 96, 4, 4]             192\n",
            " StochasticDepth-152             [-1, 96, 4, 4]               0\n",
            "          MBConv-153             [-1, 96, 4, 4]               0\n",
            "          Conv2d-154            [-1, 576, 4, 4]          55,296\n",
            "     BatchNorm2d-155            [-1, 576, 4, 4]           1,152\n",
            "            SiLU-156            [-1, 576, 4, 4]               0\n",
            "          Conv2d-157            [-1, 576, 4, 4]           5,184\n",
            "     BatchNorm2d-158            [-1, 576, 4, 4]           1,152\n",
            "            SiLU-159            [-1, 576, 4, 4]               0\n",
            "AdaptiveAvgPool2d-160            [-1, 576, 1, 1]               0\n",
            "          Conv2d-161             [-1, 24, 1, 1]          13,848\n",
            "            SiLU-162             [-1, 24, 1, 1]               0\n",
            "          Conv2d-163            [-1, 576, 1, 1]          14,400\n",
            "         Sigmoid-164            [-1, 576, 1, 1]               0\n",
            "SqueezeExcitation-165            [-1, 576, 4, 4]               0\n",
            "          Conv2d-166             [-1, 96, 4, 4]          55,296\n",
            "     BatchNorm2d-167             [-1, 96, 4, 4]             192\n",
            " StochasticDepth-168             [-1, 96, 4, 4]               0\n",
            "          MBConv-169             [-1, 96, 4, 4]               0\n",
            "          Conv2d-170            [-1, 576, 4, 4]          55,296\n",
            "     BatchNorm2d-171            [-1, 576, 4, 4]           1,152\n",
            "            SiLU-172            [-1, 576, 4, 4]               0\n",
            "          Conv2d-173            [-1, 576, 4, 4]           5,184\n",
            "     BatchNorm2d-174            [-1, 576, 4, 4]           1,152\n",
            "            SiLU-175            [-1, 576, 4, 4]               0\n",
            "AdaptiveAvgPool2d-176            [-1, 576, 1, 1]               0\n",
            "          Conv2d-177             [-1, 24, 1, 1]          13,848\n",
            "            SiLU-178             [-1, 24, 1, 1]               0\n",
            "          Conv2d-179            [-1, 576, 1, 1]          14,400\n",
            "         Sigmoid-180            [-1, 576, 1, 1]               0\n",
            "SqueezeExcitation-181            [-1, 576, 4, 4]               0\n",
            "          Conv2d-182             [-1, 96, 4, 4]          55,296\n",
            "     BatchNorm2d-183             [-1, 96, 4, 4]             192\n",
            " StochasticDepth-184             [-1, 96, 4, 4]               0\n",
            "          MBConv-185             [-1, 96, 4, 4]               0\n",
            "          Conv2d-186            [-1, 576, 4, 4]          55,296\n",
            "     BatchNorm2d-187            [-1, 576, 4, 4]           1,152\n",
            "            SiLU-188            [-1, 576, 4, 4]               0\n",
            "          Conv2d-189            [-1, 576, 4, 4]           5,184\n",
            "     BatchNorm2d-190            [-1, 576, 4, 4]           1,152\n",
            "            SiLU-191            [-1, 576, 4, 4]               0\n",
            "AdaptiveAvgPool2d-192            [-1, 576, 1, 1]               0\n",
            "          Conv2d-193             [-1, 24, 1, 1]          13,848\n",
            "            SiLU-194             [-1, 24, 1, 1]               0\n",
            "          Conv2d-195            [-1, 576, 1, 1]          14,400\n",
            "         Sigmoid-196            [-1, 576, 1, 1]               0\n",
            "SqueezeExcitation-197            [-1, 576, 4, 4]               0\n",
            "          Conv2d-198             [-1, 96, 4, 4]          55,296\n",
            "     BatchNorm2d-199             [-1, 96, 4, 4]             192\n",
            " StochasticDepth-200             [-1, 96, 4, 4]               0\n",
            "          MBConv-201             [-1, 96, 4, 4]               0\n",
            "          Conv2d-202            [-1, 576, 4, 4]          55,296\n",
            "     BatchNorm2d-203            [-1, 576, 4, 4]           1,152\n",
            "            SiLU-204            [-1, 576, 4, 4]               0\n",
            "          Conv2d-205            [-1, 576, 4, 4]          14,400\n",
            "     BatchNorm2d-206            [-1, 576, 4, 4]           1,152\n",
            "            SiLU-207            [-1, 576, 4, 4]               0\n",
            "AdaptiveAvgPool2d-208            [-1, 576, 1, 1]               0\n",
            "          Conv2d-209             [-1, 24, 1, 1]          13,848\n",
            "            SiLU-210             [-1, 24, 1, 1]               0\n",
            "          Conv2d-211            [-1, 576, 1, 1]          14,400\n",
            "         Sigmoid-212            [-1, 576, 1, 1]               0\n",
            "SqueezeExcitation-213            [-1, 576, 4, 4]               0\n",
            "          Conv2d-214            [-1, 136, 4, 4]          78,336\n",
            "     BatchNorm2d-215            [-1, 136, 4, 4]             272\n",
            "          MBConv-216            [-1, 136, 4, 4]               0\n",
            "          Conv2d-217            [-1, 816, 4, 4]         110,976\n",
            "     BatchNorm2d-218            [-1, 816, 4, 4]           1,632\n",
            "            SiLU-219            [-1, 816, 4, 4]               0\n",
            "          Conv2d-220            [-1, 816, 4, 4]          20,400\n",
            "     BatchNorm2d-221            [-1, 816, 4, 4]           1,632\n",
            "            SiLU-222            [-1, 816, 4, 4]               0\n",
            "AdaptiveAvgPool2d-223            [-1, 816, 1, 1]               0\n",
            "          Conv2d-224             [-1, 34, 1, 1]          27,778\n",
            "            SiLU-225             [-1, 34, 1, 1]               0\n",
            "          Conv2d-226            [-1, 816, 1, 1]          28,560\n",
            "         Sigmoid-227            [-1, 816, 1, 1]               0\n",
            "SqueezeExcitation-228            [-1, 816, 4, 4]               0\n",
            "          Conv2d-229            [-1, 136, 4, 4]         110,976\n",
            "     BatchNorm2d-230            [-1, 136, 4, 4]             272\n",
            " StochasticDepth-231            [-1, 136, 4, 4]               0\n",
            "          MBConv-232            [-1, 136, 4, 4]               0\n",
            "          Conv2d-233            [-1, 816, 4, 4]         110,976\n",
            "     BatchNorm2d-234            [-1, 816, 4, 4]           1,632\n",
            "            SiLU-235            [-1, 816, 4, 4]               0\n",
            "          Conv2d-236            [-1, 816, 4, 4]          20,400\n",
            "     BatchNorm2d-237            [-1, 816, 4, 4]           1,632\n",
            "            SiLU-238            [-1, 816, 4, 4]               0\n",
            "AdaptiveAvgPool2d-239            [-1, 816, 1, 1]               0\n",
            "          Conv2d-240             [-1, 34, 1, 1]          27,778\n",
            "            SiLU-241             [-1, 34, 1, 1]               0\n",
            "          Conv2d-242            [-1, 816, 1, 1]          28,560\n",
            "         Sigmoid-243            [-1, 816, 1, 1]               0\n",
            "SqueezeExcitation-244            [-1, 816, 4, 4]               0\n",
            "          Conv2d-245            [-1, 136, 4, 4]         110,976\n",
            "     BatchNorm2d-246            [-1, 136, 4, 4]             272\n",
            " StochasticDepth-247            [-1, 136, 4, 4]               0\n",
            "          MBConv-248            [-1, 136, 4, 4]               0\n",
            "          Conv2d-249            [-1, 816, 4, 4]         110,976\n",
            "     BatchNorm2d-250            [-1, 816, 4, 4]           1,632\n",
            "            SiLU-251            [-1, 816, 4, 4]               0\n",
            "          Conv2d-252            [-1, 816, 4, 4]          20,400\n",
            "     BatchNorm2d-253            [-1, 816, 4, 4]           1,632\n",
            "            SiLU-254            [-1, 816, 4, 4]               0\n",
            "AdaptiveAvgPool2d-255            [-1, 816, 1, 1]               0\n",
            "          Conv2d-256             [-1, 34, 1, 1]          27,778\n",
            "            SiLU-257             [-1, 34, 1, 1]               0\n",
            "          Conv2d-258            [-1, 816, 1, 1]          28,560\n",
            "         Sigmoid-259            [-1, 816, 1, 1]               0\n",
            "SqueezeExcitation-260            [-1, 816, 4, 4]               0\n",
            "          Conv2d-261            [-1, 136, 4, 4]         110,976\n",
            "     BatchNorm2d-262            [-1, 136, 4, 4]             272\n",
            " StochasticDepth-263            [-1, 136, 4, 4]               0\n",
            "          MBConv-264            [-1, 136, 4, 4]               0\n",
            "          Conv2d-265            [-1, 816, 4, 4]         110,976\n",
            "     BatchNorm2d-266            [-1, 816, 4, 4]           1,632\n",
            "            SiLU-267            [-1, 816, 4, 4]               0\n",
            "          Conv2d-268            [-1, 816, 4, 4]          20,400\n",
            "     BatchNorm2d-269            [-1, 816, 4, 4]           1,632\n",
            "            SiLU-270            [-1, 816, 4, 4]               0\n",
            "AdaptiveAvgPool2d-271            [-1, 816, 1, 1]               0\n",
            "          Conv2d-272             [-1, 34, 1, 1]          27,778\n",
            "            SiLU-273             [-1, 34, 1, 1]               0\n",
            "          Conv2d-274            [-1, 816, 1, 1]          28,560\n",
            "         Sigmoid-275            [-1, 816, 1, 1]               0\n",
            "SqueezeExcitation-276            [-1, 816, 4, 4]               0\n",
            "          Conv2d-277            [-1, 136, 4, 4]         110,976\n",
            "     BatchNorm2d-278            [-1, 136, 4, 4]             272\n",
            " StochasticDepth-279            [-1, 136, 4, 4]               0\n",
            "          MBConv-280            [-1, 136, 4, 4]               0\n",
            "          Conv2d-281            [-1, 816, 4, 4]         110,976\n",
            "     BatchNorm2d-282            [-1, 816, 4, 4]           1,632\n",
            "            SiLU-283            [-1, 816, 4, 4]               0\n",
            "          Conv2d-284            [-1, 816, 2, 2]          20,400\n",
            "     BatchNorm2d-285            [-1, 816, 2, 2]           1,632\n",
            "            SiLU-286            [-1, 816, 2, 2]               0\n",
            "AdaptiveAvgPool2d-287            [-1, 816, 1, 1]               0\n",
            "          Conv2d-288             [-1, 34, 1, 1]          27,778\n",
            "            SiLU-289             [-1, 34, 1, 1]               0\n",
            "          Conv2d-290            [-1, 816, 1, 1]          28,560\n",
            "         Sigmoid-291            [-1, 816, 1, 1]               0\n",
            "SqueezeExcitation-292            [-1, 816, 2, 2]               0\n",
            "          Conv2d-293            [-1, 232, 2, 2]         189,312\n",
            "     BatchNorm2d-294            [-1, 232, 2, 2]             464\n",
            "          MBConv-295            [-1, 232, 2, 2]               0\n",
            "          Conv2d-296           [-1, 1392, 2, 2]         322,944\n",
            "     BatchNorm2d-297           [-1, 1392, 2, 2]           2,784\n",
            "            SiLU-298           [-1, 1392, 2, 2]               0\n",
            "          Conv2d-299           [-1, 1392, 2, 2]          34,800\n",
            "     BatchNorm2d-300           [-1, 1392, 2, 2]           2,784\n",
            "            SiLU-301           [-1, 1392, 2, 2]               0\n",
            "AdaptiveAvgPool2d-302           [-1, 1392, 1, 1]               0\n",
            "          Conv2d-303             [-1, 58, 1, 1]          80,794\n",
            "            SiLU-304             [-1, 58, 1, 1]               0\n",
            "          Conv2d-305           [-1, 1392, 1, 1]          82,128\n",
            "         Sigmoid-306           [-1, 1392, 1, 1]               0\n",
            "SqueezeExcitation-307           [-1, 1392, 2, 2]               0\n",
            "          Conv2d-308            [-1, 232, 2, 2]         322,944\n",
            "     BatchNorm2d-309            [-1, 232, 2, 2]             464\n",
            " StochasticDepth-310            [-1, 232, 2, 2]               0\n",
            "          MBConv-311            [-1, 232, 2, 2]               0\n",
            "          Conv2d-312           [-1, 1392, 2, 2]         322,944\n",
            "     BatchNorm2d-313           [-1, 1392, 2, 2]           2,784\n",
            "            SiLU-314           [-1, 1392, 2, 2]               0\n",
            "          Conv2d-315           [-1, 1392, 2, 2]          34,800\n",
            "     BatchNorm2d-316           [-1, 1392, 2, 2]           2,784\n",
            "            SiLU-317           [-1, 1392, 2, 2]               0\n",
            "AdaptiveAvgPool2d-318           [-1, 1392, 1, 1]               0\n",
            "          Conv2d-319             [-1, 58, 1, 1]          80,794\n",
            "            SiLU-320             [-1, 58, 1, 1]               0\n",
            "          Conv2d-321           [-1, 1392, 1, 1]          82,128\n",
            "         Sigmoid-322           [-1, 1392, 1, 1]               0\n",
            "SqueezeExcitation-323           [-1, 1392, 2, 2]               0\n",
            "          Conv2d-324            [-1, 232, 2, 2]         322,944\n",
            "     BatchNorm2d-325            [-1, 232, 2, 2]             464\n",
            " StochasticDepth-326            [-1, 232, 2, 2]               0\n",
            "          MBConv-327            [-1, 232, 2, 2]               0\n",
            "          Conv2d-328           [-1, 1392, 2, 2]         322,944\n",
            "     BatchNorm2d-329           [-1, 1392, 2, 2]           2,784\n",
            "            SiLU-330           [-1, 1392, 2, 2]               0\n",
            "          Conv2d-331           [-1, 1392, 2, 2]          34,800\n",
            "     BatchNorm2d-332           [-1, 1392, 2, 2]           2,784\n",
            "            SiLU-333           [-1, 1392, 2, 2]               0\n",
            "AdaptiveAvgPool2d-334           [-1, 1392, 1, 1]               0\n",
            "          Conv2d-335             [-1, 58, 1, 1]          80,794\n",
            "            SiLU-336             [-1, 58, 1, 1]               0\n",
            "          Conv2d-337           [-1, 1392, 1, 1]          82,128\n",
            "         Sigmoid-338           [-1, 1392, 1, 1]               0\n",
            "SqueezeExcitation-339           [-1, 1392, 2, 2]               0\n",
            "          Conv2d-340            [-1, 232, 2, 2]         322,944\n",
            "     BatchNorm2d-341            [-1, 232, 2, 2]             464\n",
            " StochasticDepth-342            [-1, 232, 2, 2]               0\n",
            "          MBConv-343            [-1, 232, 2, 2]               0\n",
            "          Conv2d-344           [-1, 1392, 2, 2]         322,944\n",
            "     BatchNorm2d-345           [-1, 1392, 2, 2]           2,784\n",
            "            SiLU-346           [-1, 1392, 2, 2]               0\n",
            "          Conv2d-347           [-1, 1392, 2, 2]          34,800\n",
            "     BatchNorm2d-348           [-1, 1392, 2, 2]           2,784\n",
            "            SiLU-349           [-1, 1392, 2, 2]               0\n",
            "AdaptiveAvgPool2d-350           [-1, 1392, 1, 1]               0\n",
            "          Conv2d-351             [-1, 58, 1, 1]          80,794\n",
            "            SiLU-352             [-1, 58, 1, 1]               0\n",
            "          Conv2d-353           [-1, 1392, 1, 1]          82,128\n",
            "         Sigmoid-354           [-1, 1392, 1, 1]               0\n",
            "SqueezeExcitation-355           [-1, 1392, 2, 2]               0\n",
            "          Conv2d-356            [-1, 232, 2, 2]         322,944\n",
            "     BatchNorm2d-357            [-1, 232, 2, 2]             464\n",
            " StochasticDepth-358            [-1, 232, 2, 2]               0\n",
            "          MBConv-359            [-1, 232, 2, 2]               0\n",
            "          Conv2d-360           [-1, 1392, 2, 2]         322,944\n",
            "     BatchNorm2d-361           [-1, 1392, 2, 2]           2,784\n",
            "            SiLU-362           [-1, 1392, 2, 2]               0\n",
            "          Conv2d-363           [-1, 1392, 2, 2]          34,800\n",
            "     BatchNorm2d-364           [-1, 1392, 2, 2]           2,784\n",
            "            SiLU-365           [-1, 1392, 2, 2]               0\n",
            "AdaptiveAvgPool2d-366           [-1, 1392, 1, 1]               0\n",
            "          Conv2d-367             [-1, 58, 1, 1]          80,794\n",
            "            SiLU-368             [-1, 58, 1, 1]               0\n",
            "          Conv2d-369           [-1, 1392, 1, 1]          82,128\n",
            "         Sigmoid-370           [-1, 1392, 1, 1]               0\n",
            "SqueezeExcitation-371           [-1, 1392, 2, 2]               0\n",
            "          Conv2d-372            [-1, 232, 2, 2]         322,944\n",
            "     BatchNorm2d-373            [-1, 232, 2, 2]             464\n",
            " StochasticDepth-374            [-1, 232, 2, 2]               0\n",
            "          MBConv-375            [-1, 232, 2, 2]               0\n",
            "          Conv2d-376           [-1, 1392, 2, 2]         322,944\n",
            "     BatchNorm2d-377           [-1, 1392, 2, 2]           2,784\n",
            "            SiLU-378           [-1, 1392, 2, 2]               0\n",
            "          Conv2d-379           [-1, 1392, 2, 2]          12,528\n",
            "     BatchNorm2d-380           [-1, 1392, 2, 2]           2,784\n",
            "            SiLU-381           [-1, 1392, 2, 2]               0\n",
            "AdaptiveAvgPool2d-382           [-1, 1392, 1, 1]               0\n",
            "          Conv2d-383             [-1, 58, 1, 1]          80,794\n",
            "            SiLU-384             [-1, 58, 1, 1]               0\n",
            "          Conv2d-385           [-1, 1392, 1, 1]          82,128\n",
            "         Sigmoid-386           [-1, 1392, 1, 1]               0\n",
            "SqueezeExcitation-387           [-1, 1392, 2, 2]               0\n",
            "          Conv2d-388            [-1, 384, 2, 2]         534,528\n",
            "     BatchNorm2d-389            [-1, 384, 2, 2]             768\n",
            "          MBConv-390            [-1, 384, 2, 2]               0\n",
            "          Conv2d-391           [-1, 2304, 2, 2]         884,736\n",
            "     BatchNorm2d-392           [-1, 2304, 2, 2]           4,608\n",
            "            SiLU-393           [-1, 2304, 2, 2]               0\n",
            "          Conv2d-394           [-1, 2304, 2, 2]          20,736\n",
            "     BatchNorm2d-395           [-1, 2304, 2, 2]           4,608\n",
            "            SiLU-396           [-1, 2304, 2, 2]               0\n",
            "AdaptiveAvgPool2d-397           [-1, 2304, 1, 1]               0\n",
            "          Conv2d-398             [-1, 96, 1, 1]         221,280\n",
            "            SiLU-399             [-1, 96, 1, 1]               0\n",
            "          Conv2d-400           [-1, 2304, 1, 1]         223,488\n",
            "         Sigmoid-401           [-1, 2304, 1, 1]               0\n",
            "SqueezeExcitation-402           [-1, 2304, 2, 2]               0\n",
            "          Conv2d-403            [-1, 384, 2, 2]         884,736\n",
            "     BatchNorm2d-404            [-1, 384, 2, 2]             768\n",
            " StochasticDepth-405            [-1, 384, 2, 2]               0\n",
            "          MBConv-406            [-1, 384, 2, 2]               0\n",
            "          Conv2d-407           [-1, 1536, 2, 2]         589,824\n",
            "     BatchNorm2d-408           [-1, 1536, 2, 2]           3,072\n",
            "            SiLU-409           [-1, 1536, 2, 2]               0\n",
            "AdaptiveAvgPool2d-410           [-1, 1536, 1, 1]               0\n",
            "        Identity-411                 [-1, 1536]               0\n",
            "    EfficientNet-412                 [-1, 1536]               0\n",
            "          Linear-413                    [-1, 3]           4,611\n",
            "          Linear-414                   [-1, 90]         138,330\n",
            "================================================================\n",
            "Total params: 10,839,173\n",
            "Trainable params: 10,839,173\n",
            "Non-trainable params: 0\n",
            "----------------------------------------------------------------\n",
            "Input size (MB): 0.05\n",
            "Forward/backward pass size (MB): 28.31\n",
            "Params size (MB): 41.35\n",
            "Estimated Total Size (MB): 69.71\n",
            "----------------------------------------------------------------\n"
          ]
        }
      ]
    },
    {
      "cell_type": "code",
      "source": [
        "epochs = 5\n",
        "initial_epoch = 10\n",
        "learning_rate = 3e-4\n",
        "loss_func = torch.nn.CrossEntropyLoss()\n",
        "optimizer = torch.optim.AdamW(trainable_params, lr=learning_rate)\n",
        "\n",
        "fit_classifier(\n",
        "    baseline_model, \n",
        "    train_loader=train_loader, \n",
        "    val_loader=val_loader,\n",
        "    optimizer=optimizer, \n",
        "    loss_func=loss_func, \n",
        "    epochs=epochs,\n",
        "    initial_epoch=initial_epoch, \n",
        "    device=device,\n",
        "    name='Baseline_EfficientNetB6_unfrozen'\n",
        ")"
      ],
      "metadata": {
        "colab": {
          "base_uri": "https://localhost:8080/"
        },
        "id": "q48VNaTjw0ml",
        "outputId": "a98abd94-8a78-4e5b-de70-e87ca7baf6a6"
      },
      "execution_count": 95,
      "outputs": [
        {
          "output_type": "stream",
          "name": "stderr",
          "text": [
            "Epoch 11 train: 100%|██████████| 180/180 [00:22<00:00,  7.87batch/s, loss=6.71, sub_class_accuracy=0.1, super_class_accuracy=0.8]\n"
          ]
        },
        {
          "output_type": "stream",
          "name": "stdout",
          "text": [
            "Epoch 11 train Super Class loss: 2.9559982128366022 Super Class acc: 0.7619379758834839 Sub Class loss: 3.3102599755111326 Sub Class acc: 0.1878703385591507\n"
          ]
        },
        {
          "output_type": "stream",
          "name": "stderr",
          "text": [
            "Epoch 11 val: 100%|██████████| 23/23 [00:01<00:00, 20.83batch/s, loss=5.8, sub_class_accuracy=0.0667, super_class_accuracy=0.833]\n"
          ]
        },
        {
          "output_type": "stream",
          "name": "stdout",
          "text": [
            "Epoch 11 val Super Class loss: 2.62529606512197 Super Class acc: 0.7915531396865845 Sub Class loss: 3.476050089750368 Sub Class acc: 0.14713896811008453\n",
            "--------------------\n"
          ]
        },
        {
          "output_type": "stream",
          "name": "stderr",
          "text": [
            "Epoch 12 train: 100%|██████████| 180/180 [00:24<00:00,  7.46batch/s, loss=4.35, sub_class_accuracy=0, super_class_accuracy=1]\n"
          ]
        },
        {
          "output_type": "stream",
          "name": "stdout",
          "text": [
            "Epoch 12 train Super Class loss: 2.5954252419134347 Super Class acc: 0.7905193567276001 Sub Class loss: 3.074146333410583 Sub Class acc: 0.21889159083366394\n"
          ]
        },
        {
          "output_type": "stream",
          "name": "stderr",
          "text": [
            "Epoch 12 val: 100%|██████████| 23/23 [00:00<00:00, 24.52batch/s, loss=5.19, sub_class_accuracy=0.133, super_class_accuracy=0.867]\n"
          ]
        },
        {
          "output_type": "stream",
          "name": "stdout",
          "text": [
            "Epoch 12 val Super Class loss: 2.342237806612529 Super Class acc: 0.8119890689849854 Sub Class loss: 3.3507438829874148 Sub Class acc: 0.1621253341436386\n",
            "--------------------\n"
          ]
        },
        {
          "output_type": "stream",
          "name": "stderr",
          "text": [
            "Epoch 13 train: 100%|██████████| 180/180 [00:22<00:00,  7.95batch/s, loss=5.61, sub_class_accuracy=0.2, super_class_accuracy=0.7]\n"
          ]
        },
        {
          "output_type": "stream",
          "name": "stdout",
          "text": [
            "Epoch 13 train Super Class loss: 2.2254211232507632 Super Class acc: 0.8238061666488647 Sub Class loss: 2.832395077665827 Sub Class acc: 0.2642035484313965\n"
          ]
        },
        {
          "output_type": "stream",
          "name": "stderr",
          "text": [
            "Epoch 13 val: 100%|██████████| 23/23 [00:00<00:00, 23.80batch/s, loss=5.2, sub_class_accuracy=0.133, super_class_accuracy=0.9]\n"
          ]
        },
        {
          "output_type": "stream",
          "name": "stdout",
          "text": [
            "Epoch 13 val Super Class loss: 2.2860108470234626 Super Class acc: 0.8242506980895996 Sub Class loss: 3.2808132204112956 Sub Class acc: 0.18392370641231537\n",
            "--------------------\n"
          ]
        },
        {
          "output_type": "stream",
          "name": "stderr",
          "text": [
            "Epoch 14 train: 100%|██████████| 180/180 [00:22<00:00,  7.86batch/s, loss=6.77, sub_class_accuracy=0.2, super_class_accuracy=0.6]\n"
          ]
        },
        {
          "output_type": "stream",
          "name": "stdout",
          "text": [
            "Epoch 14 train Super Class loss: 1.9915570365962936 Super Class acc: 0.8461136221885681 Sub Class loss: 2.6392678503958593 Sub Class acc: 0.29539909958839417\n"
          ]
        },
        {
          "output_type": "stream",
          "name": "stderr",
          "text": [
            "Epoch 14 val: 100%|██████████| 23/23 [00:00<00:00, 24.24batch/s, loss=5.09, sub_class_accuracy=0.167, super_class_accuracy=0.9]\n"
          ]
        },
        {
          "output_type": "stream",
          "name": "stdout",
          "text": [
            "Epoch 14 val Super Class loss: 2.168750337017979 Super Class acc: 0.8337874412536621 Sub Class loss: 3.1495628551826167 Sub Class acc: 0.20572206377983093\n",
            "--------------------\n"
          ]
        },
        {
          "output_type": "stream",
          "name": "stderr",
          "text": [
            "Epoch 15 train: 100%|██████████| 180/180 [00:22<00:00,  7.85batch/s, loss=3.75, sub_class_accuracy=0, super_class_accuracy=0.9]\n"
          ]
        },
        {
          "output_type": "stream",
          "name": "stdout",
          "text": [
            "Epoch 15 train Super Class loss: 1.717985040813674 Super Class acc: 0.8703380823135376 Sub Class loss: 2.470778836569083 Sub Class acc: 0.3274660110473633\n"
          ]
        },
        {
          "output_type": "stream",
          "name": "stderr",
          "text": [
            "Epoch 15 val: 100%|██████████| 23/23 [00:00<00:00, 23.64batch/s, loss=5.18, sub_class_accuracy=0.167, super_class_accuracy=0.9]\n"
          ]
        },
        {
          "output_type": "stream",
          "name": "stdout",
          "text": [
            "Epoch 15 val Super Class loss: 2.1912007212476445 Super Class acc: 0.829700231552124 Sub Class loss: 3.1478206552666603 Sub Class acc: 0.2234332412481308\n",
            "--------------------\n",
            "Best Super Class val acc: 0.8337874412536621\n",
            "Best Sub Class val acc: 0.2234332412481308\n",
            "Average Time taken for an epoch: 24.274130296707153 sec\n"
          ]
        }
      ]
    },
    {
      "cell_type": "markdown",
      "source": [
        "#### Save the sub class and super class separately"
      ],
      "metadata": {
        "id": "rvpSZt9Jx0Kw"
      }
    },
    {
      "cell_type": "code",
      "source": [
        "# Load the best saved baseline model\n",
        "baseline_model.load_state_dict(\n",
        "    torch.load('./models/Baseline_EfficientNetB6_unfrozen_SuperClass.pth')['model_state_dict'], strict = True\n",
        ")\n",
        "\n",
        "print(baseline_model.superclass)\n",
        "\n",
        "baseline_super_class_model = \n"
      ],
      "metadata": {
        "colab": {
          "base_uri": "https://localhost:8080/"
        },
        "id": "mSF9FIrox4VF",
        "outputId": "e66e1d5b-b71c-4a12-dd4f-9819d45a3064"
      },
      "execution_count": 99,
      "outputs": [
        {
          "output_type": "stream",
          "name": "stdout",
          "text": [
            "Linear(in_features=1536, out_features=3, bias=True)\n"
          ]
        }
      ]
    }
  ],
  "metadata": {
    "accelerator": "GPU",
    "colab": {
      "provenance": [],
      "collapsed_sections": [
        "1X-VJRUwWI81",
        "5pXRiu5Uons_",
        "bbihYhyYvSxc",
        "b_1w3N4F7qbb",
        "HrEdW8Li5-DY",
        "CI1Srqj-GkHs"
      ]
    },
    "gpuClass": "standard",
    "kernelspec": {
      "display_name": "Python 3",
      "language": "python",
      "name": "python3"
    },
    "language_info": {
      "name": "python",
      "version": "3.11.0 (main, Oct 24 2022, 18:26:48) [MSC v.1933 64 bit (AMD64)]"
    },
    "vscode": {
      "interpreter": {
        "hash": "1336dc93fed444907148fdefc226feab10af1c3f9ec40f52f703fca06f588eaf"
      }
    }
  },
  "nbformat": 4,
  "nbformat_minor": 0
}