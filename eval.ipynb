{
  "nbformat": 4,
  "nbformat_minor": 0,
  "metadata": {
    "colab": {
      "provenance": []
    },
    "kernelspec": {
      "name": "python3",
      "display_name": "Python 3"
    },
    "language_info": {
      "name": "python"
    }
  },
  "cells": [
    {
      "cell_type": "code",
      "execution_count": 1,
      "metadata": {
        "id": "zMX2kIOgT8EY"
      },
      "outputs": [],
      "source": [
        "from tensorflow import keras\n",
        "model = keras.models.load_model('/content/drive/MyDrive/NNDL Project/myModel3.h5')"
      ]
    },
    {
      "cell_type": "code",
      "source": [
        "import os\n",
        "import pandas as pd\n",
        "import numpy as np\n",
        "folder_dir = \"/content/drive/MyDrive/NNDL Project/test_shuffle\"\n"
      ],
      "metadata": {
        "id": "9YyGJKvcUYWK"
      },
      "execution_count": 1,
      "outputs": []
    },
    {
      "cell_type": "code",
      "source": [
        "folder_dir"
      ],
      "metadata": {
        "colab": {
          "base_uri": "https://localhost:8080/",
          "height": 36
        },
        "id": "ThCQChPZNJT0",
        "outputId": "d0d520ac-f52e-4d1f-8beb-d6e794f4525b"
      },
      "execution_count": 2,
      "outputs": [
        {
          "output_type": "execute_result",
          "data": {
            "text/plain": [
              "'/content/drive/MyDrive/NNDL Project/test_shuffle'"
            ],
            "application/vnd.google.colaboratory.intrinsic+json": {
              "type": "string"
            }
          },
          "metadata": {},
          "execution_count": 2
        }
      ]
    },
    {
      "cell_type": "code",
      "source": [
        "x=os.listdir(folder_dir)"
      ],
      "metadata": {
        "id": "9WBsJAp8wR9d"
      },
      "execution_count": 3,
      "outputs": []
    },
    {
      "cell_type": "code",
      "source": [
        "x[0].split('.')[0]\n"
      ],
      "metadata": {
        "colab": {
          "base_uri": "https://localhost:8080/",
          "height": 36
        },
        "id": "ij16NEq9yBr1",
        "outputId": "21e28243-05fb-4814-b248-56059fce6f6a"
      },
      "execution_count": 4,
      "outputs": [
        {
          "output_type": "execute_result",
          "data": {
            "text/plain": [
              "'8301'"
            ],
            "application/vnd.google.colaboratory.intrinsic+json": {
              "type": "string"
            }
          },
          "metadata": {},
          "execution_count": 4
        }
      ]
    },
    {
      "cell_type": "code",
      "source": [],
      "metadata": {
        "id": "H20G1bFVyBge"
      },
      "execution_count": 4,
      "outputs": []
    },
    {
      "cell_type": "code",
      "source": [
        "y=sorted(x,key=lambda z:int(z.split('.')[0]))"
      ],
      "metadata": {
        "id": "HBqOymDswtUd"
      },
      "execution_count": 5,
      "outputs": []
    },
    {
      "cell_type": "code",
      "source": [
        "y[0:10]"
      ],
      "metadata": {
        "colab": {
          "base_uri": "https://localhost:8080/"
        },
        "id": "yJ19kFFTyNtc",
        "outputId": "930d8628-0767-4000-8de5-c3f108419f07"
      },
      "execution_count": 6,
      "outputs": [
        {
          "output_type": "execute_result",
          "data": {
            "text/plain": [
              "['0.jpg',\n",
              " '1.jpg',\n",
              " '2.jpg',\n",
              " '3.jpg',\n",
              " '4.jpg',\n",
              " '5.jpg',\n",
              " '6.jpg',\n",
              " '7.jpg',\n",
              " '8.jpg',\n",
              " '9.jpg']"
            ]
          },
          "metadata": {},
          "execution_count": 6
        }
      ]
    },
    {
      "cell_type": "code",
      "source": [
        "import cv2\n",
        "g=0\n",
        "X_test=[]\n",
        "for images in y:\n",
        "  img = cv2.imread(os.path.join(folder_dir, images))\n",
        "  img=img.flatten()/255\n",
        "  X_test.append(img)\n",
        "  g=g+1\n",
        "  if g%200==0:\n",
        "    print(g)"
      ],
      "metadata": {
        "colab": {
          "base_uri": "https://localhost:8080/"
        },
        "id": "YwgVhdZN0N0I",
        "outputId": "d9b4d250-dfe3-409a-9157-962d6bdd601f"
      },
      "execution_count": 9,
      "outputs": [
        {
          "output_type": "stream",
          "name": "stdout",
          "text": [
            "200\n",
            "400\n",
            "600\n",
            "800\n",
            "1000\n",
            "1200\n",
            "1400\n",
            "1600\n",
            "1800\n",
            "2000\n",
            "2200\n",
            "2400\n",
            "2600\n",
            "2800\n",
            "3000\n",
            "3200\n",
            "3400\n",
            "3600\n",
            "3800\n",
            "4000\n",
            "4200\n",
            "4400\n",
            "4600\n",
            "4800\n",
            "5000\n",
            "5200\n",
            "5400\n",
            "5600\n",
            "5800\n",
            "6000\n",
            "6200\n",
            "6400\n",
            "6600\n",
            "6800\n",
            "7000\n",
            "7200\n",
            "7400\n",
            "7600\n",
            "7800\n",
            "8000\n",
            "8200\n",
            "8400\n",
            "8600\n",
            "8800\n",
            "9000\n"
          ]
        }
      ]
    },
    {
      "cell_type": "code",
      "source": [
        "X_test[0]"
      ],
      "metadata": {
        "colab": {
          "base_uri": "https://localhost:8080/"
        },
        "id": "dYMrXAr9XEU4",
        "outputId": "82e8f24e-9e3b-4fa1-b58f-e147119258ff"
      },
      "execution_count": 10,
      "outputs": [
        {
          "output_type": "execute_result",
          "data": {
            "text/plain": [
              "array([0.21960784, 0.54117647, 0.49411765, 0.33333333, 0.6       ,\n",
              "       0.59607843, 0.39607843, 0.55686275, 0.64705882, 0.47843137,\n",
              "       0.58431373, 0.71764706, 0.23137255, 0.32941176, 0.4627451 ,\n",
              "       0.36470588, 0.52156863, 0.59607843, 0.36862745, 0.64313725,\n",
              "       0.61568627, 0.27843137, 0.61176471, 0.5254902 , 0.16078431,\n",
              "       0.47058824, 0.42745098, 0.12941176, 0.38823529, 0.38431373,\n",
              "       0.36470588, 0.51372549, 0.60784314, 0.49803922, 0.60392157,\n",
              "       0.7372549 , 0.41960784, 0.51764706, 0.65098039, 0.28235294,\n",
              "       0.43921569, 0.51372549, 0.33333333, 0.6       , 0.57254902,\n",
              "       0.29411765, 0.62745098, 0.54117647, 0.3372549 , 0.62352941,\n",
              "       0.58431373, 0.15686275, 0.4       , 0.4       , 0.34117647,\n",
              "       0.48235294, 0.57647059, 0.47058824, 0.56862745, 0.70196078,\n",
              "       0.50588235, 0.60392157, 0.7372549 , 0.31372549, 0.47058824,\n",
              "       0.54509804, 0.30196078, 0.56862745, 0.54117647, 0.23921569,\n",
              "       0.56470588, 0.47843137, 0.28627451, 0.54117647, 0.50588235,\n",
              "       0.24705882, 0.46666667, 0.47058824, 0.37647059, 0.50980392,\n",
              "       0.60392157, 0.44313725, 0.54117647, 0.6745098 , 0.42352941,\n",
              "       0.52156863, 0.65490196, 0.43921569, 0.59607843, 0.67058824,\n",
              "       0.34901961, 0.61176471, 0.58431373, 0.23529412, 0.55686275,\n",
              "       0.47058824, 0.3254902 , 0.5372549 , 0.50980392, 0.4745098 ,\n",
              "       0.6627451 , 0.67058824, 0.59215686, 0.70980392, 0.80784314,\n",
              "       0.32156863, 0.40784314, 0.54509804, 0.04313725, 0.14901961,\n",
              "       0.28235294, 0.10980392, 0.2745098 , 0.34901961, 0.21960784,\n",
              "       0.47058824, 0.44705882, 0.28235294, 0.59215686, 0.50980392,\n",
              "       0.35294118, 0.5254902 , 0.50196078, 0.28235294, 0.43137255,\n",
              "       0.44705882, 0.3254902 , 0.42352941, 0.5254902 , 0.0745098 ,\n",
              "       0.16078431, 0.29803922, 0.13333333, 0.24313725, 0.37647059,\n",
              "       0.2627451 , 0.42745098, 0.50196078, 0.31764706, 0.56862745,\n",
              "       0.54509804, 0.25490196, 0.55686275, 0.4745098 , 0.14117647,\n",
              "       0.2627451 , 0.25098039, 0.26666667, 0.38039216, 0.4       ,\n",
              "       0.52941176, 0.61176471, 0.71764706, 0.41176471, 0.49803922,\n",
              "       0.63529412, 0.31764706, 0.43921569, 0.56862745, 0.26666667,\n",
              "       0.44705882, 0.51764706, 0.16470588, 0.41568627, 0.39215686,\n",
              "       0.16470588, 0.45882353, 0.37647059, 0.18823529, 0.28235294,\n",
              "       0.2745098 , 0.35686275, 0.45098039, 0.4745098 , 0.53333333,\n",
              "       0.60784314, 0.71372549, 0.55686275, 0.64313725, 0.78039216,\n",
              "       0.34901961, 0.47843137, 0.60784314, 0.41568627, 0.59607843,\n",
              "       0.66666667, 0.14509804, 0.39607843, 0.37254902, 0.15686275,\n",
              "       0.43921569, 0.36078431])"
            ]
          },
          "metadata": {},
          "execution_count": 10
        }
      ]
    },
    {
      "cell_type": "code",
      "source": [
        "test=X_test"
      ],
      "metadata": {
        "id": "Or397K_4YeiZ"
      },
      "execution_count": 11,
      "outputs": []
    },
    {
      "cell_type": "code",
      "source": [
        "import keras\n",
        "model = keras.models.load_model('/content/drive/MyDrive/NNDL Project/myModel_over_s2.h5')"
      ],
      "metadata": {
        "id": "bkWb5N6b09Ur"
      },
      "execution_count": 72,
      "outputs": []
    },
    {
      "cell_type": "code",
      "source": [
        "y_pred=model.predict(np.array(test))\n"
      ],
      "metadata": {
        "colab": {
          "base_uri": "https://localhost:8080/"
        },
        "id": "Rm3pJuDtZKvc",
        "outputId": "8ee9d587-2df5-4963-f962-9dd60201b08a"
      },
      "execution_count": 73,
      "outputs": [
        {
          "output_type": "stream",
          "name": "stdout",
          "text": [
            "286/286 [==============================] - 1s 4ms/step\n"
          ]
        }
      ]
    },
    {
      "cell_type": "code",
      "source": [
        "max(y_pred[69])"
      ],
      "metadata": {
        "colab": {
          "base_uri": "https://localhost:8080/"
        },
        "id": "3glT_xMEN8iI",
        "outputId": "cf9d806e-c4a3-40b3-9401-9d80ad919051"
      },
      "execution_count": 40,
      "outputs": [
        {
          "output_type": "execute_result",
          "data": {
            "text/plain": [
              "0.83916414"
            ]
          },
          "metadata": {},
          "execution_count": 40
        }
      ]
    },
    {
      "cell_type": "code",
      "source": [
        "y_pred[0][49]"
      ],
      "metadata": {
        "colab": {
          "base_uri": "https://localhost:8080/"
        },
        "id": "LPBU9KvjOaQX",
        "outputId": "1f120c6a-3030-4f51-f0bb-ef7f86274ca7"
      },
      "execution_count": 17,
      "outputs": [
        {
          "output_type": "execute_result",
          "data": {
            "text/plain": [
              "6.343566e-05"
            ]
          },
          "metadata": {},
          "execution_count": 17
        }
      ]
    },
    {
      "cell_type": "code",
      "source": [
        "np.argmax(y_pred[0])"
      ],
      "metadata": {
        "colab": {
          "base_uri": "https://localhost:8080/"
        },
        "id": "iFOWRAGmOSlY",
        "outputId": "1f23a584-0990-488a-f88b-52c6a2f3c611"
      },
      "execution_count": 41,
      "outputs": [
        {
          "output_type": "execute_result",
          "data": {
            "text/plain": [
              "70"
            ]
          },
          "metadata": {},
          "execution_count": 41
        }
      ]
    },
    {
      "cell_type": "code",
      "source": [
        "\n",
        "\n",
        "y_c=[]\n",
        "for i in range(len(y_pred)):\n",
        "  if max(y_pred[i])<=0.6:\n",
        "    y_c.append(90)\n",
        "  else:\n",
        "    y_c.append(np.argmax(y_pred[i]))"
      ],
      "metadata": {
        "id": "OUFOM7AqN6_t"
      },
      "execution_count": 74,
      "outputs": []
    },
    {
      "cell_type": "code",
      "source": [
        "y_classes=np.argmax(y_pred,axis=1)"
      ],
      "metadata": {
        "id": "wNrv2R2famgZ"
      },
      "execution_count": 65,
      "outputs": []
    },
    {
      "cell_type": "code",
      "source": [
        "y_c.count(90)"
      ],
      "metadata": {
        "colab": {
          "base_uri": "https://localhost:8080/"
        },
        "id": "iIRlSt5YO29t",
        "outputId": "584537df-238b-409b-f874-f5cbbc6a8979"
      },
      "execution_count": 75,
      "outputs": [
        {
          "output_type": "execute_result",
          "data": {
            "text/plain": [
              "5143"
            ]
          },
          "metadata": {},
          "execution_count": 75
        }
      ]
    },
    {
      "cell_type": "code",
      "source": [
        "map=\"/content/drive/MyDrive/NNDL Project/Released_Data/sub_classes_mapping.csv\"\n",
        "\n",
        "map_df=pd.read_csv(map)\n",
        "map_df.head()"
      ],
      "metadata": {
        "colab": {
          "base_uri": "https://localhost:8080/",
          "height": 206
        },
        "id": "2jRul43yZlZl",
        "outputId": "eaf4d060-d86d-4856-ee43-132831fb2a9e"
      },
      "execution_count": 22,
      "outputs": [
        {
          "output_type": "execute_result",
          "data": {
            "text/plain": [
              "   index                                           class\n",
              "0      0       Scotch terrier, Scottish terrier, Scottie\n",
              "1      1         African chameleon, Chamaeleo chamaeleon\n",
              "2      2                              standard schnauzer\n",
              "3      3                                        terrapin\n",
              "4      4  great grey owl, great gray owl, Strix nebulosa"
            ],
            "text/html": [
              "\n",
              "  <div id=\"df-ecbcd687-1aed-4f83-a863-549b049de3bd\">\n",
              "    <div class=\"colab-df-container\">\n",
              "      <div>\n",
              "<style scoped>\n",
              "    .dataframe tbody tr th:only-of-type {\n",
              "        vertical-align: middle;\n",
              "    }\n",
              "\n",
              "    .dataframe tbody tr th {\n",
              "        vertical-align: top;\n",
              "    }\n",
              "\n",
              "    .dataframe thead th {\n",
              "        text-align: right;\n",
              "    }\n",
              "</style>\n",
              "<table border=\"1\" class=\"dataframe\">\n",
              "  <thead>\n",
              "    <tr style=\"text-align: right;\">\n",
              "      <th></th>\n",
              "      <th>index</th>\n",
              "      <th>class</th>\n",
              "    </tr>\n",
              "  </thead>\n",
              "  <tbody>\n",
              "    <tr>\n",
              "      <th>0</th>\n",
              "      <td>0</td>\n",
              "      <td>Scotch terrier, Scottish terrier, Scottie</td>\n",
              "    </tr>\n",
              "    <tr>\n",
              "      <th>1</th>\n",
              "      <td>1</td>\n",
              "      <td>African chameleon, Chamaeleo chamaeleon</td>\n",
              "    </tr>\n",
              "    <tr>\n",
              "      <th>2</th>\n",
              "      <td>2</td>\n",
              "      <td>standard schnauzer</td>\n",
              "    </tr>\n",
              "    <tr>\n",
              "      <th>3</th>\n",
              "      <td>3</td>\n",
              "      <td>terrapin</td>\n",
              "    </tr>\n",
              "    <tr>\n",
              "      <th>4</th>\n",
              "      <td>4</td>\n",
              "      <td>great grey owl, great gray owl, Strix nebulosa</td>\n",
              "    </tr>\n",
              "  </tbody>\n",
              "</table>\n",
              "</div>\n",
              "      <button class=\"colab-df-convert\" onclick=\"convertToInteractive('df-ecbcd687-1aed-4f83-a863-549b049de3bd')\"\n",
              "              title=\"Convert this dataframe to an interactive table.\"\n",
              "              style=\"display:none;\">\n",
              "        \n",
              "  <svg xmlns=\"http://www.w3.org/2000/svg\" height=\"24px\"viewBox=\"0 0 24 24\"\n",
              "       width=\"24px\">\n",
              "    <path d=\"M0 0h24v24H0V0z\" fill=\"none\"/>\n",
              "    <path d=\"M18.56 5.44l.94 2.06.94-2.06 2.06-.94-2.06-.94-.94-2.06-.94 2.06-2.06.94zm-11 1L8.5 8.5l.94-2.06 2.06-.94-2.06-.94L8.5 2.5l-.94 2.06-2.06.94zm10 10l.94 2.06.94-2.06 2.06-.94-2.06-.94-.94-2.06-.94 2.06-2.06.94z\"/><path d=\"M17.41 7.96l-1.37-1.37c-.4-.4-.92-.59-1.43-.59-.52 0-1.04.2-1.43.59L10.3 9.45l-7.72 7.72c-.78.78-.78 2.05 0 2.83L4 21.41c.39.39.9.59 1.41.59.51 0 1.02-.2 1.41-.59l7.78-7.78 2.81-2.81c.8-.78.8-2.07 0-2.86zM5.41 20L4 18.59l7.72-7.72 1.47 1.35L5.41 20z\"/>\n",
              "  </svg>\n",
              "      </button>\n",
              "      \n",
              "  <style>\n",
              "    .colab-df-container {\n",
              "      display:flex;\n",
              "      flex-wrap:wrap;\n",
              "      gap: 12px;\n",
              "    }\n",
              "\n",
              "    .colab-df-convert {\n",
              "      background-color: #E8F0FE;\n",
              "      border: none;\n",
              "      border-radius: 50%;\n",
              "      cursor: pointer;\n",
              "      display: none;\n",
              "      fill: #1967D2;\n",
              "      height: 32px;\n",
              "      padding: 0 0 0 0;\n",
              "      width: 32px;\n",
              "    }\n",
              "\n",
              "    .colab-df-convert:hover {\n",
              "      background-color: #E2EBFA;\n",
              "      box-shadow: 0px 1px 2px rgba(60, 64, 67, 0.3), 0px 1px 3px 1px rgba(60, 64, 67, 0.15);\n",
              "      fill: #174EA6;\n",
              "    }\n",
              "\n",
              "    [theme=dark] .colab-df-convert {\n",
              "      background-color: #3B4455;\n",
              "      fill: #D2E3FC;\n",
              "    }\n",
              "\n",
              "    [theme=dark] .colab-df-convert:hover {\n",
              "      background-color: #434B5C;\n",
              "      box-shadow: 0px 1px 3px 1px rgba(0, 0, 0, 0.15);\n",
              "      filter: drop-shadow(0px 1px 2px rgba(0, 0, 0, 0.3));\n",
              "      fill: #FFFFFF;\n",
              "    }\n",
              "  </style>\n",
              "\n",
              "      <script>\n",
              "        const buttonEl =\n",
              "          document.querySelector('#df-ecbcd687-1aed-4f83-a863-549b049de3bd button.colab-df-convert');\n",
              "        buttonEl.style.display =\n",
              "          google.colab.kernel.accessAllowed ? 'block' : 'none';\n",
              "\n",
              "        async function convertToInteractive(key) {\n",
              "          const element = document.querySelector('#df-ecbcd687-1aed-4f83-a863-549b049de3bd');\n",
              "          const dataTable =\n",
              "            await google.colab.kernel.invokeFunction('convertToInteractive',\n",
              "                                                     [key], {});\n",
              "          if (!dataTable) return;\n",
              "\n",
              "          const docLinkHtml = 'Like what you see? Visit the ' +\n",
              "            '<a target=\"_blank\" href=https://colab.research.google.com/notebooks/data_table.ipynb>data table notebook</a>'\n",
              "            + ' to learn more about interactive tables.';\n",
              "          element.innerHTML = '';\n",
              "          dataTable['output_type'] = 'display_data';\n",
              "          await google.colab.output.renderOutput(dataTable, element);\n",
              "          const docLink = document.createElement('div');\n",
              "          docLink.innerHTML = docLinkHtml;\n",
              "          element.appendChild(docLink);\n",
              "        }\n",
              "      </script>\n",
              "    </div>\n",
              "  </div>\n",
              "  "
            ]
          },
          "metadata": {},
          "execution_count": 22
        }
      ]
    },
    {
      "cell_type": "code",
      "source": [
        "x=np.array(map_df['class'])"
      ],
      "metadata": {
        "id": "-DtpYg23aahO"
      },
      "execution_count": 23,
      "outputs": []
    },
    {
      "cell_type": "code",
      "source": [
        "out=[]\n",
        "for i in y_c:\n",
        "  if i!=90:\n",
        "    out.append(x[i])\n",
        "  else:\n",
        "    out.append('novel')"
      ],
      "metadata": {
        "id": "Luh-CZLlafHM"
      },
      "execution_count": 76,
      "outputs": []
    },
    {
      "cell_type": "code",
      "source": [
        "out=[]\n",
        "for i in y_classes:\n",
        "  out.append(x[i])"
      ],
      "metadata": {
        "id": "Ucim9UGTashY",
        "colab": {
          "base_uri": "https://localhost:8080/",
          "height": 200
        },
        "outputId": "0057d6ae-f241-4d62-ab43-30e458b46b7e"
      },
      "execution_count": 58,
      "outputs": [
        {
          "output_type": "error",
          "ename": "NameError",
          "evalue": "ignored",
          "traceback": [
            "\u001b[0;31m---------------------------------------------------------------------------\u001b[0m",
            "\u001b[0;31mNameError\u001b[0m                                 Traceback (most recent call last)",
            "\u001b[0;32m<ipython-input-58-135b3dab6a11>\u001b[0m in \u001b[0;36m<module>\u001b[0;34m\u001b[0m\n\u001b[1;32m      1\u001b[0m \u001b[0mout\u001b[0m\u001b[0;34m=\u001b[0m\u001b[0;34m[\u001b[0m\u001b[0;34m]\u001b[0m\u001b[0;34m\u001b[0m\u001b[0;34m\u001b[0m\u001b[0m\n\u001b[0;32m----> 2\u001b[0;31m \u001b[0;32mfor\u001b[0m \u001b[0mi\u001b[0m \u001b[0;32min\u001b[0m \u001b[0my_classes\u001b[0m\u001b[0;34m:\u001b[0m\u001b[0;34m\u001b[0m\u001b[0;34m\u001b[0m\u001b[0m\n\u001b[0m\u001b[1;32m      3\u001b[0m   \u001b[0mout\u001b[0m\u001b[0;34m.\u001b[0m\u001b[0mappend\u001b[0m\u001b[0;34m(\u001b[0m\u001b[0mx\u001b[0m\u001b[0;34m[\u001b[0m\u001b[0mi\u001b[0m\u001b[0;34m]\u001b[0m\u001b[0;34m)\u001b[0m\u001b[0;34m\u001b[0m\u001b[0;34m\u001b[0m\u001b[0m\n",
            "\u001b[0;31mNameError\u001b[0m: name 'y_classes' is not defined"
          ]
        }
      ]
    },
    {
      "cell_type": "code",
      "source": [
        "data2={\n",
        "    \"predictions\":out\n",
        "}\n",
        "\n",
        "output=pd.DataFrame(data2)"
      ],
      "metadata": {
        "id": "PnLD19Kxai3r"
      },
      "execution_count": 77,
      "outputs": []
    },
    {
      "cell_type": "code",
      "source": [
        "output.to_csv(\"predictions_mlp_dum.csv\",index=False)"
      ],
      "metadata": {
        "id": "gqq5mQnkaqip"
      },
      "execution_count": 78,
      "outputs": []
    },
    {
      "cell_type": "code",
      "source": [
        "out=[]\n",
        "for i in range(9127):\n",
        "  out.append('novel')"
      ],
      "metadata": {
        "id": "dnRJCifUazWU"
      },
      "execution_count": null,
      "outputs": []
    },
    {
      "cell_type": "code",
      "source": [
        "import pandas as pd\n",
        "data2={\n",
        "    \"predictions\":out\n",
        "}\n",
        "\n",
        "output=pd.DataFrame(data2)"
      ],
      "metadata": {
        "id": "E4zPBPzO0kAw"
      },
      "execution_count": null,
      "outputs": []
    },
    {
      "cell_type": "code",
      "source": [
        "output.to_csv(\"predictions_dummy.csv\",index=False)"
      ],
      "metadata": {
        "id": "gjVr0Qg80qeD"
      },
      "execution_count": null,
      "outputs": []
    },
    {
      "cell_type": "code",
      "source": [],
      "metadata": {
        "id": "Y25UH2BU0tRb"
      },
      "execution_count": null,
      "outputs": []
    }
  ]
}